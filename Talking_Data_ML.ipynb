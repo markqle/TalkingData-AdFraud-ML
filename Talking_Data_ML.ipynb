{
  "cells": [
    {
      "cell_type": "code",
      "execution_count": 1,
      "metadata": {
        "colab": {
          "base_uri": "https://localhost:8080/"
        },
        "id": "WeaazQd-totD",
        "outputId": "42f0697f-29db-4708-8543-0dc18abe79c2"
      },
      "outputs": [
        {
          "name": "stdout",
          "output_type": "stream",
          "text": [
            "Mounted at /content/drive\n"
          ]
        }
      ],
      "source": [
        "# Mounting Google Drive\n",
        "# from google.colab import drive\n",
        "# drive.mount('/content/drive')\n"
      ]
    },
    {
      "cell_type": "code",
      "execution_count": 122,
      "metadata": {
        "colab": {
          "base_uri": "https://localhost:8080/"
        },
        "id": "Hd5zs9RGtqeD",
        "outputId": "81547fd0-239b-49a7-80a2-f53753b49706"
      },
      "outputs": [],
      "source": [
        "import pandas as pd\n",
        "import numpy as np\n",
        "import seaborn as sns\n",
        "import random\n",
        "import matplotlib.pyplot as plt\n",
        "from matplotlib import axis\n",
        "%matplotlib inline\n",
        "from sklearn.model_selection import train_test_split\n",
        "from sklearn import preprocessing\n",
        "from imblearn.pipeline import Pipeline\n",
        "from sklearn.datasets import make_blobs\n",
        "from sklearn.datasets import make_regression\n",
        "from sklearn.tree import DecisionTreeClassifier\n",
        "from sklearn.ensemble import RandomForestClassifier\n",
        "from imblearn.over_sampling import RandomOverSampler\n",
        "from sklearn.linear_model import LogisticRegression\n",
        "from sklearn.model_selection import GridSearchCV\n",
        "from sklearn.metrics import classification_report\n",
        "#!pip install category_encoders\n",
        "from sklearn.compose import ColumnTransformer\n",
        "from category_encoders import TargetEncoder\n",
        "from category_encoders import CountEncoder\n",
        "from sklearn import tree\n",
        "from sklearn.tree import DecisionTreeClassifier\n",
        "from mlxtend.plotting import plot_confusion_matrix\n",
        "from sklearn.metrics import classification_report\n",
        "from sklearn.metrics import precision_recall_curve, f1_score\n",
        "from matplotlib import pyplot\n"
      ]
    },
    {
      "attachments": {},
      "cell_type": "markdown",
      "metadata": {
        "id": "Jyx9T790uDig"
      },
      "source": [
        "# Import Data"
      ]
    },
    {
      "attachments": {},
      "cell_type": "markdown",
      "metadata": {
        "id": "A-WF-9LBunxx"
      },
      "source": [
        "## Data Dictionary <br>\n",
        "•\tip: ip address of click. <br>\n",
        "•\tapp: app id for marketing. <br>\n",
        "•\tdevice: device type id of user mobile phone (e.g., iphone 6 plus, iphone 7, huawei mate 7, etc.) <br>\n",
        "•\tos: os version id of user mobile phone <br>\n",
        "•\tchannel: channel id of mobile ad publisher <br>\n",
        "•\tclick_time: timestamp of click (UTC) <br>\n",
        "•\tattributed_time: if user download the app for after clicking an ad, this is the time of the app download <br>\n",
        "•\tis_attributed: the target that is to be predicted, indicating the app was downloaded <br>\n",
        "Note that ip, app, device, os, and channel are encoded. <br>\n",
        "The test data is similar, with the following differences: <br>\n",
        "•\tclick_id: reference for making predictions <br>\n",
        "•\tis_attributed: not included <br>\n",
        "\n",
        "* Note: stratify = meaning equal distribution\n"
      ]
    },
    {
      "attachments": {},
      "cell_type": "markdown",
      "metadata": {
        "id": "RmwjUiUfxTC5"
      },
      "source": [
        "Statistical Data Types\n",
        "- Numerical\n",
        "    - Continuous\n",
        "        - ip\n",
        "        - click_time\n",
        "        - attributed_time\n",
        "    - Discrete\n",
        "        - app\n",
        "        - device\n",
        "        - os\n",
        "        - channel"
      ]
    },
    {
      "cell_type": "code",
      "execution_count": 2,
      "metadata": {},
      "outputs": [
        {
          "name": "stdout",
          "output_type": "stream",
          "text": [
            "       ip  app  device  os  channel           click_time attributed_time   \n",
            "0   83230    3       1  13      379  2017-11-06 14:32:21             NaN  \\\n",
            "1   17357    3       1  19      379  2017-11-06 14:33:34             NaN   \n",
            "2   35810    3       1  13      379  2017-11-06 14:34:12             NaN   \n",
            "3   45745   14       1  13      478  2017-11-06 14:34:52             NaN   \n",
            "4  161007    3       1  13      379  2017-11-06 14:35:08             NaN   \n",
            "\n",
            "   is_attributed  \n",
            "0              0  \n",
            "1              0  \n",
            "2              0  \n",
            "3              0  \n",
            "4              0  \n",
            "             ip  app  device  os  channel           click_time   \n",
            "1000000    2698   25       1  30      259  2017-11-06 16:21:51  \\\n",
            "1000001    5729    2       1  19      237  2017-11-06 16:21:51   \n",
            "1000002  122891    3       1  35      280  2017-11-06 16:21:51   \n",
            "1000003  105433   15       2  25      245  2017-11-06 16:21:51   \n",
            "1000004  191894   20       2  15      259  2017-11-06 16:21:51   \n",
            "\n",
            "        attributed_time  is_attributed  \n",
            "1000000             NaN              0  \n",
            "1000001             NaN              0  \n",
            "1000002             NaN              0  \n",
            "1000003             NaN              0  \n",
            "1000004             NaN              0  \n",
            "             ip  app  device   os  channel           click_time   \n",
            "2000000  120575   18    3032  607      107  2017-11-06 16:49:51  \\\n",
            "2000001  151447    3       1   17      442  2017-11-06 16:49:51   \n",
            "2000002   97616    8       1   16      145  2017-11-06 16:49:51   \n",
            "2000003   55910    2       1   13      364  2017-11-06 16:49:51   \n",
            "2000004  147046    3       1   13      173  2017-11-06 16:49:51   \n",
            "\n",
            "        attributed_time  is_attributed  \n",
            "2000000             NaN              0  \n",
            "2000001             NaN              0  \n",
            "2000002             NaN              0  \n",
            "2000003             NaN              0  \n",
            "2000004             NaN              0  \n",
            "             ip  app  device  os  channel           click_time   \n",
            "3000000   81076    2       1   8      212  2017-11-06 17:28:00  \\\n",
            "3000001   51992   12       1  13      259  2017-11-06 17:28:00   \n",
            "3000002   39780    9       1  22      215  2017-11-06 17:28:00   \n",
            "3000003   11120   27       1  19      122  2017-11-06 17:28:00   \n",
            "3000004  161855    2       1  20      435  2017-11-06 17:28:00   \n",
            "\n",
            "        attributed_time  is_attributed  \n",
            "3000000             NaN              0  \n",
            "3000001             NaN              0  \n",
            "3000002             NaN              0  \n",
            "3000003             NaN              0  \n",
            "3000004             NaN              0  \n",
            "             ip  app  device  os  channel           click_time   \n",
            "4000000   26995  151       0  50      347  2017-11-06 18:31:23  \\\n",
            "4000001  100929   15       1   3      245  2017-11-06 18:31:23   \n",
            "4000002   64142    3       1  13      137  2017-11-06 18:31:23   \n",
            "4000003  145883    2       1  13      452  2017-11-06 18:31:23   \n",
            "4000004  146535   18       1  12      121  2017-11-06 18:31:23   \n",
            "\n",
            "        attributed_time  is_attributed  \n",
            "4000000             NaN              0  \n",
            "4000001             NaN              0  \n",
            "4000002             NaN              0  \n",
            "4000003             NaN              0  \n",
            "4000004             NaN              0  \n",
            "             ip  app  device  os  channel           click_time   \n",
            "5000000   89913    2       1   9      469  2017-11-06 20:27:57  \\\n",
            "5000001  114235   26       1  13      121  2017-11-06 20:27:57   \n",
            "5000002   18839    3       1  19      442  2017-11-06 20:27:57   \n",
            "5000003  105580   15       1  13      245  2017-11-06 20:27:57   \n",
            "5000004  100309    1       1  25       17  2017-11-06 20:27:57   \n",
            "\n",
            "        attributed_time  is_attributed  \n",
            "5000000             NaN              0  \n",
            "5000001             NaN              0  \n",
            "5000002             NaN              0  \n",
            "5000003             NaN              0  \n",
            "5000004             NaN              0  \n",
            "            ip  app  device  os  channel           click_time attributed_time   \n",
            "6000000  12207   17       1   9      280  2017-11-06 22:18:53             NaN  \\\n",
            "6000001  53667    3       1  19      466  2017-11-06 22:18:53             NaN   \n",
            "6000002  99754    1       1  11      134  2017-11-06 22:18:53             NaN   \n",
            "6000003  11777   12       1  19      145  2017-11-06 22:18:53             NaN   \n",
            "6000004  84901   12       1  19      178  2017-11-06 22:18:53             NaN   \n",
            "\n",
            "         is_attributed  \n",
            "6000000              0  \n",
            "6000001              0  \n",
            "6000002              0  \n",
            "6000003              0  \n",
            "6000004              0  \n",
            "             ip  app  device  os  channel           click_time   \n",
            "7000000   19870    2       1  13      435  2017-11-06 23:01:38  \\\n",
            "7000001   50314   15       1  17      265  2017-11-06 23:01:38   \n",
            "7000002  183513   15       1  13      153  2017-11-06 23:01:38   \n",
            "7000003   35731   12       1  19      178  2017-11-06 23:01:38   \n",
            "7000004  186444   12       1   3      265  2017-11-06 23:01:38   \n",
            "\n",
            "        attributed_time  is_attributed  \n",
            "7000000             NaN              0  \n",
            "7000001             NaN              0  \n",
            "7000002             NaN              0  \n",
            "7000003             NaN              0  \n",
            "7000004             NaN              0  \n",
            "             ip  app  device  os  channel           click_time   \n",
            "8000000  101988   12       1  31      259  2017-11-06 23:30:29  \\\n",
            "8000001   22829    2       1  15      452  2017-11-06 23:30:29   \n",
            "8000002  104092   15       1  13      245  2017-11-06 23:30:29   \n",
            "8000003  108833    2       1  18      435  2017-11-06 23:30:29   \n",
            "8000004   97566   14       1   9      463  2017-11-06 23:30:29   \n",
            "\n",
            "        attributed_time  is_attributed  \n",
            "8000000             NaN              0  \n",
            "8000001             NaN              0  \n",
            "8000002             NaN              0  \n",
            "8000003             NaN              0  \n",
            "8000004             NaN              0  \n",
            "             ip  app  device  os  channel           click_time   \n",
            "9000000  167394    8       1  41      145  2017-11-06 23:53:26  \\\n",
            "9000001   53454   12       2  18      178  2017-11-06 23:53:26   \n",
            "9000002  197989   14       1  19      349  2017-11-06 23:53:26   \n",
            "9000003   25236    3       1  53      115  2017-11-06 23:53:26   \n",
            "9000004   62094   15       1  19      140  2017-11-06 23:53:26   \n",
            "\n",
            "        attributed_time  is_attributed  \n",
            "9000000             NaN              0  \n",
            "9000001             NaN              0  \n",
            "9000002             NaN              0  \n",
            "9000003             NaN              0  \n",
            "9000004             NaN              0  \n",
            "              ip  app  device  os  channel           click_time   \n",
            "10000000  117021   15       1  22      245  2017-11-07 00:12:03  \\\n",
            "10000001    5348    3       1  13      211  2017-11-07 00:12:03   \n",
            "10000002   27815    2       1  19      435  2017-11-07 00:12:03   \n",
            "10000003   80306    1       1  22      118  2017-11-07 00:12:03   \n",
            "10000004  115066    3       1  13      489  2017-11-07 00:12:04   \n",
            "\n",
            "         attributed_time  is_attributed  \n",
            "10000000             NaN              0  \n",
            "10000001             NaN              0  \n",
            "10000002             NaN              0  \n",
            "10000003             NaN              0  \n",
            "10000004             NaN              0  \n",
            "              ip  app  device  os  channel           click_time   \n",
            "11000000   23445   11       1  13      319  2017-11-07 00:28:25  \\\n",
            "11000001  168416   18       1  19      107  2017-11-07 00:28:25   \n",
            "11000002   67446   12       1  19      178  2017-11-07 00:28:25   \n",
            "11000003   13034    3       2  19      137  2017-11-07 00:28:25   \n",
            "11000004   75200   13       1   8      477  2017-11-07 00:28:25   \n",
            "\n",
            "         attributed_time  is_attributed  \n",
            "11000000             NaN              0  \n",
            "11000001             NaN              0  \n",
            "11000002             NaN              0  \n",
            "11000003             NaN              0  \n",
            "11000004             NaN              0  \n",
            "              ip  app  device  os  channel           click_time   \n",
            "12000000  121486   15       1  42      379  2017-11-07 00:44:28  \\\n",
            "12000001  211003    3       1  18      371  2017-11-07 00:44:28   \n",
            "12000002   63960    3       1  27      379  2017-11-07 00:44:28   \n",
            "12000003  176580    9       1  19      215  2017-11-07 00:44:28   \n",
            "12000004  209663   18       1  46      121  2017-11-07 00:44:28   \n",
            "\n",
            "         attributed_time  is_attributed  \n",
            "12000000             NaN              0  \n",
            "12000001             NaN              0  \n",
            "12000002             NaN              0  \n",
            "12000003             NaN              0  \n",
            "12000004             NaN              0  \n",
            "             ip  app  device  os  channel           click_time   \n",
            "13000000  30515   18       1  10      107  2017-11-07 01:01:24  \\\n",
            "13000001  48715    9       1  11      134  2017-11-07 01:01:24   \n",
            "13000002  74276   18       1   1      107  2017-11-07 01:01:24   \n",
            "13000003  98374    3       1  19      130  2017-11-07 01:01:24   \n",
            "13000004  78998    6       1   3      459  2017-11-07 01:01:24   \n",
            "\n",
            "         attributed_time  is_attributed  \n",
            "13000000             NaN              0  \n",
            "13000001             NaN              0  \n",
            "13000002             NaN              0  \n",
            "13000003             NaN              0  \n",
            "13000004             NaN              0  \n",
            "              ip  app  device  os  channel           click_time   \n",
            "14000000   94471    9       1  15      334  2017-11-07 01:19:11  \\\n",
            "14000001  207891   11       1  19      319  2017-11-07 01:19:11   \n",
            "14000002  115557    2       1  37      205  2017-11-07 01:19:11   \n",
            "14000003   20379    9       1   9      244  2017-11-07 01:19:11   \n",
            "14000004   50197   14       1  19      463  2017-11-07 01:19:11   \n",
            "\n",
            "         attributed_time  is_attributed  \n",
            "14000000             NaN              0  \n",
            "14000001             NaN              0  \n",
            "14000002             NaN              0  \n",
            "14000003             NaN              0  \n",
            "14000004             NaN              0  \n",
            "              ip  app  device  os  channel           click_time   \n",
            "15000000  150614   21       1   8      128  2017-11-07 01:37:13  \\\n",
            "15000001   43086   12       1  19      178  2017-11-07 01:37:13   \n",
            "15000002   68664   15       1  35      140  2017-11-07 01:37:13   \n",
            "15000003   93089   15       1  13      265  2017-11-07 01:37:13   \n",
            "15000004   54934    3       1  13      280  2017-11-07 01:37:13   \n",
            "\n",
            "         attributed_time  is_attributed  \n",
            "15000000             NaN              0  \n",
            "15000001             NaN              0  \n",
            "15000002             NaN              0  \n",
            "15000003             NaN              0  \n",
            "15000004             NaN              0  \n",
            "             ip  app  device  os  channel           click_time   \n",
            "16000000  88753   23       1  18      153  2017-11-07 01:55:50  \\\n",
            "16000001  81138   18       1  17      439  2017-11-07 01:55:50   \n",
            "16000002  63001   20       1  19      259  2017-11-07 01:55:50   \n",
            "16000003  24904    9       1  30      232  2017-11-07 01:55:50   \n",
            "16000004  63001   24       1  19      105  2017-11-07 01:55:50   \n",
            "\n",
            "         attributed_time  is_attributed  \n",
            "16000000             NaN              0  \n",
            "16000001             NaN              0  \n",
            "16000002             NaN              0  \n",
            "16000003             NaN              0  \n",
            "16000004             NaN              0  \n",
            "              ip  app  device   os  channel           click_time   \n",
            "17000000  127531   64       1    9      459  2017-11-07 02:14:46  \\\n",
            "17000001   39784   18    3032  607      107  2017-11-07 02:14:46   \n",
            "17000002   19757   22       1    6      496  2017-11-07 02:14:46   \n",
            "17000003   10920    9       1   19      215  2017-11-07 02:14:46   \n",
            "17000004   17231    3       1    3      280  2017-11-07 02:14:46   \n",
            "\n",
            "         attributed_time  is_attributed  \n",
            "17000000             NaN              0  \n",
            "17000001             NaN              0  \n",
            "17000002             NaN              0  \n",
            "17000003             NaN              0  \n",
            "17000004             NaN              0  \n",
            "              ip  app  device  os  channel           click_time   \n",
            "18000000   84094   28       1  35      135  2017-11-07 02:34:08  \\\n",
            "18000001   48212    2       1  11      401  2017-11-07 02:34:08   \n",
            "18000002   77550   22       1   3      496  2017-11-07 02:34:08   \n",
            "18000003   58357    3       1  22      280  2017-11-07 02:34:08   \n",
            "18000004  133522   15       1   6        3  2017-11-07 02:34:08   \n",
            "\n",
            "         attributed_time  is_attributed  \n",
            "18000000             NaN              0  \n",
            "18000001             NaN              0  \n",
            "18000002             NaN              0  \n",
            "18000003             NaN              0  \n",
            "18000004             NaN              0  \n",
            "              ip  app  device  os  channel           click_time   \n",
            "19000000  120312   15       1  13      412  2017-11-07 02:53:55  \\\n",
            "19000001   33740   18       1  10      134  2017-11-07 02:53:55   \n",
            "19000002  147164   15       1   6        3  2017-11-07 02:53:55   \n",
            "19000003  202130    2       1  18      477  2017-11-07 02:53:55   \n",
            "19000004   31393   18       1  30      439  2017-11-07 02:53:55   \n",
            "\n",
            "         attributed_time  is_attributed  \n",
            "19000000             NaN              0  \n",
            "19000001             NaN              0  \n",
            "19000002             NaN              0  \n",
            "19000003             NaN              0  \n",
            "19000004             NaN              0  \n",
            "              ip  app  device  os  channel           click_time   \n",
            "20000000   66793    9       1  19      442  2017-11-07 03:12:43  \\\n",
            "20000001   20970    3       1  19      115  2017-11-07 03:12:43   \n",
            "20000002   49197   18       1   6      134  2017-11-07 03:12:43   \n",
            "20000003  116581   12       1  13      259  2017-11-07 03:12:43   \n",
            "20000004   38575   15       1  19      386  2017-11-07 03:12:43   \n",
            "\n",
            "         attributed_time  is_attributed  \n",
            "20000000             NaN              0  \n",
            "20000001             NaN              0  \n",
            "20000002             NaN              0  \n",
            "20000003             NaN              0  \n",
            "20000004             NaN              0  \n",
            "              ip  app  device  os  channel           click_time   \n",
            "21000000   47699   28       1  25      135  2017-11-07 03:31:50  \\\n",
            "21000001  179337   15       1   4      245  2017-11-07 03:31:50   \n",
            "21000002   67122    3       1  15       19  2017-11-07 03:31:50   \n",
            "21000003    7794    3       1  12      424  2017-11-07 03:31:50   \n",
            "21000004   14636    3       1   8      409  2017-11-07 03:31:50   \n",
            "\n",
            "         attributed_time  is_attributed  \n",
            "21000000             NaN              0  \n",
            "21000001             NaN              0  \n",
            "21000002             NaN              0  \n",
            "21000003             NaN              0  \n",
            "21000004             NaN              0  \n",
            "              ip  app  device  os  channel           click_time   \n",
            "22000000  119369    9       1  19      232  2017-11-07 03:50:14  \\\n",
            "22000001  113418   27       1  96      153  2017-11-07 03:50:14   \n",
            "22000002   19188   12       1  10      497  2017-11-07 03:50:14   \n",
            "22000003   87066   15       1  13      245  2017-11-07 03:50:14   \n",
            "22000004   74670   18       1  28      107  2017-11-07 03:50:14   \n",
            "\n",
            "         attributed_time  is_attributed  \n",
            "22000000             NaN              0  \n",
            "22000001             NaN              0  \n",
            "22000002             NaN              0  \n",
            "22000003             NaN              0  \n",
            "22000004             NaN              0  \n",
            "              ip  app  device  os  channel           click_time   \n",
            "23000000   25679    2       1  19      205  2017-11-07 04:08:04  \\\n",
            "23000001  178768   18       1  27      107  2017-11-07 04:08:04   \n",
            "23000002  185017   11       1  13      469  2017-11-07 04:08:04   \n",
            "23000003  125261    8       1  22      145  2017-11-07 04:08:04   \n",
            "23000004   48018   12       1  17      219  2017-11-07 04:08:04   \n",
            "\n",
            "         attributed_time  is_attributed  \n",
            "23000000             NaN              0  \n",
            "23000001             NaN              0  \n",
            "23000002             NaN              0  \n",
            "23000003             NaN              0  \n",
            "23000004             NaN              0  \n",
            "              ip  app  device  os  channel           click_time   \n",
            "24000000  143615   12       1  20      178  2017-11-07 04:24:44  \\\n",
            "24000001   34075    2       1  16      212  2017-11-07 04:24:44   \n",
            "24000002  199423   11       1  16      325  2017-11-07 04:24:44   \n",
            "24000003   58891    9       1  19      232  2017-11-07 04:24:44   \n",
            "24000004  159413    2       1  19      122  2017-11-07 04:24:44   \n",
            "\n",
            "         attributed_time  is_attributed  \n",
            "24000000             NaN              0  \n",
            "24000001             NaN              0  \n",
            "24000002             NaN              0  \n",
            "24000003             NaN              0  \n",
            "24000004             NaN              0  \n",
            "              ip  app  device  os  channel           click_time   \n",
            "25000000  113822   18       1  18      121  2017-11-07 04:40:48  \\\n",
            "25000001  212413    3       1  47      409  2017-11-07 04:40:48   \n",
            "25000002  194040   15       1  19      386  2017-11-07 04:40:48   \n",
            "25000003   87846    3       1  17      280  2017-11-07 04:40:48   \n",
            "25000004   83524    2       1   3      219  2017-11-07 04:40:48   \n",
            "\n",
            "         attributed_time  is_attributed  \n",
            "25000000             NaN              0  \n",
            "25000001             NaN              0  \n",
            "25000002             NaN              0  \n",
            "25000003             NaN              0  \n",
            "25000004             NaN              0  \n",
            "              ip  app  device  os  channel           click_time   \n",
            "26000000  147957    1       1  17      134  2017-11-07 04:56:54  \\\n",
            "26000001  166616   28       1  13      135  2017-11-07 04:56:54   \n",
            "26000002  112061    2       1  18      205  2017-11-07 04:56:54   \n",
            "26000003  206707   26       1  19      121  2017-11-07 04:56:54   \n",
            "26000004   72110    2       1  19      477  2017-11-07 04:56:54   \n",
            "\n",
            "         attributed_time  is_attributed  \n",
            "26000000             NaN              0  \n",
            "26000001             NaN              0  \n",
            "26000002             NaN              0  \n",
            "26000003             NaN              0  \n",
            "26000004             NaN              0  \n",
            "              ip  app  device  os  channel           click_time   \n",
            "27000000  211075   15       1  13      430  2017-11-07 05:14:16  \\\n",
            "27000001  187189   25       1  19      259  2017-11-07 05:14:16   \n",
            "27000002  142464    3       1  19      280  2017-11-07 05:14:16   \n",
            "27000003   56126    2       1   1      364  2017-11-07 05:14:16   \n",
            "27000004   25353    3       1   1      173  2017-11-07 05:14:16   \n",
            "\n",
            "         attributed_time  is_attributed  \n",
            "27000000             NaN              0  \n",
            "27000001             NaN              0  \n",
            "27000002             NaN              0  \n",
            "27000003             NaN              0  \n",
            "27000004             NaN              0  \n",
            "              ip  app  device  os  channel           click_time   \n",
            "28000000   48590   21       1  12      128  2017-11-07 05:32:54  \\\n",
            "28000001   37972    3       1   6      280  2017-11-07 05:32:54   \n",
            "28000002   17131   18       1   8      107  2017-11-07 05:32:54   \n",
            "28000003   26069   12       1  25      178  2017-11-07 05:32:54   \n",
            "28000004  108073    3       1  13      280  2017-11-07 05:32:54   \n",
            "\n",
            "         attributed_time  is_attributed  \n",
            "28000000             NaN              0  \n",
            "28000001             NaN              0  \n",
            "28000002             NaN              0  \n",
            "28000003             NaN              0  \n",
            "28000004             NaN              0  \n",
            "              ip  app  device  os  channel           click_time   \n",
            "29000000  203228    1       1  18      153  2017-11-07 05:51:58  \\\n",
            "29000001  123855   18       1  17      107  2017-11-07 05:51:58   \n",
            "29000002   98365   18       1  18      107  2017-11-07 05:51:58   \n",
            "29000003   86767   12       1  32      265  2017-11-07 05:51:58   \n",
            "29000004   66507   13       1  15      477  2017-11-07 05:51:58   \n",
            "\n",
            "         attributed_time  is_attributed  \n",
            "29000000             NaN              0  \n",
            "29000001             NaN              0  \n",
            "29000002             NaN              0  \n",
            "29000003             NaN              0  \n",
            "29000004             NaN              0  \n",
            "              ip  app  device  os  channel           click_time   \n",
            "30000000  114719   14       1  15      489  2017-11-07 06:11:54  \\\n",
            "30000001   73213    2       1  19      122  2017-11-07 06:11:54   \n",
            "30000002   34036    3       1  19      280  2017-11-07 06:11:54   \n",
            "30000003   64202   15       1  41      315  2017-11-07 06:11:54   \n",
            "30000004    7647   18       1  19      134  2017-11-07 06:11:54   \n",
            "\n",
            "         attributed_time  is_attributed  \n",
            "30000000             NaN              0  \n",
            "30000001             NaN              0  \n",
            "30000002             NaN              0  \n",
            "30000003             NaN              0  \n",
            "30000004             NaN              0  \n",
            "              ip  app  device  os  channel           click_time   \n",
            "31000000   73516    2       1  30      122  2017-11-07 06:32:19  \\\n",
            "31000001   68626   11       1   9      481  2017-11-07 06:32:19   \n",
            "31000002    5492   14       1  19      379  2017-11-07 06:32:19   \n",
            "31000003   92820   32       1  41      376  2017-11-07 06:32:19   \n",
            "31000004  202230    3       1  13      280  2017-11-07 06:32:19   \n",
            "\n",
            "         attributed_time  is_attributed  \n",
            "31000000             NaN              0  \n",
            "31000001             NaN              0  \n",
            "31000002             NaN              0  \n",
            "31000003             NaN              0  \n",
            "31000004             NaN              0  \n",
            "              ip  app  device  os  channel           click_time   \n",
            "32000000   72224   12       1  19      259  2017-11-07 06:53:02  \\\n",
            "32000001  193448    3       1  13      115  2017-11-07 06:53:02   \n",
            "32000002   40440    1       1  19      178  2017-11-07 06:53:02   \n",
            "32000003   52516    9       1  13      334  2017-11-07 06:53:02   \n",
            "32000004  103153   25       1  19      259  2017-11-07 06:53:02   \n",
            "\n",
            "         attributed_time  is_attributed  \n",
            "32000000             NaN              0  \n",
            "32000001             NaN              0  \n",
            "32000002             NaN              0  \n",
            "32000003             NaN              0  \n",
            "32000004             NaN              0  \n",
            "              ip  app  device  os  channel           click_time   \n",
            "33000000  115681   64       1  41      459  2017-11-07 07:13:53  \\\n",
            "33000001  106641    3       1  35      280  2017-11-07 07:13:53   \n",
            "33000002  119083   12       1  23      259  2017-11-07 07:13:53   \n",
            "33000003  111715   27       1  17      122  2017-11-07 07:13:53   \n",
            "33000004  122145    9       1  13      334  2017-11-07 07:13:53   \n",
            "\n",
            "         attributed_time  is_attributed  \n",
            "33000000             NaN              0  \n",
            "33000001             NaN              0  \n",
            "33000002             NaN              0  \n",
            "33000003             NaN              0  \n",
            "33000004             NaN              0  \n",
            "              ip  app  device  os  channel           click_time   \n",
            "34000000   20155    2       1  13      219  2017-11-07 07:34:32  \\\n",
            "34000001    5178   12       2  37      265  2017-11-07 07:34:32   \n",
            "34000002  209908    9       1  32      234  2017-11-07 07:34:32   \n",
            "34000003   92712   12       1  34      326  2017-11-07 07:34:32   \n",
            "34000004   72865    3       1  30      280  2017-11-07 07:34:32   \n",
            "\n",
            "         attributed_time  is_attributed  \n",
            "34000000             NaN              0  \n",
            "34000001             NaN              0  \n",
            "34000002             NaN              0  \n",
            "34000003             NaN              0  \n",
            "34000004             NaN              0  \n",
            "              ip  app  device  os  channel           click_time   \n",
            "35000000  119369    1       1  10      153  2017-11-07 07:54:53  \\\n",
            "35000001   54287   18       1  40      107  2017-11-07 07:54:53   \n",
            "35000002  126331    3       1  19      424  2017-11-07 07:54:53   \n",
            "35000003   93512    9       2   9      234  2017-11-07 07:54:53   \n",
            "35000004  120283   21       1  22      128  2017-11-07 07:54:53   \n",
            "\n",
            "         attributed_time  is_attributed  \n",
            "35000000             NaN              0  \n",
            "35000001             NaN              0  \n",
            "35000002             NaN              0  \n",
            "35000003             NaN              0  \n",
            "35000004             NaN              0  \n",
            "              ip  app  device  os  channel           click_time   \n",
            "36000000   79160    3       1   1      280  2017-11-07 08:15:19  \\\n",
            "36000001  204788   21       1   3      128  2017-11-07 08:15:19   \n",
            "36000002   86294    2       1  19      435  2017-11-07 08:15:19   \n",
            "36000003  212182    3       1  17      379  2017-11-07 08:15:19   \n",
            "36000004  190924   12       1  32      259  2017-11-07 08:15:19   \n",
            "\n",
            "         attributed_time  is_attributed  \n",
            "36000000             NaN              0  \n",
            "36000001             NaN              0  \n",
            "36000002             NaN              0  \n",
            "36000003             NaN              0  \n",
            "36000004             NaN              0  \n",
            "              ip  app  device  os  channel           click_time   \n",
            "37000000  173155    3       1  19      452  2017-11-07 08:37:31  \\\n",
            "37000001   46699    3       1  13      452  2017-11-07 08:37:31   \n",
            "37000002   63055   64       1  18      459  2017-11-07 08:37:31   \n",
            "37000003   71458   18       1  18      134  2017-11-07 08:37:31   \n",
            "37000004    8790   14       1  26      401  2017-11-07 08:37:31   \n",
            "\n",
            "         attributed_time  is_attributed  \n",
            "37000000             NaN              0  \n",
            "37000001             NaN              0  \n",
            "37000002             NaN              0  \n",
            "37000003             NaN              0  \n",
            "37000004             NaN              0  \n",
            "             ip  app  device  os  channel           click_time   \n",
            "38000000  63091   46       0  38      347  2017-11-07 08:58:55  \\\n",
            "38000001  68062    1       1  19      125  2017-11-07 08:58:55   \n",
            "38000002  76004    2       1  41      237  2017-11-07 08:58:55   \n",
            "38000003  73487   12       2  15      178  2017-11-07 08:58:55   \n",
            "38000004  31542    9       1  18      258  2017-11-07 08:58:55   \n",
            "\n",
            "         attributed_time  is_attributed  \n",
            "38000000             NaN              0  \n",
            "38000001             NaN              0  \n",
            "38000002             NaN              0  \n",
            "38000003             NaN              0  \n",
            "38000004             NaN              0  \n",
            "             ip  app  device   os  channel           click_time   \n",
            "39000000  52798   21       1   19      128  2017-11-07 09:19:22  \\\n",
            "39000001  45121    2       1    3      122  2017-11-07 09:19:22   \n",
            "39000002   5314    3       1    9      480  2017-11-07 09:19:22   \n",
            "39000003  95468   28       1   19      135  2017-11-07 09:19:22   \n",
            "39000004   8297   88    3032  607      347  2017-11-07 09:19:22   \n",
            "\n",
            "         attributed_time  is_attributed  \n",
            "39000000             NaN              0  \n",
            "39000001             NaN              0  \n",
            "39000002             NaN              0  \n",
            "39000003             NaN              0  \n",
            "39000004             NaN              0  \n",
            "              ip  app  device  os  channel           click_time   \n",
            "40000000   48281    8       1  19      145  2017-11-07 09:39:40  \\\n",
            "40000001    5348   27       1  47      153  2017-11-07 09:39:40   \n",
            "40000002  118229   26       1  18      121  2017-11-07 09:39:40   \n",
            "40000003   67836    2       1   6      219  2017-11-07 09:39:40   \n",
            "40000004   59125    1       2   5      153  2017-11-07 09:39:40   \n",
            "\n",
            "         attributed_time  is_attributed  \n",
            "40000000             NaN              0  \n",
            "40000001             NaN              0  \n",
            "40000002             NaN              0  \n",
            "40000003             NaN              0  \n",
            "40000004             NaN              0  \n",
            "              ip  app  device  os  channel           click_time   \n",
            "41000000    4052   24       2  49      105  2017-11-07 09:59:44  \\\n",
            "41000001   31119    9       1  13      334  2017-11-07 09:59:44   \n",
            "41000002  129258   26       1  53      266  2017-11-07 09:59:44   \n",
            "41000003   32480   18       1  13      107  2017-11-07 09:59:44   \n",
            "41000004  127084   10       1  13      317  2017-11-07 09:59:44   \n",
            "\n",
            "         attributed_time  is_attributed  \n",
            "41000000             NaN              0  \n",
            "41000001             NaN              0  \n",
            "41000002             NaN              0  \n",
            "41000003             NaN              0  \n",
            "41000004             NaN              0  \n",
            "              ip  app  device  os  channel           click_time   \n",
            "42000000   40342    3       1  22      205  2017-11-07 10:18:21  \\\n",
            "42000001  157821   12       1  18      265  2017-11-07 10:18:21   \n",
            "42000002   21950   21       1  13      128  2017-11-07 10:18:21   \n",
            "42000003   23270   18       1  14      107  2017-11-07 10:18:21   \n",
            "42000004   82456   13       1  19      477  2017-11-07 10:18:21   \n",
            "\n",
            "         attributed_time  is_attributed  \n",
            "42000000             NaN              0  \n",
            "42000001             NaN              0  \n",
            "42000002             NaN              0  \n",
            "42000003             NaN              0  \n",
            "42000004             NaN              0  \n",
            "              ip  app  device  os  channel           click_time   \n",
            "43000000  106641   14       1  19      379  2017-11-07 10:36:41  \\\n",
            "43000001  102374   15       1  41      245  2017-11-07 10:36:41   \n",
            "43000002   74994   12       1  19      145  2017-11-07 10:36:41   \n",
            "43000003  179371    7       1  11      101  2017-11-07 10:36:41   \n",
            "43000004   77048   12       1  13      265  2017-11-07 10:36:41   \n",
            "\n",
            "         attributed_time  is_attributed  \n",
            "43000000             NaN              0  \n",
            "43000001             NaN              0  \n",
            "43000002             NaN              0  \n",
            "43000003             NaN              0  \n",
            "43000004             NaN              0  \n",
            "              ip  app  device  os  channel           click_time   \n",
            "44000000   28427   11       1  30      319  2017-11-07 10:54:35  \\\n",
            "44000001   43733    3       1  19      280  2017-11-07 10:54:35   \n",
            "44000002   23192   25       1  13      259  2017-11-07 10:54:35   \n",
            "44000003  116065    7       1  17      101  2017-11-07 10:54:35   \n",
            "44000004   11089    9       1  19      334  2017-11-07 10:54:35   \n",
            "\n",
            "         attributed_time  is_attributed  \n",
            "44000000             NaN              0  \n",
            "44000001             NaN              0  \n",
            "44000002             NaN              0  \n",
            "44000003             NaN              0  \n",
            "44000004             NaN              0  \n",
            "              ip  app  device  os  channel           click_time   \n",
            "45000000   28223   27       1  13      122  2017-11-07 11:12:19  \\\n",
            "45000001  105475   26       1  16      266  2017-11-07 11:12:19   \n",
            "45000002   35335   18       1  19      134  2017-11-07 11:12:19   \n",
            "45000003   41142    3       1  23      280  2017-11-07 11:12:19   \n",
            "45000004    5314   15       1  19      315  2017-11-07 11:12:19   \n",
            "\n",
            "         attributed_time  is_attributed  \n",
            "45000000             NaN              0  \n",
            "45000001             NaN              0  \n",
            "45000002             NaN              0  \n",
            "45000003             NaN              0  \n",
            "45000004             NaN              0  \n",
            "              ip  app  device  os  channel           click_time   \n",
            "46000000   91584    3       1  12      424  2017-11-07 11:31:40  \\\n",
            "46000001   48615   20       1  13      259  2017-11-07 11:31:40   \n",
            "46000002  204713   14       1  11      379  2017-11-07 11:31:40   \n",
            "46000003   48615   24       1  13      105  2017-11-07 11:31:40   \n",
            "46000004    5348   20       2  27      259  2017-11-07 11:31:40   \n",
            "\n",
            "         attributed_time  is_attributed  \n",
            "46000000             NaN              0  \n",
            "46000001             NaN              0  \n",
            "46000002             NaN              0  \n",
            "46000003             NaN              0  \n",
            "46000004             NaN              0  \n",
            "              ip  app  device  os  channel           click_time   \n",
            "47000000   60396    1       1  14      377  2017-11-07 11:51:16  \\\n",
            "47000001    4571   14       1  13      349  2017-11-07 11:51:16   \n",
            "47000002  144287   12       1   4      140  2017-11-07 11:51:16   \n",
            "47000003   35604    8       1  19      145  2017-11-07 11:51:16   \n",
            "47000004  130143    2       1  30      377  2017-11-07 11:51:16   \n",
            "\n",
            "         attributed_time  is_attributed  \n",
            "47000000             NaN              0  \n",
            "47000001             NaN              0  \n",
            "47000002             NaN              0  \n",
            "47000003             NaN              0  \n",
            "47000004             NaN              0  \n",
            "              ip  app  device  os  channel           click_time   \n",
            "48000000  108726    3       1  17      409  2017-11-07 12:10:47  \\\n",
            "48000001   84561    3       1  19      442  2017-11-07 12:10:47   \n",
            "48000002   50482   15       1  13        3  2017-11-07 12:10:47   \n",
            "48000003  106162    9       1  37      489  2017-11-07 12:10:47   \n",
            "48000004    5314   12       1  12      259  2017-11-07 12:10:47   \n",
            "\n",
            "         attributed_time  is_attributed  \n",
            "48000000             NaN              0  \n",
            "48000001             NaN              0  \n",
            "48000002             NaN              0  \n",
            "48000003             NaN              0  \n",
            "48000004             NaN              0  \n",
            "              ip  app  device  os  channel           click_time   \n",
            "49000000   95029   15       1  13      111  2017-11-07 12:30:41  \\\n",
            "49000001   49602  151       0  50      347  2017-11-07 12:30:41   \n",
            "49000002  203883   13       1  18      400  2017-11-07 12:30:41   \n",
            "49000003    4353   18       1   6      134  2017-11-07 12:30:41   \n",
            "49000004  203122   24       1  13      105  2017-11-07 12:30:41   \n",
            "\n",
            "         attributed_time  is_attributed  \n",
            "49000000             NaN              0  \n",
            "49000001             NaN              0  \n",
            "49000002             NaN              0  \n",
            "49000003             NaN              0  \n",
            "49000004             NaN              0  \n",
            "              ip  app  device  os  channel           click_time   \n",
            "50000000  189769    3       1   6      489  2017-11-07 12:50:58  \\\n",
            "50000001   51745    6       1   6      459  2017-11-07 12:50:58   \n",
            "50000002   90425   18       1  19      134  2017-11-07 12:50:58   \n",
            "50000003    2463    3       1  19      173  2017-11-07 12:50:58   \n",
            "50000004   25097   11       1  19      481  2017-11-07 12:50:58   \n",
            "\n",
            "         attributed_time  is_attributed  \n",
            "50000000             NaN              0  \n",
            "50000001             NaN              0  \n",
            "50000002             NaN              0  \n",
            "50000003             NaN              0  \n",
            "50000004             NaN              0  \n",
            "              ip  app  device  os  channel           click_time   \n",
            "51000000   52076    1       1   9      135  2017-11-07 13:10:19  \\\n",
            "51000001   23086    3       1  13      480  2017-11-07 13:10:19   \n",
            "51000002  157872   27       1  19      122  2017-11-07 13:10:19   \n",
            "51000003   24932   14       1  18      379  2017-11-07 13:10:19   \n",
            "51000004  158326   26       1  19      121  2017-11-07 13:10:19   \n",
            "\n",
            "         attributed_time  is_attributed  \n",
            "51000000             NaN              0  \n",
            "51000001             NaN              0  \n",
            "51000002             NaN              0  \n",
            "51000003             NaN              0  \n",
            "51000004             NaN              0  \n",
            "              ip  app  device  os  channel           click_time   \n",
            "52000000  113412    3       1   1      280  2017-11-07 13:29:15  \\\n",
            "52000001   71242    8       1  20      145  2017-11-07 13:29:15   \n",
            "52000002  151424   11       1  36      173  2017-11-07 13:29:15   \n",
            "52000003   50654   14       1  22      480  2017-11-07 13:29:15   \n",
            "52000004   25614    2       1  25      205  2017-11-07 13:29:15   \n",
            "\n",
            "         attributed_time  is_attributed  \n",
            "52000000             NaN              0  \n",
            "52000001             NaN              0  \n",
            "52000002             NaN              0  \n",
            "52000003             NaN              0  \n",
            "52000004             NaN              0  \n",
            "              ip  app  device   os  channel           click_time   \n",
            "53000000  184701   11       1   53      122  2017-11-07 13:47:35  \\\n",
            "53000001   42197    8       1   41      140  2017-11-07 13:47:35   \n",
            "53000002   84644   18    3032  607      107  2017-11-07 13:47:35   \n",
            "53000003  111527    2       1   19      435  2017-11-07 13:47:35   \n",
            "53000004    1611    9       1   19      244  2017-11-07 13:47:35   \n",
            "\n",
            "         attributed_time  is_attributed  \n",
            "53000000             NaN              0  \n",
            "53000001             NaN              0  \n",
            "53000002             NaN              0  \n",
            "53000003             NaN              0  \n",
            "53000004             NaN              0  \n",
            "              ip  app  device  os  channel           click_time   \n",
            "54000000    7884   18       1  19      376  2017-11-07 14:05:38  \\\n",
            "54000001  161847   12       1  15      178  2017-11-07 14:05:38   \n",
            "54000002   97724   64       1  10      459  2017-11-07 14:05:38   \n",
            "54000003    1815    3       1   8      280  2017-11-07 14:05:38   \n",
            "54000004  143772   15       1   8      245  2017-11-07 14:05:38   \n",
            "\n",
            "         attributed_time  is_attributed  \n",
            "54000000             NaN              0  \n",
            "54000001             NaN              0  \n",
            "54000002             NaN              0  \n",
            "54000003             NaN              0  \n",
            "54000004             NaN              0  \n",
            "              ip  app  device  os  channel           click_time   \n",
            "55000000   40194   13       1  13      477  2017-11-07 14:24:01  \\\n",
            "55000001    1439    9       1  17      489  2017-11-07 14:24:01   \n",
            "55000002    3804    2       1  28      219  2017-11-07 14:24:01   \n",
            "55000003  108341    3       1   2      489  2017-11-07 14:24:01   \n",
            "55000004   32985   18       1   3      121  2017-11-07 14:24:01   \n",
            "\n",
            "         attributed_time  is_attributed  \n",
            "55000000             NaN              0  \n",
            "55000001             NaN              0  \n",
            "55000002             NaN              0  \n",
            "55000003             NaN              0  \n",
            "55000004             NaN              0  \n",
            "              ip  app  device  os  channel           click_time   \n",
            "56000000  103257    3       1  15      442  2017-11-07 14:43:13  \\\n",
            "56000001  116253   12       1  16      205  2017-11-07 14:43:13   \n",
            "56000002  119545    8       1  19      145  2017-11-07 14:43:13   \n",
            "56000003   71135    3       1  20      280  2017-11-07 14:43:13   \n",
            "56000004    5348   15       1  13      278  2017-11-07 14:43:13   \n",
            "\n",
            "         attributed_time  is_attributed  \n",
            "56000000             NaN              0  \n",
            "56000001             NaN              0  \n",
            "56000002             NaN              0  \n",
            "56000003             NaN              0  \n",
            "56000004             NaN              0  \n",
            "              ip  app  device  os  channel           click_time   \n",
            "57000000   31773   22       1   3      116  2017-11-07 15:02:41  \\\n",
            "57000001   84159   23       1  19      153  2017-11-07 15:02:41   \n",
            "57000002  109764    6       1  10      125  2017-11-07 15:02:41   \n",
            "57000003  105569   12       1  13      259  2017-11-07 15:02:41   \n",
            "57000004  192879   12       1  19      259  2017-11-07 15:02:41   \n",
            "\n",
            "         attributed_time  is_attributed  \n",
            "57000000             NaN              0  \n",
            "57000001             NaN              0  \n",
            "57000002             NaN              0  \n",
            "57000003             NaN              0  \n",
            "57000004             NaN              0  \n",
            "              ip  app  device  os  channel           click_time   \n",
            "58000000  100971   13       1  16      469  2017-11-07 15:22:43  \\\n",
            "58000001   55852   15       1  20      245  2017-11-07 15:22:43   \n",
            "58000002   48033   12       1  19      409  2017-11-07 15:22:43   \n",
            "58000003  103938   24       1  19      178  2017-11-07 15:22:43   \n",
            "58000004  169638   18       1  19      134  2017-11-07 15:22:43   \n",
            "\n",
            "         attributed_time  is_attributed  \n",
            "58000000             NaN              0  \n",
            "58000001             NaN              0  \n",
            "58000002             NaN              0  \n",
            "58000003             NaN              0  \n",
            "58000004             NaN              0  \n",
            "              ip  app  device  os  channel           click_time   \n",
            "59000000   77014   64       1  19      459  2017-11-07 15:44:12  \\\n",
            "59000001   61135   12       1  18      265  2017-11-07 15:44:12   \n",
            "59000002  202771   14       1  19      439  2017-11-07 15:44:12   \n",
            "59000003   15233   15       1  17      245  2017-11-07 15:44:12   \n",
            "59000004   85085   18       1   3      107  2017-11-07 15:44:12   \n",
            "\n",
            "         attributed_time  is_attributed  \n",
            "59000000             NaN              0  \n",
            "59000001             NaN              0  \n",
            "59000002             NaN              0  \n",
            "59000003             NaN              0  \n",
            "59000004             NaN              0  \n",
            "              ip  app  device  os  channel           click_time   \n",
            "60000000   77609   14       1  13      401  2017-11-07 16:05:38  \\\n",
            "60000001   74640   23       1  19      153  2017-11-07 16:05:38   \n",
            "60000002    9886   12       1  13      178  2017-11-07 16:05:38   \n",
            "60000003   26890    2       1  31      237  2017-11-07 16:05:38   \n",
            "60000004  106524   12       1  20      178  2017-11-07 16:05:38   \n",
            "\n",
            "         attributed_time  is_attributed  \n",
            "60000000             NaN              0  \n",
            "60000001             NaN              0  \n",
            "60000002             NaN              0  \n",
            "60000003             NaN              0  \n",
            "60000004             NaN              0  \n",
            "              ip  app  device  os  channel           click_time   \n",
            "61000000   73487    3       2  26      153  2017-11-07 16:29:07  \\\n",
            "61000001  100724   12       1  17      178  2017-11-07 16:29:07   \n",
            "61000002   58529   12       1  13      178  2017-11-07 16:29:07   \n",
            "61000003   39291    9       1  19      258  2017-11-07 16:29:07   \n",
            "61000004   85120   12       1  26      259  2017-11-07 16:29:07   \n",
            "\n",
            "         attributed_time  is_attributed  \n",
            "61000000             NaN              0  \n",
            "61000001             NaN              0  \n",
            "61000002             NaN              0  \n",
            "61000003             NaN              0  \n",
            "61000004             NaN              0  \n",
            "              ip  app  device  os  channel           click_time   \n",
            "62000000   85120   20       1  16      259  2017-11-07 16:59:06  \\\n",
            "62000001  283341    9       1  13      134  2017-11-07 16:59:06   \n",
            "62000002  218901    8       2   9      145  2017-11-07 16:59:06   \n",
            "62000003  286594    8       1  22      259  2017-11-07 16:59:06   \n",
            "62000004   73487   12       1  19      205  2017-11-07 16:59:06   \n",
            "\n",
            "         attributed_time  is_attributed  \n",
            "62000000             NaN              0  \n",
            "62000001             NaN              0  \n",
            "62000002             NaN              0  \n",
            "62000003             NaN              0  \n",
            "62000004             NaN              0  \n",
            "              ip  app  device  os  channel           click_time   \n",
            "63000000   82893   64       1  17      459  2017-11-07 17:42:34  \\\n",
            "63000001   18509   15       1  19      245  2017-11-07 17:42:34   \n",
            "63000002  243449   14       1  25      480  2017-11-07 17:42:34   \n",
            "63000003   42596    3       1  13      137  2017-11-07 17:42:34   \n",
            "63000004   25818    2       1  22      205  2017-11-07 17:42:34   \n",
            "\n",
            "         attributed_time  is_attributed  \n",
            "63000000             NaN              0  \n",
            "63000001             NaN              0  \n",
            "63000002             NaN              0  \n",
            "63000003             NaN              0  \n",
            "63000004             NaN              0  \n",
            "              ip  app  device  os  channel           click_time   \n",
            "64000000  108437    9       1  13      234  2017-11-07 18:58:25  \\\n",
            "64000001   93860   64       1  47      459  2017-11-07 18:58:25   \n",
            "64000002   95145    1       1  13      377  2017-11-07 18:58:25   \n",
            "64000003    5348   18       1  37      439  2017-11-07 18:58:25   \n",
            "64000004  166592   15       1  13      245  2017-11-07 18:58:25   \n",
            "\n",
            "         attributed_time  is_attributed  \n",
            "64000000             NaN              0  \n",
            "64000001             NaN              0  \n",
            "64000002             NaN              0  \n",
            "64000003             NaN              0  \n",
            "64000004             NaN              0  \n",
            "              ip  app  device  os  channel           click_time   \n",
            "65000000    5348   14       1  32      349  2017-11-07 21:11:20  \\\n",
            "65000001  144239    2       1  13      219  2017-11-07 21:11:20   \n",
            "65000002   59456   18       1   1      107  2017-11-07 21:11:20   \n",
            "65000003   62879    9       1  41      442  2017-11-07 21:11:20   \n",
            "65000004  106162    2       1  12      469  2017-11-07 21:11:20   \n",
            "\n",
            "         attributed_time  is_attributed  \n",
            "65000000             NaN              0  \n",
            "65000001             NaN              0  \n",
            "65000002             NaN              0  \n",
            "65000003             NaN              0  \n",
            "65000004             NaN              0  \n",
            "              ip  app  device  os  channel           click_time   \n",
            "66000000  112086    9       2  19      258  2017-11-07 22:35:30  \\\n",
            "66000001   16032   14       1  18      480  2017-11-07 22:35:30   \n",
            "66000002   41285   12       2  13      135  2017-11-07 22:35:30   \n",
            "66000003   98433   18       1  30      107  2017-11-07 22:35:30   \n",
            "66000004  111409   18       1  13      121  2017-11-07 22:35:30   \n",
            "\n",
            "         attributed_time  is_attributed  \n",
            "66000000             NaN              0  \n",
            "66000001             NaN              0  \n",
            "66000002             NaN              0  \n",
            "66000003             NaN              0  \n",
            "66000004             NaN              0  \n",
            "              ip  app  device  os  channel           click_time   \n",
            "67000000  203983    3       1  22      173  2017-11-07 23:12:14  \\\n",
            "67000001  105679   12       1  19      328  2017-11-07 23:12:14   \n",
            "67000002   50364   14       1  28      439  2017-11-07 23:12:14   \n",
            "67000003  106437    3       1  17      211  2017-11-07 23:12:14   \n",
            "67000004  118973   14       1  13      463  2017-11-07 23:12:14   \n",
            "\n",
            "         attributed_time  is_attributed  \n",
            "67000000             NaN              0  \n",
            "67000001             NaN              0  \n",
            "67000002             NaN              0  \n",
            "67000003             NaN              0  \n",
            "67000004             NaN              0  \n",
            "             ip  app  device  os  channel           click_time   \n",
            "68000000  71561   18       1  18      134  2017-11-07 23:38:40  \\\n",
            "68000001  29161    3       1  19      489  2017-11-07 23:38:40   \n",
            "68000002  59280   13       1  13      477  2017-11-07 23:38:40   \n",
            "68000003  71838   18       1  19      134  2017-11-07 23:38:40   \n",
            "68000004   1881   15       1  19      265  2017-11-07 23:38:40   \n",
            "\n",
            "         attributed_time  is_attributed  \n",
            "68000000             NaN              0  \n",
            "68000001             NaN              0  \n",
            "68000002             NaN              0  \n",
            "68000003             NaN              0  \n",
            "68000004             NaN              0  \n",
            "              ip  app  device  os  channel           click_time   \n",
            "69000000  114576    8       1   8      145  2017-11-08 00:01:05  \\\n",
            "69000001  116793    1       1  17      134  2017-11-08 00:01:05   \n",
            "69000002  100971    2       1  13      469  2017-11-08 00:01:05   \n",
            "69000003  104533    1       1  13      134  2017-11-08 00:01:05   \n",
            "69000004   94373   12       1  17      140  2017-11-08 00:01:05   \n",
            "\n",
            "         attributed_time  is_attributed  \n",
            "69000000             NaN              0  \n",
            "69000001             NaN              0  \n",
            "69000002             NaN              0  \n",
            "69000003             NaN              0  \n",
            "69000004             NaN              0  \n",
            "              ip  app  device  os  channel           click_time   \n",
            "70000000  214092    6       1  19      125  2017-11-08 00:18:16  \\\n",
            "70000001    7938    3       1  19      480  2017-11-08 00:18:16   \n",
            "70000002  165408    9       1   8      134  2017-11-08 00:18:16   \n",
            "70000003   96139    3       1  13      371  2017-11-08 00:18:16   \n",
            "70000004  108329    3       1  30      280  2017-11-08 00:18:16   \n",
            "\n",
            "         attributed_time  is_attributed  \n",
            "70000000             NaN              0  \n",
            "70000001             NaN              0  \n",
            "70000002             NaN              0  \n",
            "70000003             NaN              0  \n",
            "70000004             NaN              0  \n",
            "              ip  app  device  os  channel           click_time   \n",
            "71000000   80245    3       1  16      371  2017-11-08 00:35:09  \\\n",
            "71000001   55000    3       1  16      371  2017-11-08 00:35:09   \n",
            "71000002   96232    2       1  26      219  2017-11-08 00:35:09   \n",
            "71000003  175143   14       1  26      439  2017-11-08 00:35:09   \n",
            "71000004  172980   64       1  16      459  2017-11-08 00:35:09   \n",
            "\n",
            "         attributed_time  is_attributed  \n",
            "71000000             NaN              0  \n",
            "71000001             NaN              0  \n",
            "71000002             NaN              0  \n",
            "71000003             NaN              0  \n",
            "71000004             NaN              0  \n",
            "              ip  app  device  os  channel           click_time   \n",
            "72000000   91734    2       1  16      205  2017-11-08 00:52:17  \\\n",
            "72000001   62930   12       1  28      328  2017-11-08 00:52:17   \n",
            "72000002   38732    3       1   6      409  2017-11-08 00:52:17   \n",
            "72000003   93021    9       1  13      442  2017-11-08 00:52:17   \n",
            "72000004  270041   20       1  19      259  2017-11-08 00:52:17   \n",
            "\n",
            "         attributed_time  is_attributed  \n",
            "72000000             NaN              0  \n",
            "72000001             NaN              0  \n",
            "72000002             NaN              0  \n",
            "72000003             NaN              0  \n",
            "72000004             NaN              0  \n",
            "             ip  app  device  os  channel           click_time   \n",
            "73000000  40879    9       1  19      134  2017-11-08 01:09:48  \\\n",
            "73000001  26549    3       1  13      280  2017-11-08 01:09:48   \n",
            "73000002  52628   21       1  23      128  2017-11-08 01:09:48   \n",
            "73000003  98823    1       1  13      135  2017-11-08 01:09:48   \n",
            "73000004  77355   18       1  19      439  2017-11-08 01:09:48   \n",
            "\n",
            "         attributed_time  is_attributed  \n",
            "73000000             NaN              0  \n",
            "73000001             NaN              0  \n",
            "73000002             NaN              0  \n",
            "73000003             NaN              0  \n",
            "73000004             NaN              0  \n",
            "              ip  app  device  os  channel           click_time   \n",
            "74000000   44030   27       1  19      153  2017-11-08 01:29:06  \\\n",
            "74000001  271966   11       1   6      481  2017-11-08 01:29:06   \n",
            "74000002   44536    2       1  11      205  2017-11-08 01:29:06   \n",
            "74000003   38644    3       1  26      135  2017-11-08 01:29:06   \n",
            "74000004   69449   12       2  10      178  2017-11-08 01:29:06   \n",
            "\n",
            "         attributed_time  is_attributed  \n",
            "74000000             NaN              0  \n",
            "74000001             NaN              0  \n",
            "74000002             NaN              0  \n",
            "74000003             NaN              0  \n",
            "74000004             NaN              0  \n",
            "              ip  app  device  os  channel           click_time   \n",
            "75000000   87694    3       1   8      280  2017-11-08 01:49:41  \\\n",
            "75000001   82264   18       1  19      107  2017-11-08 01:49:41   \n",
            "75000002  249193    3       1  18      115  2017-11-08 01:49:41   \n",
            "75000003   31865    3       1  13      280  2017-11-08 01:49:41   \n",
            "75000004  278587    3       1  15      173  2017-11-08 01:49:41   \n",
            "\n",
            "         attributed_time  is_attributed  \n",
            "75000000             NaN              0  \n",
            "75000001             NaN              0  \n",
            "75000002             NaN              0  \n",
            "75000003             NaN              0  \n",
            "75000004             NaN              0  \n",
            "              ip  app  device  os  channel           click_time   \n",
            "76000000  280918    3       1  27      402  2017-11-08 02:09:53  \\\n",
            "76000001   73641   18       1  19      107  2017-11-08 02:09:53   \n",
            "76000002   77035    2       1  13      236  2017-11-08 02:09:53   \n",
            "76000003   56466   11       1  13      325  2017-11-08 02:09:53   \n",
            "76000004   90948   12       1  20      178  2017-11-08 02:09:53   \n",
            "\n",
            "         attributed_time  is_attributed  \n",
            "76000000             NaN              0  \n",
            "76000001             NaN              0  \n",
            "76000002             NaN              0  \n",
            "76000003             NaN              0  \n",
            "76000004             NaN              0  \n",
            "              ip  app  device  os  channel           click_time   \n",
            "77000000   73506    3       1  13      280  2017-11-08 02:26:32  \\\n",
            "77000001    2765    3       1  13      211  2017-11-08 02:26:32   \n",
            "77000002   89232    3       1  10      280  2017-11-08 02:26:32   \n",
            "77000003  171384   56       1  12      406  2017-11-08 02:26:32   \n",
            "77000004  113109    3       1  17      421  2017-11-08 02:26:32   \n",
            "\n",
            "         attributed_time  is_attributed  \n",
            "77000000             NaN              0  \n",
            "77000001             NaN              0  \n",
            "77000002             NaN              0  \n",
            "77000003             NaN              0  \n",
            "77000004             NaN              0  \n",
            "              ip  app  device  os  channel           click_time   \n",
            "78000000   39409   14       1  19      113  2017-11-08 02:42:39  \\\n",
            "78000001  167368    3       1  19      280  2017-11-08 02:42:39   \n",
            "78000002   46007   18       1  22      376  2017-11-08 02:42:39   \n",
            "78000003   19565    3       1  12      135  2017-11-08 02:42:39   \n",
            "78000004  149816   12       1  23      340  2017-11-08 02:42:39   \n",
            "\n",
            "         attributed_time  is_attributed  \n",
            "78000000             NaN              0  \n",
            "78000001             NaN              0  \n",
            "78000002             NaN              0  \n",
            "78000003             NaN              0  \n",
            "78000004             NaN              0  \n",
            "              ip  app  device  os  channel           click_time   \n",
            "79000000   29161   18       1  13      121  2017-11-08 02:58:34  \\\n",
            "79000001   83306    1       1  19       17  2017-11-08 02:58:34   \n",
            "79000002  260260    3       1  37      424  2017-11-08 02:58:34   \n",
            "79000003  125432    3       1  10      480  2017-11-08 02:58:34   \n",
            "79000004  164150   18       1  18      107  2017-11-08 02:58:34   \n",
            "\n",
            "         attributed_time  is_attributed  \n",
            "79000000             NaN              0  \n",
            "79000001             NaN              0  \n",
            "79000002             NaN              0  \n",
            "79000003             NaN              0  \n",
            "79000004             NaN              0  \n",
            "             ip  app  device  os  channel           click_time   \n",
            "80000000   4052   24       1  13      178  2017-11-08 03:16:45  \\\n",
            "80000001  15490   12       1  19      124  2017-11-08 03:16:45   \n",
            "80000002  93592    3       2   9      280  2017-11-08 03:16:45   \n",
            "80000003  81239   12       1  13      245  2017-11-08 03:16:45   \n",
            "80000004  69020   26       1  10      121  2017-11-08 03:16:45   \n",
            "\n",
            "         attributed_time  is_attributed  \n",
            "80000000             NaN              0  \n",
            "80000001             NaN              0  \n",
            "80000002             NaN              0  \n",
            "80000003             NaN              0  \n",
            "80000004             NaN              0  \n",
            "              ip  app  device  os  channel           click_time   \n",
            "81000000   61500    8       1  13      145  2017-11-08 03:36:25  \\\n",
            "81000001   90593    1       1  19      153  2017-11-08 03:36:25   \n",
            "81000002   43065    2       1  15      377  2017-11-08 03:36:25   \n",
            "81000003   37427    2       1   3      212  2017-11-08 03:36:25   \n",
            "81000004  142364    2       1  19      469  2017-11-08 03:36:25   \n",
            "\n",
            "         attributed_time  is_attributed  \n",
            "81000000             NaN              0  \n",
            "81000001             NaN              0  \n",
            "81000002             NaN              0  \n",
            "81000003             NaN              0  \n",
            "81000004             NaN              0  \n",
            "             ip  app  device  os  channel           click_time   \n",
            "82000000  68233   11       1  13      325  2017-11-08 03:55:18  \\\n",
            "82000001  15026    3       1   3      280  2017-11-08 03:55:18   \n",
            "82000002  66742    3       1  41      211  2017-11-08 03:55:18   \n",
            "82000003  90976    8       1  19      145  2017-11-08 03:55:18   \n",
            "82000004  61038   12       1  18       19  2017-11-08 03:55:18   \n",
            "\n",
            "         attributed_time  is_attributed  \n",
            "82000000             NaN              0  \n",
            "82000001             NaN              0  \n",
            "82000002             NaN              0  \n",
            "82000003             NaN              0  \n",
            "82000004             NaN              0  \n",
            "              ip  app  device  os  channel           click_time   \n",
            "83000000  108278  150       1  19      110  2017-11-08 04:12:52  \\\n",
            "83000001   25614    3       1  90      402  2017-11-08 04:12:52   \n",
            "83000002   22067    2       2   9      364  2017-11-08 04:12:52   \n",
            "83000003   32653   12       1  20      178  2017-11-08 04:12:52   \n",
            "83000004  127591   12       1  17      409  2017-11-08 04:12:52   \n",
            "\n",
            "         attributed_time  is_attributed  \n",
            "83000000             NaN              0  \n",
            "83000001             NaN              0  \n",
            "83000002             NaN              0  \n",
            "83000003             NaN              0  \n",
            "83000004             NaN              0  \n",
            "              ip  app  device  os  channel           click_time   \n",
            "84000000   16095    3       1  19      480  2017-11-08 04:29:46  \\\n",
            "84000001  243192    8       2  13      145  2017-11-08 04:29:46   \n",
            "84000002   80539   23       1  19      153  2017-11-08 04:29:46   \n",
            "84000003   66798   14       1  19      379  2017-11-08 04:29:46   \n",
            "84000004   11408    9       1  13      489  2017-11-08 04:29:46   \n",
            "\n",
            "         attributed_time  is_attributed  \n",
            "84000000             NaN              0  \n",
            "84000001             NaN              0  \n",
            "84000002             NaN              0  \n",
            "84000003             NaN              0  \n",
            "84000004             NaN              0  \n",
            "              ip  app  device  os  channel           click_time   \n",
            "85000000   92352   15       1  19      245  2017-11-08 04:46:20  \\\n",
            "85000001  122462    3       1  17      466  2017-11-08 04:46:20   \n",
            "85000002  105957   12       1  15      178  2017-11-08 04:46:20   \n",
            "85000003   64609    3       1  10      280  2017-11-08 04:46:20   \n",
            "85000004  110528   12       1  10      497  2017-11-08 04:46:20   \n",
            "\n",
            "         attributed_time  is_attributed  \n",
            "85000000             NaN              0  \n",
            "85000001             NaN              0  \n",
            "85000002             NaN              0  \n",
            "85000003             NaN              0  \n",
            "85000004             NaN              0  \n",
            "              ip  app  device  os  channel           click_time   \n",
            "86000000   44645    3       1   6      402  2017-11-08 05:03:19  \\\n",
            "86000001  188991   11       1  32      122  2017-11-08 05:03:19   \n",
            "86000002   20054   15       1  37      245  2017-11-08 05:03:19   \n",
            "86000003  105560    3       1   8      205  2017-11-08 05:03:19   \n",
            "86000004  184820   13       1  25      477  2017-11-08 05:03:19   \n",
            "\n",
            "         attributed_time  is_attributed  \n",
            "86000000             NaN              0  \n",
            "86000001             NaN              0  \n",
            "86000002             NaN              0  \n",
            "86000003             NaN              0  \n",
            "86000004             NaN              0  \n",
            "              ip  app  device  os  channel           click_time   \n",
            "87000000   34352   17       1  19      280  2017-11-08 05:21:49  \\\n",
            "87000001   34595   12       1  22      105  2017-11-08 05:21:49   \n",
            "87000002  107802   12       1  19       19  2017-11-08 05:21:49   \n",
            "87000003  159866    3       1  13      480  2017-11-08 05:21:49   \n",
            "87000004   53960    2       2  53      205  2017-11-08 05:21:49   \n",
            "\n",
            "         attributed_time  is_attributed  \n",
            "87000000             NaN              0  \n",
            "87000001             NaN              0  \n",
            "87000002             NaN              0  \n",
            "87000003             NaN              0  \n",
            "87000004             NaN              0  \n",
            "              ip  app  device  os  channel           click_time   \n",
            "88000000   63262    3       1  23      409  2017-11-08 05:40:57  \\\n",
            "88000001   40494    3       1  19      280  2017-11-08 05:40:57   \n",
            "88000002   39238   12       1  20      178  2017-11-08 05:40:57   \n",
            "88000003   39839    3       1  19      280  2017-11-08 05:40:57   \n",
            "88000004  125446    3       1  41      137  2017-11-08 05:40:57   \n",
            "\n",
            "         attributed_time  is_attributed  \n",
            "88000000             NaN              0  \n",
            "88000001             NaN              0  \n",
            "88000002             NaN              0  \n",
            "88000003             NaN              0  \n",
            "88000004             NaN              0  \n",
            "              ip  app  device  os  channel           click_time   \n",
            "89000000  175781    2       1  19      377  2017-11-08 06:00:34  \\\n",
            "89000001    7158   26       1   6      477  2017-11-08 06:00:34   \n",
            "89000002   59735    2       1  14      237  2017-11-08 06:00:34   \n",
            "89000003   35905    3       1  13      280  2017-11-08 06:00:34   \n",
            "89000004   70474    9       1   6      258  2017-11-08 06:00:34   \n",
            "\n",
            "         attributed_time  is_attributed  \n",
            "89000000             NaN              0  \n",
            "89000001             NaN              0  \n",
            "89000002             NaN              0  \n",
            "89000003             NaN              0  \n",
            "89000004             NaN              0  \n",
            "              ip  app  device  os  channel           click_time   \n",
            "90000000  266205   12       1  15      178  2017-11-08 06:20:49  \\\n",
            "90000001  103180    2       1  19      477  2017-11-08 06:20:49   \n",
            "90000002  102970    3       1  15      424  2017-11-08 06:20:49   \n",
            "90000003   95057   26       1  19      121  2017-11-08 06:20:49   \n",
            "90000004  202924   26       1  22      266  2017-11-08 06:20:49   \n",
            "\n",
            "         attributed_time  is_attributed  \n",
            "90000000             NaN              0  \n",
            "90000001             NaN              0  \n",
            "90000002             NaN              0  \n",
            "90000003             NaN              0  \n",
            "90000004             NaN              0  \n",
            "              ip  app  device  os  channel           click_time   \n",
            "91000000   17267    3       1  19      280  2017-11-08 06:40:48  \\\n",
            "91000001  250896   12       1  18      178  2017-11-08 06:40:48   \n",
            "91000002   93295    2       1  15      236  2017-11-08 06:40:48   \n",
            "91000003  130691   18       1  19      439  2017-11-08 06:40:48   \n",
            "91000004   73516    8       1   1      140  2017-11-08 06:40:48   \n",
            "\n",
            "         attributed_time  is_attributed  \n",
            "91000000             NaN              0  \n",
            "91000001             NaN              0  \n",
            "91000002             NaN              0  \n",
            "91000003             NaN              0  \n",
            "91000004             NaN              0  \n",
            "              ip  app  device  os  channel           click_time   \n",
            "92000000  158888   12       1  13      140  2017-11-08 07:00:52  \\\n",
            "92000001  111561   21       1  41      128  2017-11-08 07:00:52   \n",
            "92000002   45609   23       1  20      153  2017-11-08 07:00:52   \n",
            "92000003  272008    3       1  18      211  2017-11-08 07:00:52   \n",
            "92000004  109960    1       1  13      377  2017-11-08 07:00:52   \n",
            "\n",
            "         attributed_time  is_attributed  \n",
            "92000000             NaN              0  \n",
            "92000001             NaN              0  \n",
            "92000002             NaN              0  \n",
            "92000003             NaN              0  \n",
            "92000004             NaN              0  \n",
            "              ip  app  device  os  channel           click_time   \n",
            "93000000   56875   23       1  58      153  2017-11-08 07:20:18  \\\n",
            "93000001   34537    3       1  19      280  2017-11-08 07:20:18   \n",
            "93000002   10991    3       1  19      280  2017-11-08 07:20:18   \n",
            "93000003   44716   17       1  44      280  2017-11-08 07:20:18   \n",
            "93000004  168817    3       1  25      280  2017-11-08 07:20:18   \n",
            "\n",
            "         attributed_time  is_attributed  \n",
            "93000000             NaN              0  \n",
            "93000001             NaN              0  \n",
            "93000002             NaN              0  \n",
            "93000003             NaN              0  \n",
            "93000004             NaN              0  \n",
            "              ip  app  device  os  channel           click_time   \n",
            "94000000  213553    9       1  17      445  2017-11-08 07:39:11  \\\n",
            "94000001   31572   12       1  19      259  2017-11-08 07:39:11   \n",
            "94000002   29241   18       1  22      121  2017-11-08 07:39:11   \n",
            "94000003   78377   14       1  13      463  2017-11-08 07:39:11   \n",
            "94000004   84896   15       1  28      245  2017-11-08 07:39:11   \n",
            "\n",
            "         attributed_time  is_attributed  \n",
            "94000000             NaN              0  \n",
            "94000001             NaN              0  \n",
            "94000002             NaN              0  \n",
            "94000003             NaN              0  \n",
            "94000004             NaN              0  \n",
            "              ip  app  device  os  channel           click_time   \n",
            "95000000   64209   15       1  19      480  2017-11-08 07:58:02  \\\n",
            "95000001  112613    2       1  19      477  2017-11-08 07:58:02   \n",
            "95000002   14063    3       1  19      409  2017-11-08 07:58:02   \n",
            "95000003   26995   28       1   5      135  2017-11-08 07:58:02   \n",
            "95000004   30774    3       1  13      480  2017-11-08 07:58:02   \n",
            "\n",
            "         attributed_time  is_attributed  \n",
            "95000000             NaN              0  \n",
            "95000001             NaN              0  \n",
            "95000002             NaN              0  \n",
            "95000003             NaN              0  \n",
            "95000004             NaN              0  \n",
            "             ip  app  device  os  channel           click_time   \n",
            "96000000   5314   11       1  42      481  2017-11-08 08:17:26  \\\n",
            "96000001  18295    3       1  22      173  2017-11-08 08:17:26   \n",
            "96000002  56063   13       1  17      469  2017-11-08 08:17:26   \n",
            "96000003  91611   14       1  19      480  2017-11-08 08:17:26   \n",
            "96000004  56519   14       1  34      349  2017-11-08 08:17:26   \n",
            "\n",
            "         attributed_time  is_attributed  \n",
            "96000000             NaN              0  \n",
            "96000001             NaN              0  \n",
            "96000002             NaN              0  \n",
            "96000003             NaN              0  \n",
            "96000004             NaN              0  \n",
            "              ip  app  device  os  channel           click_time   \n",
            "97000000  261320   24       1  10      105  2017-11-08 08:37:54  \\\n",
            "97000001   41963    9       1  14      244  2017-11-08 08:37:54   \n",
            "97000002   60087   18       1  19      107  2017-11-08 08:37:54   \n",
            "97000003  271255   20       1  13      259  2017-11-08 08:37:54   \n",
            "97000004   75629    2       1  18      477  2017-11-08 08:37:54   \n",
            "\n",
            "         attributed_time  is_attributed  \n",
            "97000000             NaN              0  \n",
            "97000001             NaN              0  \n",
            "97000002             NaN              0  \n",
            "97000003             NaN              0  \n",
            "97000004             NaN              0  \n",
            "             ip  app  device  os  channel           click_time   \n",
            "98000000   8505    3       1  22      379  2017-11-08 08:58:21  \\\n",
            "98000001  92712    3       1  13      153  2017-11-08 08:58:21   \n",
            "98000002  75830    3       1  37      137  2017-11-08 08:58:21   \n",
            "98000003  76744   15       1   1      153  2017-11-08 08:58:21   \n",
            "98000004  17149   26       1  14      477  2017-11-08 08:58:21   \n",
            "\n",
            "         attributed_time  is_attributed  \n",
            "98000000             NaN              0  \n",
            "98000001             NaN              0  \n",
            "98000002             NaN              0  \n",
            "98000003             NaN              0  \n",
            "98000004             NaN              0  \n",
            "              ip  app  device  os  channel           click_time   \n",
            "99000000  126335   18       1  19      121  2017-11-08 09:18:07  \\\n",
            "99000001   64619    9       1  20      215  2017-11-08 09:18:07   \n",
            "99000002   89528    3       1  20      137  2017-11-08 09:18:07   \n",
            "99000003   67109   18       1  15      134  2017-11-08 09:18:07   \n",
            "99000004   89475   13       1  19      477  2017-11-08 09:18:07   \n",
            "\n",
            "         attributed_time  is_attributed  \n",
            "99000000             NaN              0  \n",
            "99000001             NaN              0  \n",
            "99000002             NaN              0  \n",
            "99000003             NaN              0  \n",
            "99000004             NaN              0  \n",
            "               ip  app  device  os  channel           click_time   \n",
            "100000000   42430    9       1  25      334  2017-11-08 09:38:15  \\\n",
            "100000001  268617   12       1  19      219  2017-11-08 09:38:15   \n",
            "100000002  120245   18       1  25      107  2017-11-08 09:38:15   \n",
            "100000003  118252    3       1   9      280  2017-11-08 09:38:15   \n",
            "100000004   40631    3       1  13      280  2017-11-08 09:38:15   \n",
            "\n",
            "          attributed_time  is_attributed  \n",
            "100000000             NaN              0  \n",
            "100000001             NaN              0  \n",
            "100000002             NaN              0  \n",
            "100000003             NaN              0  \n",
            "100000004             NaN              0  \n",
            "               ip  app  device  os  channel           click_time   \n",
            "101000000  259774    2       1  19      219  2017-11-08 09:57:16  \\\n",
            "101000001  124462   15       1  25      245  2017-11-08 09:57:16   \n",
            "101000002  104430    2       1   6      122  2017-11-08 09:57:16   \n",
            "101000003   87696   25       1  19      259  2017-11-08 09:57:16   \n",
            "101000004  100099   26       1  19      121  2017-11-08 09:57:16   \n",
            "\n",
            "          attributed_time  is_attributed  \n",
            "101000000             NaN              0  \n",
            "101000001             NaN              0  \n",
            "101000002             NaN              0  \n",
            "101000003             NaN              0  \n",
            "101000004             NaN              0  \n",
            "               ip  app  device  os  channel           click_time   \n",
            "102000000   81419   19       0  24      213  2017-11-08 10:15:03  \\\n",
            "102000001  109676    6       2   5      125  2017-11-08 10:15:03   \n",
            "102000002   52024   12       1  13      140  2017-11-08 10:15:03   \n",
            "102000003   78382   21       1  13      128  2017-11-08 10:15:03   \n",
            "102000004   94541   21       1  13      128  2017-11-08 10:15:03   \n",
            "\n",
            "          attributed_time  is_attributed  \n",
            "102000000             NaN              0  \n",
            "102000001             NaN              0  \n",
            "102000002             NaN              0  \n",
            "102000003             NaN              0  \n",
            "102000004             NaN              0  \n",
            "               ip  app  device  os  channel           click_time   \n",
            "103000000  171845    2       1  13      317  2017-11-08 10:32:38  \\\n",
            "103000001   64071    3       1  36      280  2017-11-08 10:32:38   \n",
            "103000002   83974    9       1  16      466  2017-11-08 10:32:38   \n",
            "103000003   12118    9       1  36      466  2017-11-08 10:32:38   \n",
            "103000004    8292   21       1  19      128  2017-11-08 10:32:38   \n",
            "\n",
            "          attributed_time  is_attributed  \n",
            "103000000             NaN              0  \n",
            "103000001             NaN              0  \n",
            "103000002             NaN              0  \n",
            "103000003             NaN              0  \n",
            "103000004             NaN              0  \n",
            "               ip  app  device  os  channel           click_time   \n",
            "104000000  113818   14       1  19      379  2017-11-08 10:50:32  \\\n",
            "104000001   84896    3       1  17      280  2017-11-08 10:50:32   \n",
            "104000002  199348   18       1  47      134  2017-11-08 10:50:32   \n",
            "104000003   42165   15       1   3      130  2017-11-08 10:50:32   \n",
            "104000004  276751   18       1  18      107  2017-11-08 10:50:32   \n",
            "\n",
            "          attributed_time  is_attributed  \n",
            "104000000             NaN              0  \n",
            "104000001             NaN              0  \n",
            "104000002             NaN              0  \n",
            "104000003             NaN              0  \n",
            "104000004             NaN              0  \n",
            "               ip  app  device  os  channel           click_time   \n",
            "105000000  252123   12       1  25      409  2017-11-08 11:08:32  \\\n",
            "105000001  114689   15       1  13      140  2017-11-08 11:08:32   \n",
            "105000002    1543    2       1  19      317  2017-11-08 11:08:32   \n",
            "105000003  123788    2       1   6      477  2017-11-08 11:08:32   \n",
            "105000004  124420    9       1  19      445  2017-11-08 11:08:32   \n",
            "\n",
            "          attributed_time  is_attributed  \n",
            "105000000             NaN              0  \n",
            "105000001             NaN              0  \n",
            "105000002             NaN              0  \n",
            "105000003             NaN              0  \n",
            "105000004             NaN              0  \n",
            "               ip  app  device  os  channel           click_time   \n",
            "106000000  139758   15       1  13      245  2017-11-08 11:26:11  \\\n",
            "106000001   78500    9       1  17      334  2017-11-08 11:26:11   \n",
            "106000002  237397    3       1  19      480  2017-11-08 11:26:11   \n",
            "106000003    5348   12       1   1      245  2017-11-08 11:26:11   \n",
            "106000004  125322   25       1  13      259  2017-11-08 11:26:11   \n",
            "\n",
            "          attributed_time  is_attributed  \n",
            "106000000             NaN              0  \n",
            "106000001             NaN              0  \n",
            "106000002             NaN              0  \n",
            "106000003             NaN              0  \n",
            "106000004             NaN              0  \n",
            "               ip  app  device  os  channel           click_time   \n",
            "107000000   34819    3       1  10      489  2017-11-08 11:43:26  \\\n",
            "107000001   71295    3       1  23      280  2017-11-08 11:43:26   \n",
            "107000002   53454   28       1  19      135  2017-11-08 11:43:26   \n",
            "107000003  116590    3       2  19      137  2017-11-08 11:43:26   \n",
            "107000004   83453   17       1  32      280  2017-11-08 11:43:26   \n",
            "\n",
            "          attributed_time  is_attributed  \n",
            "107000000             NaN              0  \n",
            "107000001             NaN              0  \n",
            "107000002             NaN              0  \n",
            "107000003             NaN              0  \n",
            "107000004             NaN              0  \n",
            "               ip  app  device  os  channel           click_time   \n",
            "108000000  122623   14       1  19      442  2017-11-08 12:00:38  \\\n",
            "108000001   96030   28       1  19      135  2017-11-08 12:00:38   \n",
            "108000002   65253   12       1  12      205  2017-11-08 12:00:38   \n",
            "108000003   48212    3       1  19      409  2017-11-08 12:00:38   \n",
            "108000004  106136   19       0  24      213  2017-11-08 12:00:38   \n",
            "\n",
            "          attributed_time  is_attributed  \n",
            "108000000             NaN              0  \n",
            "108000001             NaN              0  \n",
            "108000002             NaN              0  \n",
            "108000003             NaN              0  \n",
            "108000004             NaN              0  \n",
            "               ip  app  device  os  channel           click_time   \n",
            "109000000   53635   18       1  19      107  2017-11-08 12:17:46  \\\n",
            "109000001   53454    8       2  13      145  2017-11-08 12:17:46   \n",
            "109000002   33738   15       1  19      386  2017-11-08 12:17:46   \n",
            "109000003    1235    3       1  17      280  2017-11-08 12:17:46   \n",
            "109000004  100959   18       1  19      134  2017-11-08 12:17:46   \n",
            "\n",
            "          attributed_time  is_attributed  \n",
            "109000000             NaN              0  \n",
            "109000001             NaN              0  \n",
            "109000002             NaN              0  \n",
            "109000003             NaN              0  \n",
            "109000004             NaN              0  \n",
            "               ip  app  device  os  channel           click_time   \n",
            "110000000   80458    9       1  20      244  2017-11-08 12:35:14  \\\n",
            "110000001  253659   15       1  13      379  2017-11-08 12:35:14   \n",
            "110000002   69140    1       1  23      377  2017-11-08 12:35:14   \n",
            "110000003   60083    1       1  13      153  2017-11-08 12:35:14   \n",
            "110000004   81837    3       1  47      280  2017-11-08 12:35:14   \n",
            "\n",
            "          attributed_time  is_attributed  \n",
            "110000000             NaN              0  \n",
            "110000001             NaN              0  \n",
            "110000002             NaN              0  \n",
            "110000003             NaN              0  \n",
            "110000004             NaN              0  \n",
            "               ip  app  device  os  channel           click_time   \n",
            "111000000  230368   18       1  18      121  2017-11-08 12:52:21  \\\n",
            "111000001   72508   18       1  17      107  2017-11-08 12:52:21   \n",
            "111000002  107588   11       1  19      319  2017-11-08 12:52:21   \n",
            "111000003   66677   21       2   9      232  2017-11-08 12:52:21   \n",
            "111000004    5348   18       1  10      107  2017-11-08 12:52:21   \n",
            "\n",
            "          attributed_time  is_attributed  \n",
            "111000000             NaN              0  \n",
            "111000001             NaN              0  \n",
            "111000002             NaN              0  \n",
            "111000003             NaN              0  \n",
            "111000004             NaN              0  \n",
            "               ip  app  device  os  channel           click_time   \n",
            "112000000   89159   21       1  18      128  2017-11-08 13:09:11  \\\n",
            "112000001  177195    3       1  13      280  2017-11-08 13:09:11   \n",
            "112000002   57127   26       1  19      121  2017-11-08 13:09:11   \n",
            "112000003   16257   15       1   8      265  2017-11-08 13:09:11   \n",
            "112000004  100042    2       2  15      477  2017-11-08 13:09:11   \n",
            "\n",
            "          attributed_time  is_attributed  \n",
            "112000000             NaN              0  \n",
            "112000001             NaN              0  \n",
            "112000002             NaN              0  \n",
            "112000003             NaN              0  \n",
            "112000004             NaN              0  \n",
            "               ip  app  device  os  channel           click_time   \n",
            "113000000   49407   15       1  19        3  2017-11-08 13:25:55  \\\n",
            "113000001  251837   18       1  19      107  2017-11-08 13:25:55   \n",
            "113000002  116894    2       1   8      219  2017-11-08 13:25:55   \n",
            "113000003  134192    3       1  25      280  2017-11-08 13:25:55   \n",
            "113000004   50512    1       1  22      153  2017-11-08 13:25:55   \n",
            "\n",
            "          attributed_time  is_attributed  \n",
            "113000000             NaN              0  \n",
            "113000001             NaN              0  \n",
            "113000002             NaN              0  \n",
            "113000003             NaN              0  \n",
            "113000004             NaN              0  \n",
            "               ip  app  device  os  channel           click_time   \n",
            "114000000  192239    3       1  19      280  2017-11-08 13:42:24  \\\n",
            "114000001  228586   13       1  22      469  2017-11-08 13:42:24   \n",
            "114000002   14025    3       1  10      280  2017-11-08 13:42:24   \n",
            "114000003   23419   14       1  10      442  2017-11-08 13:42:24   \n",
            "114000004   99915   15       1  17      111  2017-11-08 13:42:24   \n",
            "\n",
            "          attributed_time  is_attributed  \n",
            "114000000             NaN              0  \n",
            "114000001             NaN              0  \n",
            "114000002             NaN              0  \n",
            "114000003             NaN              0  \n",
            "114000004             NaN              0  \n",
            "               ip  app  device  os  channel           click_time   \n",
            "115000000   49602   12       2   8      265  2017-11-08 13:59:01  \\\n",
            "115000001  101863   17       1  13      280  2017-11-08 13:59:01   \n",
            "115000002   64172   28       1  13      135  2017-11-08 13:59:01   \n",
            "115000003  114203    2       1   8      377  2017-11-08 13:59:01   \n",
            "115000004    2284    3       1  12      205  2017-11-08 13:59:01   \n",
            "\n",
            "          attributed_time  is_attributed  \n",
            "115000000             NaN              0  \n",
            "115000001             NaN              0  \n",
            "115000002             NaN              0  \n",
            "115000003             NaN              0  \n",
            "115000004             NaN              0  \n",
            "               ip  app  device  os  channel           click_time   \n",
            "116000000   71933    3       1  13      280  2017-11-08 14:14:52  \\\n",
            "116000001   41471   12       1  20      140  2017-11-08 14:14:52   \n",
            "116000002   90855   15       1  19      245  2017-11-08 14:14:52   \n",
            "116000003  105475   15       2  17      245  2017-11-08 14:14:52   \n",
            "116000004  103815   64       1  23      459  2017-11-08 14:14:52   \n",
            "\n",
            "          attributed_time  is_attributed  \n",
            "116000000             NaN              0  \n",
            "116000001             NaN              0  \n",
            "116000002             NaN              0  \n",
            "116000003             NaN              0  \n",
            "116000004             NaN              0  \n",
            "               ip  app  device  os  channel           click_time   \n",
            "117000000  105433   12       1  19      340  2017-11-08 14:31:20  \\\n",
            "117000001   80439   13       1  44      477  2017-11-08 14:31:20   \n",
            "117000002    4374    3       1  18      442  2017-11-08 14:31:20   \n",
            "117000003   42289   28       1   2      135  2017-11-08 14:31:20   \n",
            "117000004   92325    2       1  17      469  2017-11-08 14:31:20   \n",
            "\n",
            "          attributed_time  is_attributed  \n",
            "117000000             NaN              0  \n",
            "117000001             NaN              0  \n",
            "117000002             NaN              0  \n",
            "117000003             NaN              0  \n",
            "117000004             NaN              0  \n",
            "               ip  app  device  os  channel           click_time   \n",
            "118000000  119760    3       1   8      280  2017-11-08 14:47:50  \\\n",
            "118000001   34387   19       0   0      213  2017-11-08 14:47:50   \n",
            "118000002  263185   12       1  23      205  2017-11-08 14:47:50   \n",
            "118000003  118065    3       1   9      379  2017-11-08 14:47:50   \n",
            "118000004   48170    3       1  13      137  2017-11-08 14:47:50   \n",
            "\n",
            "          attributed_time  is_attributed  \n",
            "118000000             NaN              0  \n",
            "118000001             NaN              0  \n",
            "118000002             NaN              0  \n",
            "118000003             NaN              0  \n",
            "118000004             NaN              0  \n",
            "              ip  app  device  os  channel           click_time   \n",
            "119000000  54895   14       1  13      134  2017-11-08 15:04:03  \\\n",
            "119000001   5314    3       1  19      280  2017-11-08 15:04:03   \n",
            "119000002  32323    3       1  12      489  2017-11-08 15:04:03   \n",
            "119000003  15148   12       1  14      105  2017-11-08 15:04:03   \n",
            "119000004  74247   18       1  13      134  2017-11-08 15:04:03   \n",
            "\n",
            "          attributed_time  is_attributed  \n",
            "119000000             NaN              0  \n",
            "119000001             NaN              0  \n",
            "119000002             NaN              0  \n",
            "119000003             NaN              0  \n",
            "119000004             NaN              0  \n",
            "               ip  app  device  os  channel           click_time   \n",
            "120000000   95766   12       1  19      265  2017-11-08 15:19:33  \\\n",
            "120000001   44744   15       1  18      245  2017-11-08 15:19:33   \n",
            "120000002   29748   18       1  47      107  2017-11-08 15:19:33   \n",
            "120000003   71017   15       1  35      245  2017-11-08 15:19:33   \n",
            "120000004  222037    2       1  27      122  2017-11-08 15:19:33   \n",
            "\n",
            "          attributed_time  is_attributed  \n",
            "120000000             NaN              0  \n",
            "120000001             NaN              0  \n",
            "120000002             NaN              0  \n",
            "120000003             NaN              0  \n",
            "120000004             NaN              0  \n",
            "               ip  app  device  os  channel           click_time   \n",
            "121000000   43818   28       1  43      135  2017-11-08 15:38:00  \\\n",
            "121000001  103028    3       1  13      466  2017-11-08 15:38:00   \n",
            "121000002  137052   21       1  35      232  2017-11-08 15:38:00   \n",
            "121000003  109979   12       1  19      245  2017-11-08 15:38:00   \n",
            "121000004   83584   14       1   8      467  2017-11-08 15:38:00   \n",
            "\n",
            "          attributed_time  is_attributed  \n",
            "121000000             NaN              0  \n",
            "121000001             NaN              0  \n",
            "121000002             NaN              0  \n",
            "121000003             NaN              0  \n",
            "121000004             NaN              0  \n",
            "               ip  app  device  os  channel           click_time   \n",
            "122000000   56044   15       1  13      412  2017-11-08 15:58:24  \\\n",
            "122000001  123955   12       1  23      259  2017-11-08 15:58:24   \n",
            "122000002  103019   21       1  19      232  2017-11-08 15:58:24   \n",
            "122000003   93151    3       1  22      137  2017-11-08 15:58:24   \n",
            "122000004  123837   15       1  18      412  2017-11-08 15:58:24   \n",
            "\n",
            "          attributed_time  is_attributed  \n",
            "122000000             NaN              0  \n",
            "122000001             NaN              0  \n",
            "122000002             NaN              0  \n",
            "122000003             NaN              0  \n",
            "122000004             NaN              0  \n",
            "               ip  app  device  os  channel           click_time   \n",
            "123000000   15609   18       1  28      376  2017-11-08 16:18:54  \\\n",
            "123000001  235425    2       1   6      477  2017-11-08 16:18:54   \n",
            "123000002   55569    9       1  17      466  2017-11-08 16:18:54   \n",
            "123000003  238832    3       1  13      137  2017-11-08 16:18:54   \n",
            "123000004   50284    3       1  13      280  2017-11-08 16:18:54   \n",
            "\n",
            "          attributed_time  is_attributed  \n",
            "123000000             NaN              0  \n",
            "123000001             NaN              0  \n",
            "123000002             NaN              0  \n",
            "123000003             NaN              0  \n",
            "123000004             NaN              0  \n",
            "               ip  app  device  os  channel           click_time   \n",
            "124000000  103177    1       1  19      125  2017-11-08 16:44:23  \\\n",
            "124000001  311691   20       1  53      259  2017-11-08 16:44:23   \n",
            "124000002   84814    3       1  19      280  2017-11-08 16:44:23   \n",
            "124000003  119149   15       1  23      153  2017-11-08 16:44:23   \n",
            "124000004  119347   12       1  53      245  2017-11-08 16:44:23   \n",
            "\n",
            "          attributed_time  is_attributed  \n",
            "124000000             NaN              0  \n",
            "124000001             NaN              0  \n",
            "124000002             NaN              0  \n",
            "124000003             NaN              0  \n",
            "124000004             NaN              0  \n",
            "               ip  app  device  os  channel           click_time   \n",
            "125000000   92735   11       1  53      219  2017-11-08 17:16:36  \\\n",
            "125000001   94779    1       1  19      125  2017-11-08 17:16:36   \n",
            "125000002  118935    2       1  19      377  2017-11-08 17:16:36   \n",
            "125000003   81824   18       1  22      376  2017-11-08 17:16:36   \n",
            "125000004   94779   24       1  19      178  2017-11-08 17:16:36   \n",
            "\n",
            "          attributed_time  is_attributed  \n",
            "125000000             NaN              0  \n",
            "125000001             NaN              0  \n",
            "125000002             NaN              0  \n",
            "125000003             NaN              0  \n",
            "125000004             NaN              0  \n",
            "               ip  app  device  os  channel           click_time   \n",
            "126000000  153621    3       1  13      480  2017-11-08 18:05:00  \\\n",
            "126000001  232385    3       1  43      489  2017-11-08 18:05:00   \n",
            "126000002  354884   19     286  59      213  2017-11-08 18:05:00   \n",
            "126000003   77494   14       1  23      134  2017-11-08 18:05:00   \n",
            "126000004   41142   17       1  17      280  2017-11-08 18:05:00   \n",
            "\n",
            "          attributed_time  is_attributed  \n",
            "126000000             NaN              0  \n",
            "126000001             NaN              0  \n",
            "126000002             NaN              0  \n",
            "126000003             NaN              0  \n",
            "126000004             NaN              0  \n",
            "               ip  app  device  os  channel           click_time   \n",
            "127000000   17517   23       1  20      153  2017-11-08 19:29:27  \\\n",
            "127000001   62294   23       1  10      153  2017-11-08 19:29:27   \n",
            "127000002  106380    2       1  13      237  2017-11-08 19:29:27   \n",
            "127000003  143529   12       1  49      259  2017-11-08 19:29:27   \n",
            "127000004  124973   11       1  19      122  2017-11-08 19:29:27   \n",
            "\n",
            "          attributed_time  is_attributed  \n",
            "127000000             NaN              0  \n",
            "127000001             NaN              0  \n",
            "127000002             NaN              0  \n",
            "127000003             NaN              0  \n",
            "127000004             NaN              0  \n",
            "               ip  app  device  os  channel           click_time   \n",
            "128000000  148919   15       1  10      245  2017-11-08 21:34:58  \\\n",
            "128000001   55034   15       1  22      315  2017-11-08 21:34:58   \n",
            "128000002   51957   15       1  15      245  2017-11-08 21:34:58   \n",
            "128000003   39290    2       1  13      435  2017-11-08 21:34:58   \n",
            "128000004   66349    9       1   7      442  2017-11-08 21:34:58   \n",
            "\n",
            "          attributed_time  is_attributed  \n",
            "128000000             NaN              0  \n",
            "128000001             NaN              0  \n",
            "128000002             NaN              0  \n",
            "128000003             NaN              0  \n",
            "128000004             NaN              0  \n",
            "               ip  app  device  os  channel           click_time   \n",
            "129000000  116831    2       1  32      364  2017-11-08 22:40:44  \\\n",
            "129000001   85072    2       2  20      237  2017-11-08 22:40:44   \n",
            "129000002   53004   14       1   1      401  2017-11-08 22:40:44   \n",
            "129000003   73362   27       1   9      153  2017-11-08 22:40:44   \n",
            "129000004   57840    3       1  25      137  2017-11-08 22:40:44   \n",
            "\n",
            "          attributed_time  is_attributed  \n",
            "129000000             NaN              0  \n",
            "129000001             NaN              0  \n",
            "129000002             NaN              0  \n",
            "129000003             NaN              0  \n",
            "129000004             NaN              0  \n",
            "               ip  app  device  os  channel           click_time   \n",
            "130000000   87803   15       1  18      245  2017-11-08 23:14:17  \\\n",
            "130000001  101074   12       1  31      140  2017-11-08 23:14:17   \n",
            "130000002   86757   12       1  17      178  2017-11-08 23:14:17   \n",
            "130000003   53976   14       1  13      480  2017-11-08 23:14:17   \n",
            "130000004   46023    2       1  19      236  2017-11-08 23:14:17   \n",
            "\n",
            "          attributed_time  is_attributed  \n",
            "130000000             NaN              0  \n",
            "130000001             NaN              0  \n",
            "130000002             NaN              0  \n",
            "130000003             NaN              0  \n",
            "130000004             NaN              0  \n",
            "               ip  app  device  os  channel           click_time   \n",
            "131000000   60182   14       1   1      442  2017-11-08 23:40:18  \\\n",
            "131000001  182925   64       1  19      459  2017-11-08 23:40:18   \n",
            "131000002  359249    9       1  19      234  2017-11-08 23:40:18   \n",
            "131000003   75595    2       2   9      205  2017-11-08 23:40:18   \n",
            "131000004   13974   12       1  13      212  2017-11-08 23:40:18   \n",
            "\n",
            "          attributed_time  is_attributed  \n",
            "131000000             NaN              0  \n",
            "131000001             NaN              0  \n",
            "131000002             NaN              0  \n",
            "131000003             NaN              0  \n",
            "131000004             NaN              0  \n",
            "               ip  app  device  os  channel           click_time   \n",
            "132000000  116301   23       1  19      153  2017-11-09 00:02:00  \\\n",
            "132000001   47146    3       1  20      115  2017-11-09 00:02:00   \n",
            "132000002  156767   12       1  13      265  2017-11-09 00:02:00   \n",
            "132000003   12971   21       1  19      128  2017-11-09 00:02:00   \n",
            "132000004  249356    3       1  19      442  2017-11-09 00:02:00   \n",
            "\n",
            "          attributed_time  is_attributed  \n",
            "132000000             NaN              0  \n",
            "132000001             NaN              0  \n",
            "132000002             NaN              0  \n",
            "132000003             NaN              0  \n",
            "132000004             NaN              0  \n",
            "               ip  app  device  os  channel           click_time   \n",
            "133000000  125222    2       1  15      435  2017-11-09 00:20:06  \\\n",
            "133000001  244084   21       1  13      128  2017-11-09 00:20:06   \n",
            "133000002   79881    6       1  17      125  2017-11-09 00:20:06   \n",
            "133000003  114276    3       1  13      280  2017-11-09 00:20:06   \n",
            "133000004    8081  151       0  76      347  2017-11-09 00:20:06   \n",
            "\n",
            "          attributed_time  is_attributed  \n",
            "133000000             NaN              0  \n",
            "133000001             NaN              0  \n",
            "133000002             NaN              0  \n",
            "133000003             NaN              0  \n",
            "133000004             NaN              0  \n",
            "               ip  app  device  os  channel           click_time   \n",
            "134000000   51274    3       1  13      489  2017-11-09 00:37:52  \\\n",
            "134000001  294194   12       1  19      265  2017-11-09 00:37:52   \n",
            "134000002  117383   18       1  13      107  2017-11-09 00:37:52   \n",
            "134000003   21320    9       1  15      134  2017-11-09 00:37:52   \n",
            "134000004   40216    9       1  18      232  2017-11-09 00:37:52   \n",
            "\n",
            "          attributed_time  is_attributed  \n",
            "134000000             NaN              0  \n",
            "134000001             NaN              0  \n",
            "134000002             NaN              0  \n",
            "134000003             NaN              0  \n",
            "134000004             NaN              0  \n",
            "               ip  app  device  os  channel           click_time   \n",
            "135000000    3363    3       1   6      280  2017-11-09 00:56:11  \\\n",
            "135000001    4701   22       1  19      116  2017-11-09 00:56:11   \n",
            "135000002  113212   12       1  36      259  2017-11-09 00:56:11   \n",
            "135000003  216549   20       1  19      259  2017-11-09 00:56:11   \n",
            "135000004  100341    3       1   8      424  2017-11-09 00:56:11   \n",
            "\n",
            "          attributed_time  is_attributed  \n",
            "135000000             NaN              0  \n",
            "135000001             NaN              0  \n",
            "135000002             NaN              0  \n",
            "135000003             NaN              0  \n",
            "135000004             NaN              0  \n"
          ]
        },
        {
          "ename": "KeyboardInterrupt",
          "evalue": "",
          "output_type": "error",
          "traceback": [
            "\u001b[1;31m---------------------------------------------------------------------------\u001b[0m",
            "\u001b[1;31mKeyboardInterrupt\u001b[0m                         Traceback (most recent call last)",
            "Cell \u001b[1;32mIn[2], line 7\u001b[0m\n\u001b[0;32m      4\u001b[0m final_df \u001b[39m=\u001b[39m pd\u001b[39m.\u001b[39mDataFrame()\n\u001b[0;32m      6\u001b[0m \u001b[39mfor\u001b[39;00m chunk \u001b[39min\u001b[39;00m pd\u001b[39m.\u001b[39mread_csv(\u001b[39mf\u001b[39m\u001b[39m'\u001b[39m\u001b[39mC:/WeCloudData/Machine Learning/Capstone/talkingdata-adtracking-fraud-detection/train.csv\u001b[39m\u001b[39m'\u001b[39m, chunksize\u001b[39m=\u001b[39mchunk_size):\n\u001b[1;32m----> 7\u001b[0m   final_df \u001b[39m=\u001b[39m pd\u001b[39m.\u001b[39;49mconcat([final_df,chunk])\n\u001b[0;32m      8\u001b[0m   \u001b[39mprint\u001b[39m(chunk\u001b[39m.\u001b[39mhead())\n\u001b[0;32m     10\u001b[0m final_df\u001b[39m.\u001b[39mhead()\n",
            "File \u001b[1;32m~\\AppData\\Local\\Packages\\PythonSoftwareFoundation.Python.3.11_qbz5n2kfra8p0\\LocalCache\\local-packages\\Python311\\site-packages\\pandas\\core\\reshape\\concat.py:385\u001b[0m, in \u001b[0;36mconcat\u001b[1;34m(objs, axis, join, ignore_index, keys, levels, names, verify_integrity, sort, copy)\u001b[0m\n\u001b[0;32m    370\u001b[0m     copy \u001b[39m=\u001b[39m \u001b[39mFalse\u001b[39;00m\n\u001b[0;32m    372\u001b[0m op \u001b[39m=\u001b[39m _Concatenator(\n\u001b[0;32m    373\u001b[0m     objs,\n\u001b[0;32m    374\u001b[0m     axis\u001b[39m=\u001b[39maxis,\n\u001b[1;32m   (...)\u001b[0m\n\u001b[0;32m    382\u001b[0m     sort\u001b[39m=\u001b[39msort,\n\u001b[0;32m    383\u001b[0m )\n\u001b[1;32m--> 385\u001b[0m \u001b[39mreturn\u001b[39;00m op\u001b[39m.\u001b[39;49mget_result()\n",
            "File \u001b[1;32m~\\AppData\\Local\\Packages\\PythonSoftwareFoundation.Python.3.11_qbz5n2kfra8p0\\LocalCache\\local-packages\\Python311\\site-packages\\pandas\\core\\reshape\\concat.py:616\u001b[0m, in \u001b[0;36m_Concatenator.get_result\u001b[1;34m(self)\u001b[0m\n\u001b[0;32m    612\u001b[0m             indexers[ax] \u001b[39m=\u001b[39m obj_labels\u001b[39m.\u001b[39mget_indexer(new_labels)\n\u001b[0;32m    614\u001b[0m     mgrs_indexers\u001b[39m.\u001b[39mappend((obj\u001b[39m.\u001b[39m_mgr, indexers))\n\u001b[1;32m--> 616\u001b[0m new_data \u001b[39m=\u001b[39m concatenate_managers(\n\u001b[0;32m    617\u001b[0m     mgrs_indexers, \u001b[39mself\u001b[39;49m\u001b[39m.\u001b[39;49mnew_axes, concat_axis\u001b[39m=\u001b[39;49m\u001b[39mself\u001b[39;49m\u001b[39m.\u001b[39;49mbm_axis, copy\u001b[39m=\u001b[39;49m\u001b[39mself\u001b[39;49m\u001b[39m.\u001b[39;49mcopy\n\u001b[0;32m    618\u001b[0m )\n\u001b[0;32m    619\u001b[0m \u001b[39mif\u001b[39;00m \u001b[39mnot\u001b[39;00m \u001b[39mself\u001b[39m\u001b[39m.\u001b[39mcopy \u001b[39mand\u001b[39;00m \u001b[39mnot\u001b[39;00m using_copy_on_write():\n\u001b[0;32m    620\u001b[0m     new_data\u001b[39m.\u001b[39m_consolidate_inplace()\n",
            "File \u001b[1;32m~\\AppData\\Local\\Packages\\PythonSoftwareFoundation.Python.3.11_qbz5n2kfra8p0\\LocalCache\\local-packages\\Python311\\site-packages\\pandas\\core\\internals\\concat.py:241\u001b[0m, in \u001b[0;36mconcatenate_managers\u001b[1;34m(mgrs_indexers, axes, concat_axis, copy)\u001b[0m\n\u001b[0;32m    239\u001b[0m     fastpath \u001b[39m=\u001b[39m blk\u001b[39m.\u001b[39mvalues\u001b[39m.\u001b[39mdtype \u001b[39m==\u001b[39m values\u001b[39m.\u001b[39mdtype\n\u001b[0;32m    240\u001b[0m \u001b[39melse\u001b[39;00m:\n\u001b[1;32m--> 241\u001b[0m     values \u001b[39m=\u001b[39m _concatenate_join_units(join_units, copy\u001b[39m=\u001b[39;49mcopy)\n\u001b[0;32m    242\u001b[0m     fastpath \u001b[39m=\u001b[39m \u001b[39mFalse\u001b[39;00m\n\u001b[0;32m    244\u001b[0m \u001b[39mif\u001b[39;00m fastpath:\n",
            "File \u001b[1;32m~\\AppData\\Local\\Packages\\PythonSoftwareFoundation.Python.3.11_qbz5n2kfra8p0\\LocalCache\\local-packages\\Python311\\site-packages\\pandas\\core\\internals\\concat.py:612\u001b[0m, in \u001b[0;36m_concatenate_join_units\u001b[1;34m(join_units, copy)\u001b[0m\n\u001b[0;32m    609\u001b[0m     concat_values \u001b[39m=\u001b[39m ensure_block_shape(concat_values, \u001b[39m2\u001b[39m)\n\u001b[0;32m    611\u001b[0m \u001b[39melse\u001b[39;00m:\n\u001b[1;32m--> 612\u001b[0m     concat_values \u001b[39m=\u001b[39m concat_compat(to_concat, axis\u001b[39m=\u001b[39;49m\u001b[39m1\u001b[39;49m)\n\u001b[0;32m    614\u001b[0m \u001b[39mreturn\u001b[39;00m concat_values\n",
            "File \u001b[1;32m~\\AppData\\Local\\Packages\\PythonSoftwareFoundation.Python.3.11_qbz5n2kfra8p0\\LocalCache\\local-packages\\Python311\\site-packages\\pandas\\core\\dtypes\\concat.py:114\u001b[0m, in \u001b[0;36mconcat_compat\u001b[1;34m(to_concat, axis, ea_compat_axis)\u001b[0m\n\u001b[0;32m    111\u001b[0m             to_concat \u001b[39m=\u001b[39m [x\u001b[39m.\u001b[39mastype(\u001b[39m\"\u001b[39m\u001b[39mobject\u001b[39m\u001b[39m\"\u001b[39m) \u001b[39mfor\u001b[39;00m x \u001b[39min\u001b[39;00m to_concat]\n\u001b[0;32m    112\u001b[0m             kinds \u001b[39m=\u001b[39m {\u001b[39m\"\u001b[39m\u001b[39mo\u001b[39m\u001b[39m\"\u001b[39m}\n\u001b[1;32m--> 114\u001b[0m result \u001b[39m=\u001b[39m np\u001b[39m.\u001b[39;49mconcatenate(to_concat, axis\u001b[39m=\u001b[39;49maxis)\n\u001b[0;32m    115\u001b[0m \u001b[39mif\u001b[39;00m \u001b[39m\"\u001b[39m\u001b[39mb\u001b[39m\u001b[39m\"\u001b[39m \u001b[39min\u001b[39;00m kinds \u001b[39mand\u001b[39;00m result\u001b[39m.\u001b[39mdtype\u001b[39m.\u001b[39mkind \u001b[39min\u001b[39;00m [\u001b[39m\"\u001b[39m\u001b[39mi\u001b[39m\u001b[39m\"\u001b[39m, \u001b[39m\"\u001b[39m\u001b[39mu\u001b[39m\u001b[39m\"\u001b[39m, \u001b[39m\"\u001b[39m\u001b[39mf\u001b[39m\u001b[39m\"\u001b[39m]:\n\u001b[0;32m    116\u001b[0m     \u001b[39m# GH#39817 cast to object instead of casting bools to numeric\u001b[39;00m\n\u001b[0;32m    117\u001b[0m     result \u001b[39m=\u001b[39m result\u001b[39m.\u001b[39mastype(\u001b[39mobject\u001b[39m, copy\u001b[39m=\u001b[39m\u001b[39mFalse\u001b[39;00m)\n",
            "File \u001b[1;32m<__array_function__ internals>:200\u001b[0m, in \u001b[0;36mconcatenate\u001b[1;34m(*args, **kwargs)\u001b[0m\n",
            "\u001b[1;31mKeyboardInterrupt\u001b[0m: "
          ]
        }
      ],
      "source": [
        "#Attempt to load the whole train dataset using chunk size, ~180mil records (8gb file)\n",
        "chunk_size = 1000000\n",
        "\n",
        "final_df = pd.DataFrame()\n",
        "\n",
        "for chunk in pd.read_csv(f'C:/WeCloudData/Machine Learning/Capstone/talkingdata-adtracking-fraud-detection/train.csv', chunksize=chunk_size):\n",
        "  final_df = pd.concat([final_df,chunk])\n",
        "  print(chunk.head())\n",
        "  \n",
        "final_df.head()"
      ]
    },
    {
      "cell_type": "code",
      "execution_count": 3,
      "metadata": {
        "id": "nJqu3klntqj7"
      },
      "outputs": [],
      "source": [
        "df_sample = pd.read_csv(f'C:/WeCloudData/Machine Learning/Capstone/talkingdata-adtracking-fraud-detection/train_sample.csv')"
      ]
    },
    {
      "cell_type": "code",
      "execution_count": 4,
      "metadata": {
        "colab": {
          "base_uri": "https://localhost:8080/",
          "height": 363
        },
        "id": "7mjs1TyltqvK",
        "outputId": "15ea57c5-6159-47ec-f919-669f8d45cad2"
      },
      "outputs": [
        {
          "data": {
            "text/html": [
              "<div>\n",
              "<style scoped>\n",
              "    .dataframe tbody tr th:only-of-type {\n",
              "        vertical-align: middle;\n",
              "    }\n",
              "\n",
              "    .dataframe tbody tr th {\n",
              "        vertical-align: top;\n",
              "    }\n",
              "\n",
              "    .dataframe thead th {\n",
              "        text-align: right;\n",
              "    }\n",
              "</style>\n",
              "<table border=\"1\" class=\"dataframe\">\n",
              "  <thead>\n",
              "    <tr style=\"text-align: right;\">\n",
              "      <th></th>\n",
              "      <th>ip</th>\n",
              "      <th>app</th>\n",
              "      <th>device</th>\n",
              "      <th>os</th>\n",
              "      <th>channel</th>\n",
              "      <th>click_time</th>\n",
              "      <th>attributed_time</th>\n",
              "      <th>is_attributed</th>\n",
              "    </tr>\n",
              "  </thead>\n",
              "  <tbody>\n",
              "    <tr>\n",
              "      <th>0</th>\n",
              "      <td>87540</td>\n",
              "      <td>12</td>\n",
              "      <td>1</td>\n",
              "      <td>13</td>\n",
              "      <td>497</td>\n",
              "      <td>2017-11-07 9:30</td>\n",
              "      <td>NaN</td>\n",
              "      <td>0</td>\n",
              "    </tr>\n",
              "    <tr>\n",
              "      <th>1</th>\n",
              "      <td>105560</td>\n",
              "      <td>25</td>\n",
              "      <td>1</td>\n",
              "      <td>17</td>\n",
              "      <td>259</td>\n",
              "      <td>2017-11-07 13:40</td>\n",
              "      <td>NaN</td>\n",
              "      <td>0</td>\n",
              "    </tr>\n",
              "    <tr>\n",
              "      <th>2</th>\n",
              "      <td>101424</td>\n",
              "      <td>12</td>\n",
              "      <td>1</td>\n",
              "      <td>19</td>\n",
              "      <td>212</td>\n",
              "      <td>2017-11-07 18:05</td>\n",
              "      <td>NaN</td>\n",
              "      <td>0</td>\n",
              "    </tr>\n",
              "    <tr>\n",
              "      <th>3</th>\n",
              "      <td>94584</td>\n",
              "      <td>13</td>\n",
              "      <td>1</td>\n",
              "      <td>13</td>\n",
              "      <td>477</td>\n",
              "      <td>2017-11-07 4:58</td>\n",
              "      <td>NaN</td>\n",
              "      <td>0</td>\n",
              "    </tr>\n",
              "    <tr>\n",
              "      <th>4</th>\n",
              "      <td>68413</td>\n",
              "      <td>12</td>\n",
              "      <td>1</td>\n",
              "      <td>1</td>\n",
              "      <td>178</td>\n",
              "      <td>2017-11-09 9:00</td>\n",
              "      <td>NaN</td>\n",
              "      <td>0</td>\n",
              "    </tr>\n",
              "    <tr>\n",
              "      <th>5</th>\n",
              "      <td>93663</td>\n",
              "      <td>3</td>\n",
              "      <td>1</td>\n",
              "      <td>17</td>\n",
              "      <td>115</td>\n",
              "      <td>2017-11-09 1:22</td>\n",
              "      <td>NaN</td>\n",
              "      <td>0</td>\n",
              "    </tr>\n",
              "    <tr>\n",
              "      <th>6</th>\n",
              "      <td>17059</td>\n",
              "      <td>1</td>\n",
              "      <td>1</td>\n",
              "      <td>17</td>\n",
              "      <td>135</td>\n",
              "      <td>2017-11-09 1:17</td>\n",
              "      <td>NaN</td>\n",
              "      <td>0</td>\n",
              "    </tr>\n",
              "    <tr>\n",
              "      <th>7</th>\n",
              "      <td>121505</td>\n",
              "      <td>9</td>\n",
              "      <td>1</td>\n",
              "      <td>25</td>\n",
              "      <td>442</td>\n",
              "      <td>2017-11-07 10:01</td>\n",
              "      <td>NaN</td>\n",
              "      <td>0</td>\n",
              "    </tr>\n",
              "    <tr>\n",
              "      <th>8</th>\n",
              "      <td>192967</td>\n",
              "      <td>2</td>\n",
              "      <td>2</td>\n",
              "      <td>22</td>\n",
              "      <td>364</td>\n",
              "      <td>2017-11-08 9:35</td>\n",
              "      <td>NaN</td>\n",
              "      <td>0</td>\n",
              "    </tr>\n",
              "    <tr>\n",
              "      <th>9</th>\n",
              "      <td>143636</td>\n",
              "      <td>3</td>\n",
              "      <td>1</td>\n",
              "      <td>19</td>\n",
              "      <td>135</td>\n",
              "      <td>2017-11-08 12:35</td>\n",
              "      <td>NaN</td>\n",
              "      <td>0</td>\n",
              "    </tr>\n",
              "  </tbody>\n",
              "</table>\n",
              "</div>"
            ],
            "text/plain": [
              "       ip  app  device  os  channel        click_time attributed_time   \n",
              "0   87540   12       1  13      497   2017-11-07 9:30             NaN  \\\n",
              "1  105560   25       1  17      259  2017-11-07 13:40             NaN   \n",
              "2  101424   12       1  19      212  2017-11-07 18:05             NaN   \n",
              "3   94584   13       1  13      477   2017-11-07 4:58             NaN   \n",
              "4   68413   12       1   1      178   2017-11-09 9:00             NaN   \n",
              "5   93663    3       1  17      115   2017-11-09 1:22             NaN   \n",
              "6   17059    1       1  17      135   2017-11-09 1:17             NaN   \n",
              "7  121505    9       1  25      442  2017-11-07 10:01             NaN   \n",
              "8  192967    2       2  22      364   2017-11-08 9:35             NaN   \n",
              "9  143636    3       1  19      135  2017-11-08 12:35             NaN   \n",
              "\n",
              "   is_attributed  \n",
              "0              0  \n",
              "1              0  \n",
              "2              0  \n",
              "3              0  \n",
              "4              0  \n",
              "5              0  \n",
              "6              0  \n",
              "7              0  \n",
              "8              0  \n",
              "9              0  "
            ]
          },
          "execution_count": 4,
          "metadata": {},
          "output_type": "execute_result"
        }
      ],
      "source": [
        "df_sample.head(10)"
      ]
    },
    {
      "attachments": {},
      "cell_type": "markdown",
      "metadata": {
        "id": "EFAvjx71vFMh"
      },
      "source": [
        "# EDA"
      ]
    },
    {
      "attachments": {},
      "cell_type": "markdown",
      "metadata": {
        "id": "V7jXc5qnyDMj"
      },
      "source": [
        "## Compare between df_sample and df_train"
      ]
    },
    {
      "cell_type": "code",
      "execution_count": 5,
      "metadata": {
        "colab": {
          "base_uri": "https://localhost:8080/"
        },
        "id": "Sd-i3351uaCv",
        "outputId": "b0a12d78-64fa-4a69-fe76-20902e92f995"
      },
      "outputs": [
        {
          "data": {
            "text/plain": [
              "is_attributed\n",
              "0    0.99773\n",
              "1    0.00227\n",
              "Name: proportion, dtype: float64"
            ]
          },
          "execution_count": 5,
          "metadata": {},
          "output_type": "execute_result"
        }
      ],
      "source": [
        "df_sample['is_attributed'].value_counts(normalize=True)"
      ]
    },
    {
      "cell_type": "code",
      "execution_count": 6,
      "metadata": {},
      "outputs": [
        {
          "data": {
            "text/plain": [
              "is_attributed\n",
              "0    0.997562\n",
              "1    0.002438\n",
              "Name: proportion, dtype: float64"
            ]
          },
          "execution_count": 6,
          "metadata": {},
          "output_type": "execute_result"
        }
      ],
      "source": [
        "final_df['is_attributed'].value_counts(normalize=True)"
      ]
    },
    {
      "attachments": {},
      "cell_type": "markdown",
      "metadata": {
        "id": "JHFLKcYjvKVD"
      },
      "source": [
        "## Sample Training Data"
      ]
    },
    {
      "cell_type": "code",
      "execution_count": 7,
      "metadata": {
        "colab": {
          "base_uri": "https://localhost:8080/",
          "height": 300
        },
        "id": "HUvG11vcuZ4B",
        "outputId": "c445ed3a-c0cc-4335-e552-5314b982d928"
      },
      "outputs": [
        {
          "data": {
            "text/html": [
              "<div>\n",
              "<style scoped>\n",
              "    .dataframe tbody tr th:only-of-type {\n",
              "        vertical-align: middle;\n",
              "    }\n",
              "\n",
              "    .dataframe tbody tr th {\n",
              "        vertical-align: top;\n",
              "    }\n",
              "\n",
              "    .dataframe thead th {\n",
              "        text-align: right;\n",
              "    }\n",
              "</style>\n",
              "<table border=\"1\" class=\"dataframe\">\n",
              "  <thead>\n",
              "    <tr style=\"text-align: right;\">\n",
              "      <th></th>\n",
              "      <th>ip</th>\n",
              "      <th>app</th>\n",
              "      <th>device</th>\n",
              "      <th>os</th>\n",
              "      <th>channel</th>\n",
              "      <th>is_attributed</th>\n",
              "    </tr>\n",
              "  </thead>\n",
              "  <tbody>\n",
              "    <tr>\n",
              "      <th>count</th>\n",
              "      <td>100000.000000</td>\n",
              "      <td>100000.00000</td>\n",
              "      <td>100000.000000</td>\n",
              "      <td>100000.000000</td>\n",
              "      <td>100000.000000</td>\n",
              "      <td>100000.000000</td>\n",
              "    </tr>\n",
              "    <tr>\n",
              "      <th>mean</th>\n",
              "      <td>91255.879670</td>\n",
              "      <td>12.04788</td>\n",
              "      <td>21.771250</td>\n",
              "      <td>22.818280</td>\n",
              "      <td>268.832460</td>\n",
              "      <td>0.002270</td>\n",
              "    </tr>\n",
              "    <tr>\n",
              "      <th>std</th>\n",
              "      <td>69835.553661</td>\n",
              "      <td>14.94150</td>\n",
              "      <td>259.667767</td>\n",
              "      <td>55.943136</td>\n",
              "      <td>129.724248</td>\n",
              "      <td>0.047591</td>\n",
              "    </tr>\n",
              "    <tr>\n",
              "      <th>min</th>\n",
              "      <td>9.000000</td>\n",
              "      <td>1.00000</td>\n",
              "      <td>0.000000</td>\n",
              "      <td>0.000000</td>\n",
              "      <td>3.000000</td>\n",
              "      <td>0.000000</td>\n",
              "    </tr>\n",
              "    <tr>\n",
              "      <th>25%</th>\n",
              "      <td>40552.000000</td>\n",
              "      <td>3.00000</td>\n",
              "      <td>1.000000</td>\n",
              "      <td>13.000000</td>\n",
              "      <td>145.000000</td>\n",
              "      <td>0.000000</td>\n",
              "    </tr>\n",
              "    <tr>\n",
              "      <th>50%</th>\n",
              "      <td>79827.000000</td>\n",
              "      <td>12.00000</td>\n",
              "      <td>1.000000</td>\n",
              "      <td>18.000000</td>\n",
              "      <td>258.000000</td>\n",
              "      <td>0.000000</td>\n",
              "    </tr>\n",
              "    <tr>\n",
              "      <th>75%</th>\n",
              "      <td>118252.000000</td>\n",
              "      <td>15.00000</td>\n",
              "      <td>1.000000</td>\n",
              "      <td>19.000000</td>\n",
              "      <td>379.000000</td>\n",
              "      <td>0.000000</td>\n",
              "    </tr>\n",
              "    <tr>\n",
              "      <th>max</th>\n",
              "      <td>364757.000000</td>\n",
              "      <td>551.00000</td>\n",
              "      <td>3867.000000</td>\n",
              "      <td>866.000000</td>\n",
              "      <td>498.000000</td>\n",
              "      <td>1.000000</td>\n",
              "    </tr>\n",
              "  </tbody>\n",
              "</table>\n",
              "</div>"
            ],
            "text/plain": [
              "                  ip           app         device             os   \n",
              "count  100000.000000  100000.00000  100000.000000  100000.000000  \\\n",
              "mean    91255.879670      12.04788      21.771250      22.818280   \n",
              "std     69835.553661      14.94150     259.667767      55.943136   \n",
              "min         9.000000       1.00000       0.000000       0.000000   \n",
              "25%     40552.000000       3.00000       1.000000      13.000000   \n",
              "50%     79827.000000      12.00000       1.000000      18.000000   \n",
              "75%    118252.000000      15.00000       1.000000      19.000000   \n",
              "max    364757.000000     551.00000    3867.000000     866.000000   \n",
              "\n",
              "             channel  is_attributed  \n",
              "count  100000.000000  100000.000000  \n",
              "mean      268.832460       0.002270  \n",
              "std       129.724248       0.047591  \n",
              "min         3.000000       0.000000  \n",
              "25%       145.000000       0.000000  \n",
              "50%       258.000000       0.000000  \n",
              "75%       379.000000       0.000000  \n",
              "max       498.000000       1.000000  "
            ]
          },
          "execution_count": 7,
          "metadata": {},
          "output_type": "execute_result"
        }
      ],
      "source": [
        "df_sample.describe()"
      ]
    },
    {
      "cell_type": "code",
      "execution_count": 8,
      "metadata": {
        "colab": {
          "base_uri": "https://localhost:8080/"
        },
        "id": "Fwisz1lAuZ6o",
        "outputId": "6f7c24b6-024c-4752-d5cf-78221f3a82a4"
      },
      "outputs": [
        {
          "data": {
            "text/plain": [
              "ip                  int64\n",
              "app                 int64\n",
              "device              int64\n",
              "os                  int64\n",
              "channel             int64\n",
              "click_time         object\n",
              "attributed_time    object\n",
              "is_attributed       int64\n",
              "dtype: object"
            ]
          },
          "execution_count": 8,
          "metadata": {},
          "output_type": "execute_result"
        }
      ],
      "source": [
        "df_sample.dtypes"
      ]
    },
    {
      "cell_type": "code",
      "execution_count": 9,
      "metadata": {
        "colab": {
          "base_uri": "https://localhost:8080/"
        },
        "id": "64NjfnC-uZy8",
        "outputId": "74859791-9763-472e-c7e8-0f0997ad34b2"
      },
      "outputs": [
        {
          "name": "stdout",
          "output_type": "stream",
          "text": [
            "<class 'pandas.core.frame.DataFrame'>\n",
            "RangeIndex: 100000 entries, 0 to 99999\n",
            "Data columns (total 8 columns):\n",
            " #   Column           Non-Null Count   Dtype \n",
            "---  ------           --------------   ----- \n",
            " 0   ip               100000 non-null  int64 \n",
            " 1   app              100000 non-null  int64 \n",
            " 2   device           100000 non-null  int64 \n",
            " 3   os               100000 non-null  int64 \n",
            " 4   channel          100000 non-null  int64 \n",
            " 5   click_time       100000 non-null  object\n",
            " 6   attributed_time  227 non-null     object\n",
            " 7   is_attributed    100000 non-null  int64 \n",
            "dtypes: int64(6), object(2)\n",
            "memory usage: 6.1+ MB\n"
          ]
        }
      ],
      "source": [
        "df_sample.info()"
      ]
    },
    {
      "cell_type": "code",
      "execution_count": 10,
      "metadata": {
        "colab": {
          "base_uri": "https://localhost:8080/"
        },
        "id": "mQ3kSkj3uZ1u",
        "outputId": "1c37d633-b54d-447a-d206-343361e74e84"
      },
      "outputs": [
        {
          "data": {
            "text/plain": [
              "(100000, 8)"
            ]
          },
          "execution_count": 10,
          "metadata": {},
          "output_type": "execute_result"
        }
      ],
      "source": [
        "df_sample.shape"
      ]
    },
    {
      "cell_type": "code",
      "execution_count": 11,
      "metadata": {
        "colab": {
          "base_uri": "https://localhost:8080/"
        },
        "id": "DJBIC1HluZ9M",
        "outputId": "8075f0b5-a081-4419-c2d7-e75cb1d5ded4"
      },
      "outputs": [
        {
          "data": {
            "text/plain": [
              "ip                     0\n",
              "app                    0\n",
              "device                 0\n",
              "os                     0\n",
              "channel                0\n",
              "click_time             0\n",
              "attributed_time    99773\n",
              "is_attributed          0\n",
              "dtype: int64"
            ]
          },
          "execution_count": 11,
          "metadata": {},
          "output_type": "execute_result"
        }
      ],
      "source": [
        "df_sample.isnull().sum()"
      ]
    },
    {
      "cell_type": "code",
      "execution_count": 12,
      "metadata": {
        "colab": {
          "base_uri": "https://localhost:8080/"
        },
        "id": "VUleRRN1uZ_m",
        "outputId": "9735a2f3-f6e2-4573-f213-452f3adf32d3"
      },
      "outputs": [
        {
          "name": "stdout",
          "output_type": "stream",
          "text": [
            "Number of Unique App: 161\n",
            "Number of Unique device: 100\n",
            "Number of unique IP: 34857\n",
            "Number of unique OS: 130\n",
            "Number of unique channel: 161\n"
          ]
        }
      ],
      "source": [
        "print('Number of Unique App:', len(df_sample['app'].unique().flatten()))\n",
        "print('Number of Unique device:',len(df_sample['device'].unique().flatten()))\n",
        "print('Number of unique IP:', len(df_sample['ip'].unique().flatten()))\n",
        "print('Number of unique OS:', len(df_sample['os'].unique().flatten()))\n",
        "print('Number of unique channel:', len(df_sample['channel'].unique().flatten()))"
      ]
    },
    {
      "cell_type": "code",
      "execution_count": 13,
      "metadata": {
        "colab": {
          "base_uri": "https://localhost:8080/",
          "height": 573
        },
        "id": "YgBCwOCayAVX",
        "outputId": "ef9ae57c-4bdb-411f-a27a-1328343965dc"
      },
      "outputs": [
        {
          "data": {
            "image/png": "[encoded data removed]",
            "text/plain": [
              "<Figure size 1000x600 with 1 Axes>"
            ]
          },
          "metadata": {},
          "output_type": "display_data"
        }
      ],
      "source": [
        "plt.figure(figsize=(10, 6))\n",
        "cols = ['ip', 'app', 'device', 'os', 'channel']\n",
        "uniques = [len(df_sample[col].unique()) for col in cols]\n",
        "sns.set(font_scale=1)\n",
        "ax = sns.barplot(x=cols, y=uniques, log = True)\n",
        "ax.set(xlabel='Feature', ylabel='unique count', title='Number of unique values per feature (from 100,000 samples)')\n",
        "for p, uniq in zip(ax.patches, uniques):\n",
        "    height = p.get_height()\n",
        "    ax.text(p.get_x()+p.get_width()/2.,\n",
        "            height + 10,\n",
        "            uniq,\n",
        "            ha=\"center\") "
      ]
    },
    {
      "cell_type": "code",
      "execution_count": 24,
      "metadata": {
        "colab": {
          "base_uri": "https://localhost:8080/",
          "height": 292
        },
        "id": "lf3sy7t-wKAS",
        "outputId": "2696560b-82f0-4325-8878-9c053e2d1750"
      },
      "outputs": [],
      "source": [
        "df_sample_corr = df_sample.drop(['click_time','attributed_time'], axis = 1)\n",
        "df_sample_corr = df_sample_corr.corr()"
      ]
    },
    {
      "cell_type": "code",
      "execution_count": 27,
      "metadata": {
        "colab": {
          "base_uri": "https://localhost:8080/",
          "height": 704
        },
        "id": "W99hkJbxwM_n",
        "outputId": "c8c95411-dcaf-4703-9eb0-282b0e8afc47"
      },
      "outputs": [
        {
          "data": {
            "image/png": "[encoded data removed]",
            "text/plain": [
              "<Figure size 2000x800 with 2 Axes>"
            ]
          },
          "metadata": {},
          "output_type": "display_data"
        }
      ],
      "source": [
        "plt.figure(figsize = (20, 8))\n",
        "\n",
        "# Heatmap of correlations\n",
        "sns.heatmap(df_sample_corr, cmap = plt.cm.RdYlBu_r, vmin = -0.25, annot = True, vmax = 0.6)\n",
        "plt.title('Correlation Heatmap');"
      ]
    },
    {
      "attachments": {},
      "cell_type": "markdown",
      "metadata": {
        "id": "msy15z_2zeQj"
      },
      "source": [
        "### Ip column"
      ]
    },
    {
      "cell_type": "code",
      "execution_count": 28,
      "metadata": {
        "colab": {
          "base_uri": "https://localhost:8080/"
        },
        "id": "8aYVulgU7tLD",
        "outputId": "00a8986f-9709-426b-ebee-b48c50bcbf5d"
      },
      "outputs": [
        {
          "data": {
            "text/plain": [
              "34857"
            ]
          },
          "execution_count": 28,
          "metadata": {},
          "output_type": "execute_result"
        }
      ],
      "source": [
        "df_sample['ip'].nunique()"
      ]
    },
    {
      "cell_type": "code",
      "execution_count": 29,
      "metadata": {
        "colab": {
          "base_uri": "https://localhost:8080/"
        },
        "id": "1pdEfvHe79oK",
        "outputId": "c834ec92-9220-4e3a-82e4-f2766ef8fb34"
      },
      "outputs": [
        {
          "data": {
            "text/plain": [
              "ip\n",
              "5348      669\n",
              "5314      616\n",
              "73487     439\n",
              "73516     399\n",
              "53454     280\n",
              "114276    219\n",
              "26995     218\n",
              "95766     205\n",
              "17149     186\n",
              "100275    173\n",
              "Name: count, dtype: int64"
            ]
          },
          "execution_count": 29,
          "metadata": {},
          "output_type": "execute_result"
        }
      ],
      "source": [
        "# Top 10 Ips\n",
        "df_sample['ip'].value_counts().head(10)"
      ]
    },
    {
      "cell_type": "code",
      "execution_count": 30,
      "metadata": {
        "colab": {
          "base_uri": "https://localhost:8080/",
          "height": 363
        },
        "id": "Z_H14LEZ0WN_",
        "outputId": "bbe50c73-fe29-4768-f476-b8cd20c1f334"
      },
      "outputs": [
        {
          "data": {
            "text/html": [
              "<div>\n",
              "<style scoped>\n",
              "    .dataframe tbody tr th:only-of-type {\n",
              "        vertical-align: middle;\n",
              "    }\n",
              "\n",
              "    .dataframe tbody tr th {\n",
              "        vertical-align: top;\n",
              "    }\n",
              "\n",
              "    .dataframe thead th {\n",
              "        text-align: right;\n",
              "    }\n",
              "</style>\n",
              "<table border=\"1\" class=\"dataframe\">\n",
              "  <thead>\n",
              "    <tr style=\"text-align: right;\">\n",
              "      <th></th>\n",
              "      <th>ip</th>\n",
              "      <th>count_ip</th>\n",
              "    </tr>\n",
              "  </thead>\n",
              "  <tbody>\n",
              "    <tr>\n",
              "      <th>0</th>\n",
              "      <td>5348</td>\n",
              "      <td>669</td>\n",
              "    </tr>\n",
              "    <tr>\n",
              "      <th>1</th>\n",
              "      <td>5314</td>\n",
              "      <td>616</td>\n",
              "    </tr>\n",
              "    <tr>\n",
              "      <th>2</th>\n",
              "      <td>73487</td>\n",
              "      <td>439</td>\n",
              "    </tr>\n",
              "    <tr>\n",
              "      <th>3</th>\n",
              "      <td>73516</td>\n",
              "      <td>399</td>\n",
              "    </tr>\n",
              "    <tr>\n",
              "      <th>4</th>\n",
              "      <td>53454</td>\n",
              "      <td>280</td>\n",
              "    </tr>\n",
              "    <tr>\n",
              "      <th>5</th>\n",
              "      <td>114276</td>\n",
              "      <td>219</td>\n",
              "    </tr>\n",
              "    <tr>\n",
              "      <th>6</th>\n",
              "      <td>26995</td>\n",
              "      <td>218</td>\n",
              "    </tr>\n",
              "    <tr>\n",
              "      <th>7</th>\n",
              "      <td>95766</td>\n",
              "      <td>205</td>\n",
              "    </tr>\n",
              "    <tr>\n",
              "      <th>8</th>\n",
              "      <td>17149</td>\n",
              "      <td>186</td>\n",
              "    </tr>\n",
              "    <tr>\n",
              "      <th>9</th>\n",
              "      <td>100275</td>\n",
              "      <td>173</td>\n",
              "    </tr>\n",
              "  </tbody>\n",
              "</table>\n",
              "</div>"
            ],
            "text/plain": [
              "       ip  count_ip\n",
              "0    5348       669\n",
              "1    5314       616\n",
              "2   73487       439\n",
              "3   73516       399\n",
              "4   53454       280\n",
              "5  114276       219\n",
              "6   26995       218\n",
              "7   95766       205\n",
              "8   17149       186\n",
              "9  100275       173"
            ]
          },
          "execution_count": 30,
          "metadata": {},
          "output_type": "execute_result"
        }
      ],
      "source": [
        "#group all count_ip = 10 and name them 'other'\n",
        "threshold = 50 \n",
        "\n",
        "grouped_ip = df_sample.groupby('ip').size().reset_index(name='count_ip')\n",
        "#sort value by count\n",
        "\n",
        "grouped_ip=grouped_ip.sort_values('count_ip', ascending = False)\n",
        "\n",
        "# group all products with count less than threshold as 'other'\n",
        "other_count = grouped_ip.loc[grouped_ip['count_ip'] < threshold, 'count_ip'].sum()\n",
        "grouped_ip = grouped_ip.loc[grouped_ip['count_ip'] >= threshold]\n",
        "grouped_ip = pd.concat([grouped_ip, pd.DataFrame({'ip': ['other'], 'count_ip': [other_count]})]).reset_index(drop=True)\n",
        "\n",
        "grouped_ip.head(10)\n",
        "# # group all products with count less than threshold as 'other'\n",
        "# other_count = grouped_ip[grouped_ip < threshold].sum()\n",
        "# grouped_ip = grouped_ip[grouped_ip >= threshold]\n",
        "# grouped_ip['other'] = other_count"
      ]
    },
    {
      "cell_type": "code",
      "execution_count": 40,
      "metadata": {
        "colab": {
          "base_uri": "https://localhost:8080/",
          "height": 619
        },
        "id": "G83NZWRcJSva",
        "outputId": "9273e2ab-c505-4329-8a07-bcfd7c489e2e"
      },
      "outputs": [
        {
          "data": {
            "image/png": "[encoded data removed]",
            "text/plain": [
              "<Figure size 600x600 with 1 Axes>"
            ]
          },
          "metadata": {},
          "output_type": "display_data"
        }
      ],
      "source": [
        "sns.set_theme(style=\"whitegrid\")\n",
        "\n",
        "# Draw a nested barplot by species and sex\n",
        "g = sns.catplot(\n",
        "    data=grouped_ip.head(10), kind=\"bar\",\n",
        "    x=\"ip\", y=\"count_ip\", hue=\"ip\", palette=\"dark\", alpha=.6, height=6, width = 1\n",
        "\n",
        ")\n",
        "g.despine(left=True)\n",
        "g.set_axis_labels(\"\", \"Count IP\")\n",
        "\n",
        "g.fig.subplots_adjust(top=0.9)\n",
        "g.fig.suptitle(\"Top 10 Suspicious IPs\",\n",
        "                  fontsize=20, fontdict={\"weight\": \"bold\"})\n",
        "plt.xlabel('IP')\n",
        "plt.xticks(rotation=45);"
      ]
    },
    {
      "cell_type": "code",
      "execution_count": 41,
      "metadata": {
        "colab": {
          "base_uri": "https://localhost:8080/",
          "height": 1000
        },
        "id": "hstRSMXRyAb_",
        "outputId": "74e5e3ee-133f-4779-cf67-d90bbb7388a0"
      },
      "outputs": [
        {
          "data": {
            "image/png": "[encoded data removed]",
            "text/plain": [
              "<Figure size 640x480 with 1 Axes>"
            ]
          },
          "metadata": {},
          "output_type": "display_data"
        },
        {
          "data": {
            "image/png": "[encoded data removed]",
            "text/plain": [
              "<Figure size 640x480 with 1 Axes>"
            ]
          },
          "metadata": {},
          "output_type": "display_data"
        },
        {
          "data": {
            "image/png": "[encoded data removed]",
            "text/plain": [
              "<Figure size 640x480 with 1 Axes>"
            ]
          },
          "metadata": {},
          "output_type": "display_data"
        },
        {
          "data": {
            "image/png": "[encoded data removed]",
            "text/plain": [
              "<Figure size 640x480 with 1 Axes>"
            ]
          },
          "metadata": {},
          "output_type": "display_data"
        },
        {
          "data": {
            "image/png": "[encoded data removed]",
            "text/plain": [
              "<Figure size 640x480 with 1 Axes>"
            ]
          },
          "metadata": {},
          "output_type": "display_data"
        }
      ],
      "source": [
        "ip_unique = df_sample['ip'].unique()\n",
        "count_ip = df_sample['ip'].value_counts()\n",
        "sort_count = np.sort(count_ip.values)\n",
        "for col, uniq in zip(cols, uniques):\n",
        "  count_value = df_sample[col].value_counts()\n",
        "  sort_count = np.sort(count_value.values)\n",
        "  fig = plt.figure()\n",
        "  ax = fig.add_subplot(111)\n",
        "  line = ax.plot(sort_count)\n",
        "  ax.set_yscale('log')\n",
        "  plt.title(\"Distribution of value counts for {}\".format(col))\n",
        "  plt.ylabel('Number of Occurance')\n",
        "  plt.xlabel('Value')\n",
        "  plt.show()"
      ]
    },
    {
      "attachments": {},
      "cell_type": "markdown",
      "metadata": {
        "id": "ReC9N2-yE6oJ"
      },
      "source": [
        "### App Columns"
      ]
    },
    {
      "cell_type": "code",
      "execution_count": 42,
      "metadata": {
        "colab": {
          "base_uri": "https://localhost:8080/"
        },
        "id": "OtOFNXXlE8aV",
        "outputId": "fec17f2b-17f2-49c3-fd84-86c131166cd4"
      },
      "outputs": [
        {
          "data": {
            "text/plain": [
              "161"
            ]
          },
          "execution_count": 42,
          "metadata": {},
          "output_type": "execute_result"
        }
      ],
      "source": [
        "df_sample['app'].nunique()"
      ]
    },
    {
      "cell_type": "code",
      "execution_count": 44,
      "metadata": {
        "colab": {
          "base_uri": "https://localhost:8080/",
          "height": 363
        },
        "id": "Q6nah2DzFBIx",
        "outputId": "2eb7908a-1360-458d-8069-81e13895fbb4"
      },
      "outputs": [],
      "source": [
        "app = df_sample['app'].value_counts().head(10).reset_index()"
      ]
    },
    {
      "cell_type": "code",
      "execution_count": 45,
      "metadata": {},
      "outputs": [
        {
          "data": {
            "text/html": [
              "<div>\n",
              "<style scoped>\n",
              "    .dataframe tbody tr th:only-of-type {\n",
              "        vertical-align: middle;\n",
              "    }\n",
              "\n",
              "    .dataframe tbody tr th {\n",
              "        vertical-align: top;\n",
              "    }\n",
              "\n",
              "    .dataframe thead th {\n",
              "        text-align: right;\n",
              "    }\n",
              "</style>\n",
              "<table border=\"1\" class=\"dataframe\">\n",
              "  <thead>\n",
              "    <tr style=\"text-align: right;\">\n",
              "      <th></th>\n",
              "      <th>app</th>\n",
              "      <th>count</th>\n",
              "    </tr>\n",
              "  </thead>\n",
              "  <tbody>\n",
              "    <tr>\n",
              "      <th>0</th>\n",
              "      <td>3</td>\n",
              "      <td>18279</td>\n",
              "    </tr>\n",
              "    <tr>\n",
              "      <th>1</th>\n",
              "      <td>12</td>\n",
              "      <td>13198</td>\n",
              "    </tr>\n",
              "    <tr>\n",
              "      <th>2</th>\n",
              "      <td>2</td>\n",
              "      <td>11737</td>\n",
              "    </tr>\n",
              "    <tr>\n",
              "      <th>3</th>\n",
              "      <td>9</td>\n",
              "      <td>8992</td>\n",
              "    </tr>\n",
              "    <tr>\n",
              "      <th>4</th>\n",
              "      <td>15</td>\n",
              "      <td>8595</td>\n",
              "    </tr>\n",
              "    <tr>\n",
              "      <th>5</th>\n",
              "      <td>18</td>\n",
              "      <td>8315</td>\n",
              "    </tr>\n",
              "    <tr>\n",
              "      <th>6</th>\n",
              "      <td>14</td>\n",
              "      <td>5359</td>\n",
              "    </tr>\n",
              "    <tr>\n",
              "      <th>7</th>\n",
              "      <td>1</td>\n",
              "      <td>3135</td>\n",
              "    </tr>\n",
              "    <tr>\n",
              "      <th>8</th>\n",
              "      <td>13</td>\n",
              "      <td>2422</td>\n",
              "    </tr>\n",
              "    <tr>\n",
              "      <th>9</th>\n",
              "      <td>8</td>\n",
              "      <td>2004</td>\n",
              "    </tr>\n",
              "  </tbody>\n",
              "</table>\n",
              "</div>"
            ],
            "text/plain": [
              "   app  count\n",
              "0    3  18279\n",
              "1   12  13198\n",
              "2    2  11737\n",
              "3    9   8992\n",
              "4   15   8595\n",
              "5   18   8315\n",
              "6   14   5359\n",
              "7    1   3135\n",
              "8   13   2422\n",
              "9    8   2004"
            ]
          },
          "execution_count": 45,
          "metadata": {},
          "output_type": "execute_result"
        }
      ],
      "source": [
        "app"
      ]
    },
    {
      "cell_type": "code",
      "execution_count": 51,
      "metadata": {},
      "outputs": [
        {
          "data": {
            "image/png": "[encoded data removed]",
            "text/plain": [
              "<Figure size 640x480 with 1 Axes>"
            ]
          },
          "metadata": {},
          "output_type": "display_data"
        }
      ],
      "source": [
        "sns.barplot(data = app, x ='app', y='count', order = app.sort_values('count').app)\n",
        "plt.title('Top 10 app have the highest interaction')\n",
        "plt.show();"
      ]
    },
    {
      "attachments": {},
      "cell_type": "markdown",
      "metadata": {
        "id": "k9n3q8T2zjNH"
      },
      "source": [
        "### Device Column"
      ]
    },
    {
      "cell_type": "code",
      "execution_count": 52,
      "metadata": {
        "id": "8fBRqG0oyAiV"
      },
      "outputs": [],
      "source": [
        "device = pd.DataFrame(df_sample['device'].value_counts())\n",
        "device = device.rename(columns=({'device':'count'}))\n",
        "device = device.reset_index()\n",
        "device = device.rename(columns={'index':'device'})\n",
        "# Change type of Device column\n",
        "device['device'] = device['device'].apply(lambda x:str(x))"
      ]
    },
    {
      "cell_type": "code",
      "execution_count": 53,
      "metadata": {
        "colab": {
          "base_uri": "https://localhost:8080/"
        },
        "id": "NQcMS6GCzmIP",
        "outputId": "11f124bb-af58-4fb2-84bf-58684b459a54"
      },
      "outputs": [
        {
          "data": {
            "text/plain": [
              "device\n",
              "1       94338\n",
              "2        4345\n",
              "0         541\n",
              "3032      371\n",
              "3543      151\n",
              "3866       93\n",
              "59         12\n",
              "6           8\n",
              "16          7\n",
              "40          7\n",
              "Name: count, dtype: int64"
            ]
          },
          "execution_count": 53,
          "metadata": {},
          "output_type": "execute_result"
        }
      ],
      "source": [
        "df_sample['device'].value_counts().head(10)"
      ]
    },
    {
      "cell_type": "code",
      "execution_count": 54,
      "metadata": {
        "id": "kYKJ-m1KJ0IO"
      },
      "outputs": [],
      "source": [
        "device=device.head(10)"
      ]
    },
    {
      "cell_type": "code",
      "execution_count": 55,
      "metadata": {
        "colab": {
          "base_uri": "https://localhost:8080/",
          "height": 670
        },
        "id": "cebaqvIuzmCs",
        "outputId": "1343da36-db7f-4ba2-ce5c-b4d6da167a61"
      },
      "outputs": [
        {
          "data": {
            "text/plain": [
              "<Figure size 640x480 with 0 Axes>"
            ]
          },
          "metadata": {},
          "output_type": "display_data"
        },
        {
          "data": {
            "image/png": "[encoded data removed]",
            "text/plain": [
              "<Figure size 600x700 with 1 Axes>"
            ]
          },
          "metadata": {},
          "output_type": "display_data"
        }
      ],
      "source": [
        "def addlabels(x,y):\n",
        "    for i in range(len(x)):\n",
        "        plt.text(i, y[i], y[i], ha = 'center')\n",
        "plt.figure()\n",
        "fig, ax = plt.subplots(figsize=(6,7))\n",
        "x = device['device']\n",
        "y = device['count']\n",
        "addlabels(x, y)\n",
        "sns.barplot(ax=ax, x=x, y=y)\n",
        "ax.set_yscale('log')\n",
        "plt.ylabel('Number of values', fontsize=12)\n",
        "plt.xlabel('Device', fontsize=12)\n",
        "plt.tick_params(axis='both', which='major', labelsize=12)\n",
        "plt.title('Top 10 devices were used by adviewers')\n",
        "plt.show();"
      ]
    },
    {
      "attachments": {},
      "cell_type": "markdown",
      "metadata": {
        "id": "Kx24hfPxKv83"
      },
      "source": [
        "### Channel"
      ]
    },
    {
      "cell_type": "code",
      "execution_count": 58,
      "metadata": {
        "colab": {
          "base_uri": "https://localhost:8080/"
        },
        "id": "3FOrVC0YK7rM",
        "outputId": "d053719a-ce71-4fe1-efb1-aa52f514c9e2"
      },
      "outputs": [
        {
          "data": {
            "text/html": [
              "<div>\n",
              "<style scoped>\n",
              "    .dataframe tbody tr th:only-of-type {\n",
              "        vertical-align: middle;\n",
              "    }\n",
              "\n",
              "    .dataframe tbody tr th {\n",
              "        vertical-align: top;\n",
              "    }\n",
              "\n",
              "    .dataframe thead th {\n",
              "        text-align: right;\n",
              "    }\n",
              "</style>\n",
              "<table border=\"1\" class=\"dataframe\">\n",
              "  <thead>\n",
              "    <tr style=\"text-align: right;\">\n",
              "      <th></th>\n",
              "      <th>channel</th>\n",
              "      <th>count</th>\n",
              "    </tr>\n",
              "  </thead>\n",
              "  <tbody>\n",
              "    <tr>\n",
              "      <th>0</th>\n",
              "      <td>280</td>\n",
              "      <td>8114</td>\n",
              "    </tr>\n",
              "    <tr>\n",
              "      <th>1</th>\n",
              "      <td>245</td>\n",
              "      <td>4802</td>\n",
              "    </tr>\n",
              "    <tr>\n",
              "      <th>2</th>\n",
              "      <td>107</td>\n",
              "      <td>4543</td>\n",
              "    </tr>\n",
              "    <tr>\n",
              "      <th>3</th>\n",
              "      <td>477</td>\n",
              "      <td>3960</td>\n",
              "    </tr>\n",
              "    <tr>\n",
              "      <th>4</th>\n",
              "      <td>134</td>\n",
              "      <td>3224</td>\n",
              "    </tr>\n",
              "    <tr>\n",
              "      <th>5</th>\n",
              "      <td>259</td>\n",
              "      <td>3130</td>\n",
              "    </tr>\n",
              "    <tr>\n",
              "      <th>6</th>\n",
              "      <td>265</td>\n",
              "      <td>3013</td>\n",
              "    </tr>\n",
              "    <tr>\n",
              "      <th>7</th>\n",
              "      <td>153</td>\n",
              "      <td>2954</td>\n",
              "    </tr>\n",
              "    <tr>\n",
              "      <th>8</th>\n",
              "      <td>178</td>\n",
              "      <td>2936</td>\n",
              "    </tr>\n",
              "    <tr>\n",
              "      <th>9</th>\n",
              "      <td>121</td>\n",
              "      <td>2472</td>\n",
              "    </tr>\n",
              "  </tbody>\n",
              "</table>\n",
              "</div>"
            ],
            "text/plain": [
              "   channel  count\n",
              "0      280   8114\n",
              "1      245   4802\n",
              "2      107   4543\n",
              "3      477   3960\n",
              "4      134   3224\n",
              "5      259   3130\n",
              "6      265   3013\n",
              "7      153   2954\n",
              "8      178   2936\n",
              "9      121   2472"
            ]
          },
          "execution_count": 58,
          "metadata": {},
          "output_type": "execute_result"
        }
      ],
      "source": [
        "channel = df_sample['channel'].value_counts().head(10).reset_index()\n",
        "channel"
      ]
    },
    {
      "cell_type": "code",
      "execution_count": 59,
      "metadata": {},
      "outputs": [
        {
          "data": {
            "text/plain": [
              "<Axes: xlabel='channel', ylabel='count'>"
            ]
          },
          "execution_count": 59,
          "metadata": {},
          "output_type": "execute_result"
        },
        {
          "data": {
            "image/png": "[encoded data removed]",
            "text/plain": [
              "<Figure size 640x480 with 1 Axes>"
            ]
          },
          "metadata": {},
          "output_type": "display_data"
        }
      ],
      "source": [
        "sns.barplot(data = channel, x = 'channel', y='count')"
      ]
    },
    {
      "cell_type": "code",
      "execution_count": 33,
      "metadata": {
        "colab": {
          "base_uri": "https://localhost:8080/"
        },
        "id": "hEQoYTIFLUPF",
        "outputId": "01115291-776d-4dcc-bca2-a1e0d3aa13ba"
      },
      "outputs": [
        {
          "data": {
            "text/plain": [
              "410    2\n",
              "15     2\n",
              "455    2\n",
              "498    1\n",
              "451    1\n",
              "114    1\n",
              "474    1\n",
              "261    1\n",
              "465    1\n",
              "4      1\n",
              "Name: channel, dtype: int64"
            ]
          },
          "execution_count": 33,
          "metadata": {},
          "output_type": "execute_result"
        }
      ],
      "source": [
        "df_sample['channel'].value_counts().tail(10)"
      ]
    },
    {
      "attachments": {},
      "cell_type": "markdown",
      "metadata": {
        "id": "Af1r7l7MLcSL"
      },
      "source": [
        "### Click time\n"
      ]
    },
    {
      "cell_type": "code",
      "execution_count": 61,
      "metadata": {
        "colab": {
          "base_uri": "https://localhost:8080/",
          "height": 363
        },
        "id": "J55tOF3pLev_",
        "outputId": "28462d3e-9c3b-41fe-f25b-6c0ed3ae2927"
      },
      "outputs": [
        {
          "data": {
            "text/html": [
              "<div>\n",
              "<style scoped>\n",
              "    .dataframe tbody tr th:only-of-type {\n",
              "        vertical-align: middle;\n",
              "    }\n",
              "\n",
              "    .dataframe tbody tr th {\n",
              "        vertical-align: top;\n",
              "    }\n",
              "\n",
              "    .dataframe thead th {\n",
              "        text-align: right;\n",
              "    }\n",
              "</style>\n",
              "<table border=\"1\" class=\"dataframe\">\n",
              "  <thead>\n",
              "    <tr style=\"text-align: right;\">\n",
              "      <th></th>\n",
              "      <th>ip</th>\n",
              "      <th>app</th>\n",
              "      <th>device</th>\n",
              "      <th>os</th>\n",
              "      <th>channel</th>\n",
              "      <th>click_time</th>\n",
              "      <th>attributed_time</th>\n",
              "      <th>is_attributed</th>\n",
              "    </tr>\n",
              "  </thead>\n",
              "  <tbody>\n",
              "    <tr>\n",
              "      <th>0</th>\n",
              "      <td>87540</td>\n",
              "      <td>12</td>\n",
              "      <td>1</td>\n",
              "      <td>13</td>\n",
              "      <td>497</td>\n",
              "      <td>2017-11-07 9:30</td>\n",
              "      <td>NaN</td>\n",
              "      <td>0</td>\n",
              "    </tr>\n",
              "    <tr>\n",
              "      <th>1</th>\n",
              "      <td>105560</td>\n",
              "      <td>25</td>\n",
              "      <td>1</td>\n",
              "      <td>17</td>\n",
              "      <td>259</td>\n",
              "      <td>2017-11-07 13:40</td>\n",
              "      <td>NaN</td>\n",
              "      <td>0</td>\n",
              "    </tr>\n",
              "    <tr>\n",
              "      <th>2</th>\n",
              "      <td>101424</td>\n",
              "      <td>12</td>\n",
              "      <td>1</td>\n",
              "      <td>19</td>\n",
              "      <td>212</td>\n",
              "      <td>2017-11-07 18:05</td>\n",
              "      <td>NaN</td>\n",
              "      <td>0</td>\n",
              "    </tr>\n",
              "    <tr>\n",
              "      <th>3</th>\n",
              "      <td>94584</td>\n",
              "      <td>13</td>\n",
              "      <td>1</td>\n",
              "      <td>13</td>\n",
              "      <td>477</td>\n",
              "      <td>2017-11-07 4:58</td>\n",
              "      <td>NaN</td>\n",
              "      <td>0</td>\n",
              "    </tr>\n",
              "    <tr>\n",
              "      <th>4</th>\n",
              "      <td>68413</td>\n",
              "      <td>12</td>\n",
              "      <td>1</td>\n",
              "      <td>1</td>\n",
              "      <td>178</td>\n",
              "      <td>2017-11-09 9:00</td>\n",
              "      <td>NaN</td>\n",
              "      <td>0</td>\n",
              "    </tr>\n",
              "    <tr>\n",
              "      <th>5</th>\n",
              "      <td>93663</td>\n",
              "      <td>3</td>\n",
              "      <td>1</td>\n",
              "      <td>17</td>\n",
              "      <td>115</td>\n",
              "      <td>2017-11-09 1:22</td>\n",
              "      <td>NaN</td>\n",
              "      <td>0</td>\n",
              "    </tr>\n",
              "    <tr>\n",
              "      <th>6</th>\n",
              "      <td>17059</td>\n",
              "      <td>1</td>\n",
              "      <td>1</td>\n",
              "      <td>17</td>\n",
              "      <td>135</td>\n",
              "      <td>2017-11-09 1:17</td>\n",
              "      <td>NaN</td>\n",
              "      <td>0</td>\n",
              "    </tr>\n",
              "    <tr>\n",
              "      <th>7</th>\n",
              "      <td>121505</td>\n",
              "      <td>9</td>\n",
              "      <td>1</td>\n",
              "      <td>25</td>\n",
              "      <td>442</td>\n",
              "      <td>2017-11-07 10:01</td>\n",
              "      <td>NaN</td>\n",
              "      <td>0</td>\n",
              "    </tr>\n",
              "    <tr>\n",
              "      <th>8</th>\n",
              "      <td>192967</td>\n",
              "      <td>2</td>\n",
              "      <td>2</td>\n",
              "      <td>22</td>\n",
              "      <td>364</td>\n",
              "      <td>2017-11-08 9:35</td>\n",
              "      <td>NaN</td>\n",
              "      <td>0</td>\n",
              "    </tr>\n",
              "    <tr>\n",
              "      <th>9</th>\n",
              "      <td>143636</td>\n",
              "      <td>3</td>\n",
              "      <td>1</td>\n",
              "      <td>19</td>\n",
              "      <td>135</td>\n",
              "      <td>2017-11-08 12:35</td>\n",
              "      <td>NaN</td>\n",
              "      <td>0</td>\n",
              "    </tr>\n",
              "  </tbody>\n",
              "</table>\n",
              "</div>"
            ],
            "text/plain": [
              "       ip  app  device  os  channel        click_time attributed_time   \n",
              "0   87540   12       1  13      497   2017-11-07 9:30             NaN  \\\n",
              "1  105560   25       1  17      259  2017-11-07 13:40             NaN   \n",
              "2  101424   12       1  19      212  2017-11-07 18:05             NaN   \n",
              "3   94584   13       1  13      477   2017-11-07 4:58             NaN   \n",
              "4   68413   12       1   1      178   2017-11-09 9:00             NaN   \n",
              "5   93663    3       1  17      115   2017-11-09 1:22             NaN   \n",
              "6   17059    1       1  17      135   2017-11-09 1:17             NaN   \n",
              "7  121505    9       1  25      442  2017-11-07 10:01             NaN   \n",
              "8  192967    2       2  22      364   2017-11-08 9:35             NaN   \n",
              "9  143636    3       1  19      135  2017-11-08 12:35             NaN   \n",
              "\n",
              "   is_attributed  \n",
              "0              0  \n",
              "1              0  \n",
              "2              0  \n",
              "3              0  \n",
              "4              0  \n",
              "5              0  \n",
              "6              0  \n",
              "7              0  \n",
              "8              0  \n",
              "9              0  "
            ]
          },
          "execution_count": 61,
          "metadata": {},
          "output_type": "execute_result"
        }
      ],
      "source": [
        "df_sample.head(10)"
      ]
    },
    {
      "attachments": {},
      "cell_type": "markdown",
      "metadata": {
        "id": "c-8jn5SkuV7a"
      },
      "source": [
        "#### Note: Potential Blacklist Ip (click but no download - attributed time = NaN)"
      ]
    },
    {
      "cell_type": "code",
      "execution_count": 62,
      "metadata": {
        "colab": {
          "base_uri": "https://localhost:8080/",
          "height": 394
        },
        "id": "g8dcSk2Rrca-",
        "outputId": "792cfb68-6a74-45b7-ebc0-d67d9ba56c7a"
      },
      "outputs": [
        {
          "data": {
            "text/html": [
              "<div>\n",
              "<style scoped>\n",
              "    .dataframe tbody tr th:only-of-type {\n",
              "        vertical-align: middle;\n",
              "    }\n",
              "\n",
              "    .dataframe tbody tr th {\n",
              "        vertical-align: top;\n",
              "    }\n",
              "\n",
              "    .dataframe thead th {\n",
              "        text-align: right;\n",
              "    }\n",
              "</style>\n",
              "<table border=\"1\" class=\"dataframe\">\n",
              "  <thead>\n",
              "    <tr style=\"text-align: right;\">\n",
              "      <th></th>\n",
              "      <th>click_time</th>\n",
              "      <th>attributed_time</th>\n",
              "    </tr>\n",
              "    <tr>\n",
              "      <th>ip</th>\n",
              "      <th></th>\n",
              "      <th></th>\n",
              "    </tr>\n",
              "  </thead>\n",
              "  <tbody>\n",
              "    <tr>\n",
              "      <th>73487</th>\n",
              "      <td>439</td>\n",
              "      <td>0</td>\n",
              "    </tr>\n",
              "    <tr>\n",
              "      <th>73516</th>\n",
              "      <td>399</td>\n",
              "      <td>0</td>\n",
              "    </tr>\n",
              "    <tr>\n",
              "      <th>53454</th>\n",
              "      <td>280</td>\n",
              "      <td>0</td>\n",
              "    </tr>\n",
              "    <tr>\n",
              "      <th>114276</th>\n",
              "      <td>219</td>\n",
              "      <td>0</td>\n",
              "    </tr>\n",
              "    <tr>\n",
              "      <th>26995</th>\n",
              "      <td>218</td>\n",
              "      <td>0</td>\n",
              "    </tr>\n",
              "    <tr>\n",
              "      <th>95766</th>\n",
              "      <td>205</td>\n",
              "      <td>0</td>\n",
              "    </tr>\n",
              "    <tr>\n",
              "      <th>17149</th>\n",
              "      <td>186</td>\n",
              "      <td>0</td>\n",
              "    </tr>\n",
              "    <tr>\n",
              "      <th>100275</th>\n",
              "      <td>173</td>\n",
              "      <td>0</td>\n",
              "    </tr>\n",
              "    <tr>\n",
              "      <th>105475</th>\n",
              "      <td>167</td>\n",
              "      <td>0</td>\n",
              "    </tr>\n",
              "    <tr>\n",
              "      <th>105560</th>\n",
              "      <td>149</td>\n",
              "      <td>0</td>\n",
              "    </tr>\n",
              "  </tbody>\n",
              "</table>\n",
              "</div>"
            ],
            "text/plain": [
              "        click_time  attributed_time\n",
              "ip                                 \n",
              "73487          439                0\n",
              "73516          399                0\n",
              "53454          280                0\n",
              "114276         219                0\n",
              "26995          218                0\n",
              "95766          205                0\n",
              "17149          186                0\n",
              "100275         173                0\n",
              "105475         167                0\n",
              "105560         149                0"
            ]
          },
          "execution_count": 62,
          "metadata": {},
          "output_type": "execute_result"
        }
      ],
      "source": [
        "df_ad_ip=pd.DataFrame(df_sample.groupby('ip').count()[['click_time','attributed_time']])\n",
        "df_ad_ip=df_ad_ip.sort_values(by=['click_time'], ascending=False)\n",
        "#df_ad_ip\n",
        "df_ad_ip[df_ad_ip['attributed_time']<1].head(10)"
      ]
    },
    {
      "attachments": {},
      "cell_type": "markdown",
      "metadata": {
        "id": "5TsdeHA8uyBd"
      },
      "source": [
        "#### Note: Potential Blacklist Device"
      ]
    },
    {
      "cell_type": "code",
      "execution_count": 63,
      "metadata": {
        "id": "y70PjZNLuhmP"
      },
      "outputs": [],
      "source": [
        "df_ad_device=pd.DataFrame(df_sample.groupby('device').count()[['click_time','attributed_time']])\n",
        "df_ad_device=df_ad_device.sort_values(by=['click_time'], ascending=False)\n",
        "top_10=df_ad_device[df_ad_device['attributed_time']<1].head(10)"
      ]
    },
    {
      "cell_type": "code",
      "execution_count": 64,
      "metadata": {
        "colab": {
          "base_uri": "https://localhost:8080/",
          "height": 503
        },
        "id": "e1k00mBhPAwg",
        "outputId": "06821823-a56c-492b-a15f-faa60eda4fd1"
      },
      "outputs": [
        {
          "data": {
            "image/png": "[encoded data removed]",
            "text/plain": [
              "<Figure size 640x480 with 1 Axes>"
            ]
          },
          "metadata": {},
          "output_type": "display_data"
        }
      ],
      "source": [
        "sns.barplot(x=top_10.index, y=top_10['click_time'] )\n",
        "plt.xticks(rotation = 45)\n",
        "plt.title(\"Top 10 devices with click_time count but doesn't download\")\n",
        "plt.show()"
      ]
    },
    {
      "attachments": {},
      "cell_type": "markdown",
      "metadata": {
        "id": "ZNpIgXgTwjXQ"
      },
      "source": [
        "#### Note: Potential Blacklist Channel"
      ]
    },
    {
      "cell_type": "code",
      "execution_count": 65,
      "metadata": {
        "colab": {
          "base_uri": "https://localhost:8080/",
          "height": 708
        },
        "id": "Nz0Mnfp8Le1x",
        "outputId": "55d82b9d-253d-4e75-e8d7-fab331125993"
      },
      "outputs": [
        {
          "data": {
            "text/html": [
              "<div>\n",
              "<style scoped>\n",
              "    .dataframe tbody tr th:only-of-type {\n",
              "        vertical-align: middle;\n",
              "    }\n",
              "\n",
              "    .dataframe tbody tr th {\n",
              "        vertical-align: top;\n",
              "    }\n",
              "\n",
              "    .dataframe thead th {\n",
              "        text-align: right;\n",
              "    }\n",
              "</style>\n",
              "<table border=\"1\" class=\"dataframe\">\n",
              "  <thead>\n",
              "    <tr style=\"text-align: right;\">\n",
              "      <th></th>\n",
              "      <th>click_time</th>\n",
              "      <th>attributed_time</th>\n",
              "    </tr>\n",
              "    <tr>\n",
              "      <th>channel</th>\n",
              "      <th></th>\n",
              "      <th></th>\n",
              "    </tr>\n",
              "  </thead>\n",
              "  <tbody>\n",
              "    <tr>\n",
              "      <th>245</th>\n",
              "      <td>4802</td>\n",
              "      <td>0</td>\n",
              "    </tr>\n",
              "    <tr>\n",
              "      <th>477</th>\n",
              "      <td>3960</td>\n",
              "      <td>0</td>\n",
              "    </tr>\n",
              "    <tr>\n",
              "      <th>259</th>\n",
              "      <td>3130</td>\n",
              "      <td>0</td>\n",
              "    </tr>\n",
              "    <tr>\n",
              "      <th>153</th>\n",
              "      <td>2954</td>\n",
              "      <td>0</td>\n",
              "    </tr>\n",
              "    <tr>\n",
              "      <th>178</th>\n",
              "      <td>2936</td>\n",
              "      <td>0</td>\n",
              "    </tr>\n",
              "    <tr>\n",
              "      <th>205</th>\n",
              "      <td>2369</td>\n",
              "      <td>0</td>\n",
              "    </tr>\n",
              "    <tr>\n",
              "      <th>459</th>\n",
              "      <td>1921</td>\n",
              "      <td>0</td>\n",
              "    </tr>\n",
              "    <tr>\n",
              "      <th>128</th>\n",
              "      <td>1486</td>\n",
              "      <td>0</td>\n",
              "    </tr>\n",
              "    <tr>\n",
              "      <th>135</th>\n",
              "      <td>1473</td>\n",
              "      <td>0</td>\n",
              "    </tr>\n",
              "    <tr>\n",
              "      <th>480</th>\n",
              "      <td>1468</td>\n",
              "      <td>0</td>\n",
              "    </tr>\n",
              "    <tr>\n",
              "      <th>469</th>\n",
              "      <td>1458</td>\n",
              "      <td>0</td>\n",
              "    </tr>\n",
              "    <tr>\n",
              "      <th>237</th>\n",
              "      <td>1408</td>\n",
              "      <td>0</td>\n",
              "    </tr>\n",
              "    <tr>\n",
              "      <th>122</th>\n",
              "      <td>1366</td>\n",
              "      <td>0</td>\n",
              "    </tr>\n",
              "    <tr>\n",
              "      <th>140</th>\n",
              "      <td>1328</td>\n",
              "      <td>0</td>\n",
              "    </tr>\n",
              "    <tr>\n",
              "      <th>219</th>\n",
              "      <td>1303</td>\n",
              "      <td>0</td>\n",
              "    </tr>\n",
              "    <tr>\n",
              "      <th>137</th>\n",
              "      <td>1245</td>\n",
              "      <td>0</td>\n",
              "    </tr>\n",
              "    <tr>\n",
              "      <th>435</th>\n",
              "      <td>1220</td>\n",
              "      <td>0</td>\n",
              "    </tr>\n",
              "    <tr>\n",
              "      <th>232</th>\n",
              "      <td>1211</td>\n",
              "      <td>0</td>\n",
              "    </tr>\n",
              "    <tr>\n",
              "      <th>334</th>\n",
              "      <td>1074</td>\n",
              "      <td>0</td>\n",
              "    </tr>\n",
              "    <tr>\n",
              "      <th>409</th>\n",
              "      <td>1053</td>\n",
              "      <td>0</td>\n",
              "    </tr>\n",
              "  </tbody>\n",
              "</table>\n",
              "</div>"
            ],
            "text/plain": [
              "         click_time  attributed_time\n",
              "channel                             \n",
              "245            4802                0\n",
              "477            3960                0\n",
              "259            3130                0\n",
              "153            2954                0\n",
              "178            2936                0\n",
              "205            2369                0\n",
              "459            1921                0\n",
              "128            1486                0\n",
              "135            1473                0\n",
              "480            1468                0\n",
              "469            1458                0\n",
              "237            1408                0\n",
              "122            1366                0\n",
              "140            1328                0\n",
              "219            1303                0\n",
              "137            1245                0\n",
              "435            1220                0\n",
              "232            1211                0\n",
              "334            1074                0\n",
              "409            1053                0"
            ]
          },
          "execution_count": 65,
          "metadata": {},
          "output_type": "execute_result"
        }
      ],
      "source": [
        "df_ad_channel=pd.DataFrame(df_sample.groupby('channel').count()[['click_time','attributed_time']])\n",
        "df_ad_channel=df_ad_channel.sort_values(by=['click_time'], ascending=False)\n",
        "df_ad_channel[df_ad_channel['attributed_time']<1].head(20)"
      ]
    },
    {
      "attachments": {},
      "cell_type": "markdown",
      "metadata": {
        "id": "HIJ8rnpk-4m6"
      },
      "source": [
        "### Is_atrributed"
      ]
    },
    {
      "cell_type": "code",
      "execution_count": 66,
      "metadata": {
        "colab": {
          "base_uri": "https://localhost:8080/"
        },
        "id": "kBQcyM6z_GEf",
        "outputId": "733d9b08-9712-49f0-e1c3-912f135fd886"
      },
      "outputs": [
        {
          "data": {
            "text/plain": [
              "is_attributed\n",
              "0    0.99773\n",
              "1    0.00227\n",
              "Name: proportion, dtype: float64"
            ]
          },
          "execution_count": 66,
          "metadata": {},
          "output_type": "execute_result"
        }
      ],
      "source": [
        "df_sample[\"is_attributed\"].value_counts(normalize = True)"
      ]
    },
    {
      "cell_type": "code",
      "execution_count": 68,
      "metadata": {
        "colab": {
          "base_uri": "https://localhost:8080/",
          "height": 593
        },
        "id": "vk3xBRwE19Bw",
        "outputId": "53246b24-7d43-4f9a-bebc-ac2765b2203e"
      },
      "outputs": [
        {
          "data": {
            "text/plain": [
              "<Figure size 640x480 with 0 Axes>"
            ]
          },
          "metadata": {},
          "output_type": "display_data"
        },
        {
          "data": {
            "image/png": "[encoded data removed]",
            "text/plain": [
              "<Figure size 600x600 with 1 Axes>"
            ]
          },
          "metadata": {},
          "output_type": "display_data"
        }
      ],
      "source": [
        "def addlabels(x,y):\n",
        "    for i in range(len(x)):\n",
        "        plt.text(i, y[i], y[i], ha = 'center')\n",
        " \n",
        "plt.figure();\n",
        "fig, ax = plt.subplots(figsize=(6,6))\n",
        "x = df_sample['is_attributed'].value_counts().index.values\n",
        "y = df_sample[\"is_attributed\"].value_counts().values\n",
        "addlabels(x, y)\n",
        "\n",
        "sns.barplot(ax=ax, x=x, y=y, log = True)\n",
        "plt.ylabel('Number of values', fontsize=12)\n",
        "plt.xlabel('is_attributed value', fontsize=12)\n",
        "plt.tick_params(axis='both', which='major', labelsize=12)\n",
        "plt.title('Label Distribution')\n",
        "plt.show();"
      ]
    },
    {
      "cell_type": "code",
      "execution_count": 69,
      "metadata": {
        "colab": {
          "base_uri": "https://localhost:8080/",
          "height": 428
        },
        "id": "BnyENT_o19Oo",
        "outputId": "8a3342f8-d425-4478-e0e0-72cedf43a5b3"
      },
      "outputs": [
        {
          "data": {
            "image/png": "[encoded data removed]",
            "text/plain": [
              "<Figure size 640x480 with 1 Axes>"
            ]
          },
          "metadata": {},
          "output_type": "display_data"
        }
      ],
      "source": [
        "import matplotlib.pyplot as plt\n",
        "# Pie chart, where the slices will be ordered and plotted counter-clockwise:\n",
        "labels = df_sample['is_attributed'].value_counts().index.values\n",
        "sizes = df_sample[\"is_attributed\"].value_counts().values\n",
        "fig1, ax1 = plt.subplots()\n",
        "explode = [0.1, 0.2]\n",
        "ax1.pie(sizes, labels=labels, autopct='%1.1f%%', colors=['r', 'g'], explode=explode)\n",
        "plt.title(\"Pie Label Distribution\")\n",
        "plt.show()"
      ]
    },
    {
      "cell_type": "code",
      "execution_count": 71,
      "metadata": {
        "colab": {
          "base_uri": "https://localhost:8080/",
          "height": 1000
        },
        "id": "UyifmbjxEfjQ",
        "outputId": "f37bf8f4-b50a-454b-c32b-63b3c7f57262"
      },
      "outputs": [],
      "source": [
        "\n",
        "# var = ['app','device','os','channel']\n",
        "\n",
        "# i = 0\n",
        "# t1 = df_sample.loc[df_sample['is_attributed'] != 0]\n",
        "# t0 = df_sample.loc[df_sample['is_attributed'] == 0]\n",
        "\n",
        "# sns.set_style('whitegrid')\n",
        "# plt.figure()\n",
        "# fig, ax = plt.subplots(1,4,figsize=(16,4))\n",
        "\n",
        "# for feature in var:\n",
        "#     i += 1\n",
        "#     plt.subplot(1,4,i)\n",
        "#     sns.kdeplot(t1[feature], bw=0.5,label=\"is_attributed = 1\")\n",
        "#     sns.kdeplot(t0[feature], bw=0.5,label=\"is_attributed = 0\")\n",
        "#     plt.ylabel('Density plot', fontsize=12)\n",
        "#     plt.xlabel(feature, fontsize=12)\n",
        "#     locs, labels = plt.xticks()\n",
        "#     plt.tick_params(axis='both', which='major', labelsize=12)\n",
        "# plt.show();"
      ]
    },
    {
      "attachments": {},
      "cell_type": "markdown",
      "metadata": {
        "id": "d04tqkdlLt_s"
      },
      "source": [
        "# Machine Learning"
      ]
    },
    {
      "attachments": {},
      "cell_type": "markdown",
      "metadata": {
        "id": "58ZYoa0nL8_v"
      },
      "source": [
        "## Feature Engineer"
      ]
    },
    {
      "cell_type": "code",
      "execution_count": 72,
      "metadata": {
        "id": "2Gbf38SpL0ln"
      },
      "outputs": [],
      "source": [
        "df_sample['click_time'] = pd.to_datetime(df_sample['click_time'], errors='coerce')"
      ]
    },
    {
      "cell_type": "code",
      "execution_count": 73,
      "metadata": {
        "id": "XKL12XX8L20n"
      },
      "outputs": [],
      "source": [
        "# Add new columns for timestamp features day, hour, minute, and second\n",
        "df_train_sample = df_sample.copy()\n",
        "#Change Data Type\n",
        "df_train_sample['ip']=df_train_sample['ip'].astype('category')\n",
        "df_train_sample['app']=df_train_sample['app'].astype('category')\n",
        "df_train_sample['device']=df_train_sample['device'].astype('category')\n",
        "df_train_sample['os']=df_train_sample['os'].astype('category')\n",
        "df_train_sample['channel']=df_train_sample['channel'].astype('category')\n",
        "df_train_sample['click_time']=pd.to_datetime(df_train_sample['click_time'])\n",
        "df_train_sample['attributed_time']=pd.to_datetime(df_train_sample['attributed_time'])\n",
        "df_train_sample['day_of_week']=df_train_sample['click_time'].dt.dayofweek.astype('category')\n",
        "df_train_sample['day'] = df_sample['click_time'].dt.day.astype('category')\n",
        "df_train_sample['hour'] = df_sample['click_time'].dt.hour.astype('category')\n",
        "df_train_sample['minute'] = df_sample['click_time'].dt.minute.astype('category')\n",
        "df_train_sample['second'] = df_sample['click_time'].dt.second.astype('category')"
      ]
    },
    {
      "cell_type": "code",
      "execution_count": 74,
      "metadata": {
        "colab": {
          "base_uri": "https://localhost:8080/"
        },
        "id": "rKxEzDdT08Zj",
        "outputId": "a524d88a-43ca-45ff-b593-d2ad2748aa8c"
      },
      "outputs": [
        {
          "data": {
            "text/plain": [
              "ip                       category\n",
              "app                      category\n",
              "device                   category\n",
              "os                       category\n",
              "channel                  category\n",
              "click_time         datetime64[ns]\n",
              "attributed_time    datetime64[ns]\n",
              "is_attributed               int64\n",
              "day_of_week              category\n",
              "day                      category\n",
              "hour                     category\n",
              "minute                   category\n",
              "second                   category\n",
              "dtype: object"
            ]
          },
          "execution_count": 74,
          "metadata": {},
          "output_type": "execute_result"
        }
      ],
      "source": [
        "df_train_sample.dtypes"
      ]
    },
    {
      "cell_type": "code",
      "execution_count": 75,
      "metadata": {
        "colab": {
          "base_uri": "https://localhost:8080/"
        },
        "id": "2H7v4QgIL3MV",
        "outputId": "03bd80c4-c9dc-40b9-900e-ca19c2473fce"
      },
      "outputs": [
        {
          "data": {
            "text/plain": [
              "[7, 9, 8, 6]\n",
              "Categories (4, int32): [6, 7, 8, 9]"
            ]
          },
          "execution_count": 75,
          "metadata": {},
          "output_type": "execute_result"
        }
      ],
      "source": [
        "df_train_sample['day'].unique()"
      ]
    },
    {
      "cell_type": "code",
      "execution_count": 76,
      "metadata": {
        "colab": {
          "base_uri": "https://localhost:8080/"
        },
        "id": "wUU6MlkBVatP",
        "outputId": "ccc94484-5a6f-47eb-8926-08f970cfaac8"
      },
      "outputs": [
        {
          "data": {
            "text/plain": [
              "[1, 3, 2, 0]\n",
              "Categories (4, int32): [0, 1, 2, 3]"
            ]
          },
          "execution_count": 76,
          "metadata": {},
          "output_type": "execute_result"
        }
      ],
      "source": [
        "df_train_sample['day_of_week'].unique()"
      ]
    },
    {
      "cell_type": "code",
      "execution_count": 77,
      "metadata": {
        "colab": {
          "base_uri": "https://localhost:8080/",
          "height": 424
        },
        "id": "iLwJviEQL2_G",
        "outputId": "84c1ecbd-207d-4b74-f797-c13dfd1a4148"
      },
      "outputs": [
        {
          "data": {
            "text/html": [
              "<div>\n",
              "<style scoped>\n",
              "    .dataframe tbody tr th:only-of-type {\n",
              "        vertical-align: middle;\n",
              "    }\n",
              "\n",
              "    .dataframe tbody tr th {\n",
              "        vertical-align: top;\n",
              "    }\n",
              "\n",
              "    .dataframe thead th {\n",
              "        text-align: right;\n",
              "    }\n",
              "</style>\n",
              "<table border=\"1\" class=\"dataframe\">\n",
              "  <thead>\n",
              "    <tr style=\"text-align: right;\">\n",
              "      <th></th>\n",
              "      <th>ip</th>\n",
              "      <th>app</th>\n",
              "      <th>device</th>\n",
              "      <th>os</th>\n",
              "      <th>channel</th>\n",
              "      <th>click_time</th>\n",
              "      <th>attributed_time</th>\n",
              "      <th>is_attributed</th>\n",
              "      <th>day_of_week</th>\n",
              "      <th>day</th>\n",
              "      <th>hour</th>\n",
              "      <th>minute</th>\n",
              "      <th>second</th>\n",
              "    </tr>\n",
              "  </thead>\n",
              "  <tbody>\n",
              "    <tr>\n",
              "      <th>0</th>\n",
              "      <td>87540</td>\n",
              "      <td>12</td>\n",
              "      <td>1</td>\n",
              "      <td>13</td>\n",
              "      <td>497</td>\n",
              "      <td>2017-11-07 09:30:00</td>\n",
              "      <td>NaT</td>\n",
              "      <td>0</td>\n",
              "      <td>1</td>\n",
              "      <td>7</td>\n",
              "      <td>9</td>\n",
              "      <td>30</td>\n",
              "      <td>0</td>\n",
              "    </tr>\n",
              "    <tr>\n",
              "      <th>1</th>\n",
              "      <td>105560</td>\n",
              "      <td>25</td>\n",
              "      <td>1</td>\n",
              "      <td>17</td>\n",
              "      <td>259</td>\n",
              "      <td>2017-11-07 13:40:00</td>\n",
              "      <td>NaT</td>\n",
              "      <td>0</td>\n",
              "      <td>1</td>\n",
              "      <td>7</td>\n",
              "      <td>13</td>\n",
              "      <td>40</td>\n",
              "      <td>0</td>\n",
              "    </tr>\n",
              "    <tr>\n",
              "      <th>2</th>\n",
              "      <td>101424</td>\n",
              "      <td>12</td>\n",
              "      <td>1</td>\n",
              "      <td>19</td>\n",
              "      <td>212</td>\n",
              "      <td>2017-11-07 18:05:00</td>\n",
              "      <td>NaT</td>\n",
              "      <td>0</td>\n",
              "      <td>1</td>\n",
              "      <td>7</td>\n",
              "      <td>18</td>\n",
              "      <td>5</td>\n",
              "      <td>0</td>\n",
              "    </tr>\n",
              "    <tr>\n",
              "      <th>3</th>\n",
              "      <td>94584</td>\n",
              "      <td>13</td>\n",
              "      <td>1</td>\n",
              "      <td>13</td>\n",
              "      <td>477</td>\n",
              "      <td>2017-11-07 04:58:00</td>\n",
              "      <td>NaT</td>\n",
              "      <td>0</td>\n",
              "      <td>1</td>\n",
              "      <td>7</td>\n",
              "      <td>4</td>\n",
              "      <td>58</td>\n",
              "      <td>0</td>\n",
              "    </tr>\n",
              "    <tr>\n",
              "      <th>4</th>\n",
              "      <td>68413</td>\n",
              "      <td>12</td>\n",
              "      <td>1</td>\n",
              "      <td>1</td>\n",
              "      <td>178</td>\n",
              "      <td>2017-11-09 09:00:00</td>\n",
              "      <td>NaT</td>\n",
              "      <td>0</td>\n",
              "      <td>3</td>\n",
              "      <td>9</td>\n",
              "      <td>9</td>\n",
              "      <td>0</td>\n",
              "      <td>0</td>\n",
              "    </tr>\n",
              "    <tr>\n",
              "      <th>...</th>\n",
              "      <td>...</td>\n",
              "      <td>...</td>\n",
              "      <td>...</td>\n",
              "      <td>...</td>\n",
              "      <td>...</td>\n",
              "      <td>...</td>\n",
              "      <td>...</td>\n",
              "      <td>...</td>\n",
              "      <td>...</td>\n",
              "      <td>...</td>\n",
              "      <td>...</td>\n",
              "      <td>...</td>\n",
              "      <td>...</td>\n",
              "    </tr>\n",
              "    <tr>\n",
              "      <th>99995</th>\n",
              "      <td>124883</td>\n",
              "      <td>11</td>\n",
              "      <td>1</td>\n",
              "      <td>19</td>\n",
              "      <td>122</td>\n",
              "      <td>2017-11-09 13:25:00</td>\n",
              "      <td>NaT</td>\n",
              "      <td>0</td>\n",
              "      <td>3</td>\n",
              "      <td>9</td>\n",
              "      <td>13</td>\n",
              "      <td>25</td>\n",
              "      <td>0</td>\n",
              "    </tr>\n",
              "    <tr>\n",
              "      <th>99996</th>\n",
              "      <td>85150</td>\n",
              "      <td>9</td>\n",
              "      <td>1</td>\n",
              "      <td>13</td>\n",
              "      <td>244</td>\n",
              "      <td>2017-11-07 11:25:00</td>\n",
              "      <td>NaT</td>\n",
              "      <td>0</td>\n",
              "      <td>1</td>\n",
              "      <td>7</td>\n",
              "      <td>11</td>\n",
              "      <td>25</td>\n",
              "      <td>0</td>\n",
              "    </tr>\n",
              "    <tr>\n",
              "      <th>99997</th>\n",
              "      <td>18839</td>\n",
              "      <td>3</td>\n",
              "      <td>1</td>\n",
              "      <td>13</td>\n",
              "      <td>19</td>\n",
              "      <td>2017-11-08 11:38:00</td>\n",
              "      <td>NaT</td>\n",
              "      <td>0</td>\n",
              "      <td>2</td>\n",
              "      <td>8</td>\n",
              "      <td>11</td>\n",
              "      <td>38</td>\n",
              "      <td>0</td>\n",
              "    </tr>\n",
              "    <tr>\n",
              "      <th>99998</th>\n",
              "      <td>114276</td>\n",
              "      <td>15</td>\n",
              "      <td>1</td>\n",
              "      <td>12</td>\n",
              "      <td>245</td>\n",
              "      <td>2017-11-08 17:55:00</td>\n",
              "      <td>NaT</td>\n",
              "      <td>0</td>\n",
              "      <td>2</td>\n",
              "      <td>8</td>\n",
              "      <td>17</td>\n",
              "      <td>55</td>\n",
              "      <td>0</td>\n",
              "    </tr>\n",
              "    <tr>\n",
              "      <th>99999</th>\n",
              "      <td>119349</td>\n",
              "      <td>14</td>\n",
              "      <td>1</td>\n",
              "      <td>15</td>\n",
              "      <td>401</td>\n",
              "      <td>2017-11-07 14:32:00</td>\n",
              "      <td>NaT</td>\n",
              "      <td>0</td>\n",
              "      <td>1</td>\n",
              "      <td>7</td>\n",
              "      <td>14</td>\n",
              "      <td>32</td>\n",
              "      <td>0</td>\n",
              "    </tr>\n",
              "  </tbody>\n",
              "</table>\n",
              "<p>100000 rows × 13 columns</p>\n",
              "</div>"
            ],
            "text/plain": [
              "           ip app device  os channel          click_time attributed_time   \n",
              "0       87540  12      1  13     497 2017-11-07 09:30:00             NaT  \\\n",
              "1      105560  25      1  17     259 2017-11-07 13:40:00             NaT   \n",
              "2      101424  12      1  19     212 2017-11-07 18:05:00             NaT   \n",
              "3       94584  13      1  13     477 2017-11-07 04:58:00             NaT   \n",
              "4       68413  12      1   1     178 2017-11-09 09:00:00             NaT   \n",
              "...       ...  ..    ...  ..     ...                 ...             ...   \n",
              "99995  124883  11      1  19     122 2017-11-09 13:25:00             NaT   \n",
              "99996   85150   9      1  13     244 2017-11-07 11:25:00             NaT   \n",
              "99997   18839   3      1  13      19 2017-11-08 11:38:00             NaT   \n",
              "99998  114276  15      1  12     245 2017-11-08 17:55:00             NaT   \n",
              "99999  119349  14      1  15     401 2017-11-07 14:32:00             NaT   \n",
              "\n",
              "       is_attributed day_of_week day hour minute second  \n",
              "0                  0           1   7    9     30      0  \n",
              "1                  0           1   7   13     40      0  \n",
              "2                  0           1   7   18      5      0  \n",
              "3                  0           1   7    4     58      0  \n",
              "4                  0           3   9    9      0      0  \n",
              "...              ...         ...  ..  ...    ...    ...  \n",
              "99995              0           3   9   13     25      0  \n",
              "99996              0           1   7   11     25      0  \n",
              "99997              0           2   8   11     38      0  \n",
              "99998              0           2   8   17     55      0  \n",
              "99999              0           1   7   14     32      0  \n",
              "\n",
              "[100000 rows x 13 columns]"
            ]
          },
          "execution_count": 77,
          "metadata": {},
          "output_type": "execute_result"
        }
      ],
      "source": [
        "df_train_sample"
      ]
    },
    {
      "attachments": {},
      "cell_type": "markdown",
      "metadata": {
        "id": "mP7bQv6nME24"
      },
      "source": [
        "## Split and Train Data"
      ]
    },
    {
      "cell_type": "code",
      "execution_count": 155,
      "metadata": {
        "colab": {
          "base_uri": "https://localhost:8080/"
        },
        "id": "UR4L65XnMO5S",
        "outputId": "f668b6c0-ae9b-4cbd-9408-962a2a6af0a0"
      },
      "outputs": [
        {
          "name": "stdout",
          "output_type": "stream",
          "text": [
            "<class 'pandas.core.frame.DataFrame'>\n",
            "RangeIndex: 100000 entries, 0 to 99999\n",
            "Data columns (total 10 columns):\n",
            " #   Column       Non-Null Count   Dtype   \n",
            "---  ------       --------------   -----   \n",
            " 0   ip           100000 non-null  category\n",
            " 1   app          100000 non-null  category\n",
            " 2   device       100000 non-null  category\n",
            " 3   os           100000 non-null  category\n",
            " 4   channel      100000 non-null  category\n",
            " 5   day_of_week  100000 non-null  category\n",
            " 6   day          100000 non-null  category\n",
            " 7   hour         100000 non-null  category\n",
            " 8   minute       100000 non-null  category\n",
            " 9   second       100000 non-null  category\n",
            "dtypes: category(10)\n",
            "memory usage: 2.8 MB\n"
          ]
        }
      ],
      "source": [
        "X = df_train_sample.drop(['is_attributed','attributed_time','click_time'],axis=1)\n",
        "y = df_train_sample['is_attributed']\n",
        "X.info()"
      ]
    },
    {
      "cell_type": "code",
      "execution_count": 156,
      "metadata": {
        "id": "cvuyKfF4T3pe"
      },
      "outputs": [],
      "source": [
        "X_train, X_test, y_train, y_test = train_test_split(X, y,test_size=0.25, stratify=y,random_state=42)"
      ]
    },
    {
      "cell_type": "code",
      "execution_count": 157,
      "metadata": {
        "colab": {
          "base_uri": "https://localhost:8080/"
        },
        "id": "TfpGKnrGMPAS",
        "outputId": "e878ab90-c483-4ee4-ab6b-1769a8460586"
      },
      "outputs": [
        {
          "data": {
            "text/plain": [
              "(75000, 10)"
            ]
          },
          "execution_count": 157,
          "metadata": {},
          "output_type": "execute_result"
        }
      ],
      "source": [
        "X_train.shape"
      ]
    },
    {
      "cell_type": "code",
      "execution_count": 158,
      "metadata": {
        "colab": {
          "base_uri": "https://localhost:8080/"
        },
        "id": "fU_OknKvMPHb",
        "outputId": "3cfaefef-4267-45e5-f20d-c0da0935fe4f"
      },
      "outputs": [
        {
          "data": {
            "text/plain": [
              "(25000, 10)"
            ]
          },
          "execution_count": 158,
          "metadata": {},
          "output_type": "execute_result"
        }
      ],
      "source": [
        "X_test.shape"
      ]
    },
    {
      "cell_type": "code",
      "execution_count": 159,
      "metadata": {
        "colab": {
          "base_uri": "https://localhost:8080/"
        },
        "id": "UGApCgseMPO5",
        "outputId": "8c0511e7-4698-4eac-e11d-bbc2c5cc0325"
      },
      "outputs": [
        {
          "data": {
            "text/plain": [
              "is_attributed\n",
              "0    0.997733\n",
              "1    0.002267\n",
              "Name: proportion, dtype: float64"
            ]
          },
          "execution_count": 159,
          "metadata": {},
          "output_type": "execute_result"
        }
      ],
      "source": [
        "y_train.value_counts(normalize = True)"
      ]
    },
    {
      "cell_type": "code",
      "execution_count": 160,
      "metadata": {
        "colab": {
          "base_uri": "https://localhost:8080/"
        },
        "id": "oHsqXKLfMPZb",
        "outputId": "f9851b62-b1c5-48b8-f04f-5c6e817b0a6f"
      },
      "outputs": [
        {
          "data": {
            "text/plain": [
              "is_attributed\n",
              "0    0.99772\n",
              "1    0.00228\n",
              "Name: proportion, dtype: float64"
            ]
          },
          "execution_count": 160,
          "metadata": {},
          "output_type": "execute_result"
        }
      ],
      "source": [
        "y_test.value_counts(normalize = True)"
      ]
    },
    {
      "cell_type": "code",
      "execution_count": 161,
      "metadata": {
        "colab": {
          "base_uri": "https://localhost:8080/"
        },
        "id": "QIfDX_sMMPg6",
        "outputId": "726b8f5e-254e-4cb0-b6ec-c3ed22daf6ca"
      },
      "outputs": [
        {
          "data": {
            "text/plain": [
              "Index(['ip', 'app', 'device', 'os', 'channel', 'day_of_week', 'day', 'hour',\n",
              "       'minute', 'second'],\n",
              "      dtype='object')"
            ]
          },
          "execution_count": 161,
          "metadata": {},
          "output_type": "execute_result"
        }
      ],
      "source": [
        "X_train.columns"
      ]
    },
    {
      "attachments": {},
      "cell_type": "markdown",
      "metadata": {},
      "source": [
        "## Encoding"
      ]
    },
    {
      "attachments": {},
      "cell_type": "markdown",
      "metadata": {},
      "source": [
        "### Target Encoder"
      ]
    },
    {
      "cell_type": "code",
      "execution_count": 162,
      "metadata": {
        "id": "0CCTs819MPoQ"
      },
      "outputs": [],
      "source": [
        "cat_feature = ['ip', 'app', 'device', 'os', 'channel', 'day_of_week', 'day', 'hour', 'minute',\n",
        "       'second']"
      ]
    },
    {
      "cell_type": "code",
      "execution_count": 163,
      "metadata": {
        "id": "-9mXKMD8MYWN"
      },
      "outputs": [],
      "source": [
        "preprocessor = ColumnTransformer(transformers = [\n",
        "    ('enc_cat',TargetEncoder(),cat_feature)\n",
        "], remainder = 'passthrough')"
      ]
    },
    {
      "attachments": {},
      "cell_type": "markdown",
      "metadata": {},
      "source": [
        "### Logistic Regression"
      ]
    },
    {
      "cell_type": "code",
      "execution_count": 164,
      "metadata": {
        "id": "X6hKTjYuMYdN"
      },
      "outputs": [],
      "source": [
        "lr = Pipeline(steps=[\n",
        "    ('prc',preprocessor),\n",
        "    ('ros',RandomOverSampler()),\n",
        "    ('Lrm',LogisticRegression())\n",
        "])"
      ]
    },
    {
      "cell_type": "code",
      "execution_count": 165,
      "metadata": {
        "colab": {
          "base_uri": "https://localhost:8080/",
          "height": 227
        },
        "id": "sViTS6uBMYlY",
        "outputId": "6443e66d-ae46-4b93-ff49-79cfeddd3577"
      },
      "outputs": [
        {
          "data": {
            "text/html": [
              "<style>#sk-container-id-7 {color: black;background-color: white;}#sk-container-id-7 pre{padding: 0;}#sk-container-id-7 div.sk-toggleable {background-color: white;}#sk-container-id-7 label.sk-toggleable__label {cursor: pointer;display: block;width: 100%;margin-bottom: 0;padding: 0.3em;box-sizing: border-box;text-align: center;}#sk-container-id-7 label.sk-toggleable__label-arrow:before {content: \"▸\";float: left;margin-right: 0.25em;color: #696969;}#sk-container-id-7 label.sk-toggleable__label-arrow:hover:before {color: black;}#sk-container-id-7 div.sk-estimator:hover label.sk-toggleable__label-arrow:before {color: black;}#sk-container-id-7 div.sk-toggleable__content {max-height: 0;max-width: 0;overflow: hidden;text-align: left;background-color: #f0f8ff;}#sk-container-id-7 div.sk-toggleable__content pre {margin: 0.2em;color: black;border-radius: 0.25em;background-color: #f0f8ff;}#sk-container-id-7 input.sk-toggleable__control:checked~div.sk-toggleable__content {max-height: 200px;max-width: 100%;overflow: auto;}#sk-container-id-7 input.sk-toggleable__control:checked~label.sk-toggleable__label-arrow:before {content: \"▾\";}#sk-container-id-7 div.sk-estimator input.sk-toggleable__control:checked~label.sk-toggleable__label {background-color: #d4ebff;}#sk-container-id-7 div.sk-label input.sk-toggleable__control:checked~label.sk-toggleable__label {background-color: #d4ebff;}#sk-container-id-7 input.sk-hidden--visually {border: 0;clip: rect(1px 1px 1px 1px);clip: rect(1px, 1px, 1px, 1px);height: 1px;margin: -1px;overflow: hidden;padding: 0;position: absolute;width: 1px;}#sk-container-id-7 div.sk-estimator {font-family: monospace;background-color: #f0f8ff;border: 1px dotted black;border-radius: 0.25em;box-sizing: border-box;margin-bottom: 0.5em;}#sk-container-id-7 div.sk-estimator:hover {background-color: #d4ebff;}#sk-container-id-7 div.sk-parallel-item::after {content: \"\";width: 100%;border-bottom: 1px solid gray;flex-grow: 1;}#sk-container-id-7 div.sk-label:hover label.sk-toggleable__label {background-color: #d4ebff;}#sk-container-id-7 div.sk-serial::before {content: \"\";position: absolute;border-left: 1px solid gray;box-sizing: border-box;top: 0;bottom: 0;left: 50%;z-index: 0;}#sk-container-id-7 div.sk-serial {display: flex;flex-direction: column;align-items: center;background-color: white;padding-right: 0.2em;padding-left: 0.2em;position: relative;}#sk-container-id-7 div.sk-item {position: relative;z-index: 1;}#sk-container-id-7 div.sk-parallel {display: flex;align-items: stretch;justify-content: center;background-color: white;position: relative;}#sk-container-id-7 div.sk-item::before, #sk-container-id-7 div.sk-parallel-item::before {content: \"\";position: absolute;border-left: 1px solid gray;box-sizing: border-box;top: 0;bottom: 0;left: 50%;z-index: -1;}#sk-container-id-7 div.sk-parallel-item {display: flex;flex-direction: column;z-index: 1;position: relative;background-color: white;}#sk-container-id-7 div.sk-parallel-item:first-child::after {align-self: flex-end;width: 50%;}#sk-container-id-7 div.sk-parallel-item:last-child::after {align-self: flex-start;width: 50%;}#sk-container-id-7 div.sk-parallel-item:only-child::after {width: 0;}#sk-container-id-7 div.sk-dashed-wrapped {border: 1px dashed gray;margin: 0 0.4em 0.5em 0.4em;box-sizing: border-box;padding-bottom: 0.4em;background-color: white;}#sk-container-id-7 div.sk-label label {font-family: monospace;font-weight: bold;display: inline-block;line-height: 1.2em;}#sk-container-id-7 div.sk-label-container {text-align: center;}#sk-container-id-7 div.sk-container {/* jupyter's `normalize.less` sets `[hidden] { display: none; }` but bootstrap.min.css set `[hidden] { display: none !important; }` so we also need the `!important` here to be able to override the default hidden behavior on the sphinx rendered scikit-learn.org. See: https://github.com/scikit-learn/scikit-learn/issues/21755 */display: inline-block !important;position: relative;}#sk-container-id-7 div.sk-text-repr-fallback {display: none;}</style><div id=\"sk-container-id-7\" class=\"sk-top-container\"><div class=\"sk-text-repr-fallback\"><pre>Pipeline(steps=[(&#x27;prc&#x27;,\n",
              "                 ColumnTransformer(remainder=&#x27;passthrough&#x27;,\n",
              "                                   transformers=[(&#x27;enc_cat&#x27;, TargetEncoder(),\n",
              "                                                  [&#x27;ip&#x27;, &#x27;app&#x27;, &#x27;device&#x27;, &#x27;os&#x27;,\n",
              "                                                   &#x27;channel&#x27;, &#x27;day_of_week&#x27;,\n",
              "                                                   &#x27;day&#x27;, &#x27;hour&#x27;, &#x27;minute&#x27;,\n",
              "                                                   &#x27;second&#x27;])])),\n",
              "                (&#x27;ros&#x27;, RandomOverSampler()), (&#x27;Lrm&#x27;, LogisticRegression())])</pre><b>In a Jupyter environment, please rerun this cell to show the HTML representation or trust the notebook. <br />On GitHub, the HTML representation is unable to render, please try loading this page with nbviewer.org.</b></div><div class=\"sk-container\" hidden><div class=\"sk-item sk-dashed-wrapped\"><div class=\"sk-label-container\"><div class=\"sk-label sk-toggleable\"><input class=\"sk-toggleable__control sk-hidden--visually\" id=\"sk-estimator-id-43\" type=\"checkbox\" ><label for=\"sk-estimator-id-43\" class=\"sk-toggleable__label sk-toggleable__label-arrow\">Pipeline</label><div class=\"sk-toggleable__content\"><pre>Pipeline(steps=[(&#x27;prc&#x27;,\n",
              "                 ColumnTransformer(remainder=&#x27;passthrough&#x27;,\n",
              "                                   transformers=[(&#x27;enc_cat&#x27;, TargetEncoder(),\n",
              "                                                  [&#x27;ip&#x27;, &#x27;app&#x27;, &#x27;device&#x27;, &#x27;os&#x27;,\n",
              "                                                   &#x27;channel&#x27;, &#x27;day_of_week&#x27;,\n",
              "                                                   &#x27;day&#x27;, &#x27;hour&#x27;, &#x27;minute&#x27;,\n",
              "                                                   &#x27;second&#x27;])])),\n",
              "                (&#x27;ros&#x27;, RandomOverSampler()), (&#x27;Lrm&#x27;, LogisticRegression())])</pre></div></div></div><div class=\"sk-serial\"><div class=\"sk-item sk-dashed-wrapped\"><div class=\"sk-label-container\"><div class=\"sk-label sk-toggleable\"><input class=\"sk-toggleable__control sk-hidden--visually\" id=\"sk-estimator-id-44\" type=\"checkbox\" ><label for=\"sk-estimator-id-44\" class=\"sk-toggleable__label sk-toggleable__label-arrow\">prc: ColumnTransformer</label><div class=\"sk-toggleable__content\"><pre>ColumnTransformer(remainder=&#x27;passthrough&#x27;,\n",
              "                  transformers=[(&#x27;enc_cat&#x27;, TargetEncoder(),\n",
              "                                 [&#x27;ip&#x27;, &#x27;app&#x27;, &#x27;device&#x27;, &#x27;os&#x27;, &#x27;channel&#x27;,\n",
              "                                  &#x27;day_of_week&#x27;, &#x27;day&#x27;, &#x27;hour&#x27;, &#x27;minute&#x27;,\n",
              "                                  &#x27;second&#x27;])])</pre></div></div></div><div class=\"sk-parallel\"><div class=\"sk-parallel-item\"><div class=\"sk-item\"><div class=\"sk-label-container\"><div class=\"sk-label sk-toggleable\"><input class=\"sk-toggleable__control sk-hidden--visually\" id=\"sk-estimator-id-45\" type=\"checkbox\" ><label for=\"sk-estimator-id-45\" class=\"sk-toggleable__label sk-toggleable__label-arrow\">enc_cat</label><div class=\"sk-toggleable__content\"><pre>[&#x27;ip&#x27;, &#x27;app&#x27;, &#x27;device&#x27;, &#x27;os&#x27;, &#x27;channel&#x27;, &#x27;day_of_week&#x27;, &#x27;day&#x27;, &#x27;hour&#x27;, &#x27;minute&#x27;, &#x27;second&#x27;]</pre></div></div></div><div class=\"sk-serial\"><div class=\"sk-item\"><div class=\"sk-estimator sk-toggleable\"><input class=\"sk-toggleable__control sk-hidden--visually\" id=\"sk-estimator-id-46\" type=\"checkbox\" ><label for=\"sk-estimator-id-46\" class=\"sk-toggleable__label sk-toggleable__label-arrow\">TargetEncoder</label><div class=\"sk-toggleable__content\"><pre>TargetEncoder()</pre></div></div></div></div></div></div><div class=\"sk-parallel-item\"><div class=\"sk-item\"><div class=\"sk-label-container\"><div class=\"sk-label sk-toggleable\"><input class=\"sk-toggleable__control sk-hidden--visually\" id=\"sk-estimator-id-47\" type=\"checkbox\" ><label for=\"sk-estimator-id-47\" class=\"sk-toggleable__label sk-toggleable__label-arrow\">remainder</label><div class=\"sk-toggleable__content\"><pre>[]</pre></div></div></div><div class=\"sk-serial\"><div class=\"sk-item\"><div class=\"sk-estimator sk-toggleable\"><input class=\"sk-toggleable__control sk-hidden--visually\" id=\"sk-estimator-id-48\" type=\"checkbox\" ><label for=\"sk-estimator-id-48\" class=\"sk-toggleable__label sk-toggleable__label-arrow\">passthrough</label><div class=\"sk-toggleable__content\"><pre>passthrough</pre></div></div></div></div></div></div></div></div><div class=\"sk-item\"><div class=\"sk-estimator sk-toggleable\"><input class=\"sk-toggleable__control sk-hidden--visually\" id=\"sk-estimator-id-49\" type=\"checkbox\" ><label for=\"sk-estimator-id-49\" class=\"sk-toggleable__label sk-toggleable__label-arrow\">RandomOverSampler</label><div class=\"sk-toggleable__content\"><pre>RandomOverSampler()</pre></div></div></div><div class=\"sk-item\"><div class=\"sk-estimator sk-toggleable\"><input class=\"sk-toggleable__control sk-hidden--visually\" id=\"sk-estimator-id-50\" type=\"checkbox\" ><label for=\"sk-estimator-id-50\" class=\"sk-toggleable__label sk-toggleable__label-arrow\">LogisticRegression</label><div class=\"sk-toggleable__content\"><pre>LogisticRegression()</pre></div></div></div></div></div></div></div>"
            ],
            "text/plain": [
              "Pipeline(steps=[('prc',\n",
              "                 ColumnTransformer(remainder='passthrough',\n",
              "                                   transformers=[('enc_cat', TargetEncoder(),\n",
              "                                                  ['ip', 'app', 'device', 'os',\n",
              "                                                   'channel', 'day_of_week',\n",
              "                                                   'day', 'hour', 'minute',\n",
              "                                                   'second'])])),\n",
              "                ('ros', RandomOverSampler()), ('Lrm', LogisticRegression())])"
            ]
          },
          "execution_count": 165,
          "metadata": {},
          "output_type": "execute_result"
        }
      ],
      "source": [
        "lr.fit(X_train,y_train)"
      ]
    },
    {
      "cell_type": "code",
      "execution_count": 166,
      "metadata": {
        "id": "NM_5hG5pMYs_"
      },
      "outputs": [],
      "source": [
        "y_pred = lr.predict(X_test)"
      ]
    },
    {
      "cell_type": "code",
      "execution_count": 167,
      "metadata": {
        "colab": {
          "base_uri": "https://localhost:8080/"
        },
        "id": "Y4WCFg3JMY0w",
        "outputId": "693df3be-e299-43f2-d388-37f4d6b00652"
      },
      "outputs": [
        {
          "name": "stdout",
          "output_type": "stream",
          "text": [
            "              precision    recall  f1-score   support\n",
            "\n",
            "           0       1.00      0.99      1.00     24943\n",
            "           1       0.19      0.67      0.29        57\n",
            "\n",
            "    accuracy                           0.99     25000\n",
            "   macro avg       0.59      0.83      0.64     25000\n",
            "weighted avg       1.00      0.99      0.99     25000\n",
            "\n"
          ]
        }
      ],
      "source": [
        "print(classification_report(y_test, y_pred))"
      ]
    },
    {
      "cell_type": "code",
      "execution_count": 168,
      "metadata": {
        "id": "YgBAWoZnMg2U"
      },
      "outputs": [],
      "source": [
        "features_names = lr.named_steps['prc'].named_transformers_['enc_cat'].get_feature_names_out()"
      ]
    },
    {
      "cell_type": "code",
      "execution_count": 169,
      "metadata": {
        "id": "EvWtaXADMg9f"
      },
      "outputs": [],
      "source": [
        "coef = lr.named_steps['Lrm'].coef_.flatten()"
      ]
    },
    {
      "cell_type": "code",
      "execution_count": 170,
      "metadata": {
        "colab": {
          "base_uri": "https://localhost:8080/",
          "height": 518
        },
        "id": "-ps-HQLtMhFE",
        "outputId": "fa65a48a-103f-4820-ae54-94b860e86cf5"
      },
      "outputs": [
        {
          "data": {
            "image/png": "[encoded data removed]",
            "text/plain": [
              "<Figure size 640x480 with 1 Axes>"
            ]
          },
          "metadata": {},
          "output_type": "display_data"
        }
      ],
      "source": [
        "#model interpretation\n",
        "pd.Series(coef, index= X.columns).sort_values().plot(kind='bar');"
      ]
    },
    {
      "cell_type": "code",
      "execution_count": 171,
      "metadata": {
        "colab": {
          "base_uri": "https://localhost:8080/"
        },
        "id": "wDWQ0JumMhNs",
        "outputId": "bd30a966-6f5f-403b-d717-62d7b663a726"
      },
      "outputs": [
        {
          "data": {
            "text/plain": [
              "ip             75.355356\n",
              "app            29.535583\n",
              "device         -0.328468\n",
              "os             -0.777165\n",
              "channel        15.423736\n",
              "day_of_week     0.307200\n",
              "day             0.307200\n",
              "hour            1.731779\n",
              "minute          3.201155\n",
              "second         -0.000036\n",
              "dtype: float64"
            ]
          },
          "execution_count": 171,
          "metadata": {},
          "output_type": "execute_result"
        }
      ],
      "source": [
        "pd.Series(coef, index=X.columns)"
      ]
    },
    {
      "attachments": {},
      "cell_type": "markdown",
      "metadata": {},
      "source": [
        "### Random Forest"
      ]
    },
    {
      "cell_type": "code",
      "execution_count": 172,
      "metadata": {
        "id": "-9hAh1EXMrrN"
      },
      "outputs": [],
      "source": [
        "rf = Pipeline(steps=[\n",
        "    ('prc',preprocessor),\n",
        "    ('ros',RandomOverSampler()),\n",
        "    ('dt',RandomForestClassifier())\n",
        "])"
      ]
    },
    {
      "cell_type": "code",
      "execution_count": 173,
      "metadata": {
        "colab": {
          "base_uri": "https://localhost:8080/",
          "height": 227
        },
        "id": "yNeFBNiaMry0",
        "outputId": "9fc7d70b-0cf6-4896-d689-af8cb00fbcc6"
      },
      "outputs": [
        {
          "data": {
            "text/html": [
              "<style>#sk-container-id-8 {color: black;background-color: white;}#sk-container-id-8 pre{padding: 0;}#sk-container-id-8 div.sk-toggleable {background-color: white;}#sk-container-id-8 label.sk-toggleable__label {cursor: pointer;display: block;width: 100%;margin-bottom: 0;padding: 0.3em;box-sizing: border-box;text-align: center;}#sk-container-id-8 label.sk-toggleable__label-arrow:before {content: \"▸\";float: left;margin-right: 0.25em;color: #696969;}#sk-container-id-8 label.sk-toggleable__label-arrow:hover:before {color: black;}#sk-container-id-8 div.sk-estimator:hover label.sk-toggleable__label-arrow:before {color: black;}#sk-container-id-8 div.sk-toggleable__content {max-height: 0;max-width: 0;overflow: hidden;text-align: left;background-color: #f0f8ff;}#sk-container-id-8 div.sk-toggleable__content pre {margin: 0.2em;color: black;border-radius: 0.25em;background-color: #f0f8ff;}#sk-container-id-8 input.sk-toggleable__control:checked~div.sk-toggleable__content {max-height: 200px;max-width: 100%;overflow: auto;}#sk-container-id-8 input.sk-toggleable__control:checked~label.sk-toggleable__label-arrow:before {content: \"▾\";}#sk-container-id-8 div.sk-estimator input.sk-toggleable__control:checked~label.sk-toggleable__label {background-color: #d4ebff;}#sk-container-id-8 div.sk-label input.sk-toggleable__control:checked~label.sk-toggleable__label {background-color: #d4ebff;}#sk-container-id-8 input.sk-hidden--visually {border: 0;clip: rect(1px 1px 1px 1px);clip: rect(1px, 1px, 1px, 1px);height: 1px;margin: -1px;overflow: hidden;padding: 0;position: absolute;width: 1px;}#sk-container-id-8 div.sk-estimator {font-family: monospace;background-color: #f0f8ff;border: 1px dotted black;border-radius: 0.25em;box-sizing: border-box;margin-bottom: 0.5em;}#sk-container-id-8 div.sk-estimator:hover {background-color: #d4ebff;}#sk-container-id-8 div.sk-parallel-item::after {content: \"\";width: 100%;border-bottom: 1px solid gray;flex-grow: 1;}#sk-container-id-8 div.sk-label:hover label.sk-toggleable__label {background-color: #d4ebff;}#sk-container-id-8 div.sk-serial::before {content: \"\";position: absolute;border-left: 1px solid gray;box-sizing: border-box;top: 0;bottom: 0;left: 50%;z-index: 0;}#sk-container-id-8 div.sk-serial {display: flex;flex-direction: column;align-items: center;background-color: white;padding-right: 0.2em;padding-left: 0.2em;position: relative;}#sk-container-id-8 div.sk-item {position: relative;z-index: 1;}#sk-container-id-8 div.sk-parallel {display: flex;align-items: stretch;justify-content: center;background-color: white;position: relative;}#sk-container-id-8 div.sk-item::before, #sk-container-id-8 div.sk-parallel-item::before {content: \"\";position: absolute;border-left: 1px solid gray;box-sizing: border-box;top: 0;bottom: 0;left: 50%;z-index: -1;}#sk-container-id-8 div.sk-parallel-item {display: flex;flex-direction: column;z-index: 1;position: relative;background-color: white;}#sk-container-id-8 div.sk-parallel-item:first-child::after {align-self: flex-end;width: 50%;}#sk-container-id-8 div.sk-parallel-item:last-child::after {align-self: flex-start;width: 50%;}#sk-container-id-8 div.sk-parallel-item:only-child::after {width: 0;}#sk-container-id-8 div.sk-dashed-wrapped {border: 1px dashed gray;margin: 0 0.4em 0.5em 0.4em;box-sizing: border-box;padding-bottom: 0.4em;background-color: white;}#sk-container-id-8 div.sk-label label {font-family: monospace;font-weight: bold;display: inline-block;line-height: 1.2em;}#sk-container-id-8 div.sk-label-container {text-align: center;}#sk-container-id-8 div.sk-container {/* jupyter's `normalize.less` sets `[hidden] { display: none; }` but bootstrap.min.css set `[hidden] { display: none !important; }` so we also need the `!important` here to be able to override the default hidden behavior on the sphinx rendered scikit-learn.org. See: https://github.com/scikit-learn/scikit-learn/issues/21755 */display: inline-block !important;position: relative;}#sk-container-id-8 div.sk-text-repr-fallback {display: none;}</style><div id=\"sk-container-id-8\" class=\"sk-top-container\"><div class=\"sk-text-repr-fallback\"><pre>Pipeline(steps=[(&#x27;prc&#x27;,\n",
              "                 ColumnTransformer(remainder=&#x27;passthrough&#x27;,\n",
              "                                   transformers=[(&#x27;enc_cat&#x27;, TargetEncoder(),\n",
              "                                                  [&#x27;ip&#x27;, &#x27;app&#x27;, &#x27;device&#x27;, &#x27;os&#x27;,\n",
              "                                                   &#x27;channel&#x27;, &#x27;day_of_week&#x27;,\n",
              "                                                   &#x27;day&#x27;, &#x27;hour&#x27;, &#x27;minute&#x27;,\n",
              "                                                   &#x27;second&#x27;])])),\n",
              "                (&#x27;ros&#x27;, RandomOverSampler()),\n",
              "                (&#x27;dt&#x27;, RandomForestClassifier())])</pre><b>In a Jupyter environment, please rerun this cell to show the HTML representation or trust the notebook. <br />On GitHub, the HTML representation is unable to render, please try loading this page with nbviewer.org.</b></div><div class=\"sk-container\" hidden><div class=\"sk-item sk-dashed-wrapped\"><div class=\"sk-label-container\"><div class=\"sk-label sk-toggleable\"><input class=\"sk-toggleable__control sk-hidden--visually\" id=\"sk-estimator-id-51\" type=\"checkbox\" ><label for=\"sk-estimator-id-51\" class=\"sk-toggleable__label sk-toggleable__label-arrow\">Pipeline</label><div class=\"sk-toggleable__content\"><pre>Pipeline(steps=[(&#x27;prc&#x27;,\n",
              "                 ColumnTransformer(remainder=&#x27;passthrough&#x27;,\n",
              "                                   transformers=[(&#x27;enc_cat&#x27;, TargetEncoder(),\n",
              "                                                  [&#x27;ip&#x27;, &#x27;app&#x27;, &#x27;device&#x27;, &#x27;os&#x27;,\n",
              "                                                   &#x27;channel&#x27;, &#x27;day_of_week&#x27;,\n",
              "                                                   &#x27;day&#x27;, &#x27;hour&#x27;, &#x27;minute&#x27;,\n",
              "                                                   &#x27;second&#x27;])])),\n",
              "                (&#x27;ros&#x27;, RandomOverSampler()),\n",
              "                (&#x27;dt&#x27;, RandomForestClassifier())])</pre></div></div></div><div class=\"sk-serial\"><div class=\"sk-item sk-dashed-wrapped\"><div class=\"sk-label-container\"><div class=\"sk-label sk-toggleable\"><input class=\"sk-toggleable__control sk-hidden--visually\" id=\"sk-estimator-id-52\" type=\"checkbox\" ><label for=\"sk-estimator-id-52\" class=\"sk-toggleable__label sk-toggleable__label-arrow\">prc: ColumnTransformer</label><div class=\"sk-toggleable__content\"><pre>ColumnTransformer(remainder=&#x27;passthrough&#x27;,\n",
              "                  transformers=[(&#x27;enc_cat&#x27;, TargetEncoder(),\n",
              "                                 [&#x27;ip&#x27;, &#x27;app&#x27;, &#x27;device&#x27;, &#x27;os&#x27;, &#x27;channel&#x27;,\n",
              "                                  &#x27;day_of_week&#x27;, &#x27;day&#x27;, &#x27;hour&#x27;, &#x27;minute&#x27;,\n",
              "                                  &#x27;second&#x27;])])</pre></div></div></div><div class=\"sk-parallel\"><div class=\"sk-parallel-item\"><div class=\"sk-item\"><div class=\"sk-label-container\"><div class=\"sk-label sk-toggleable\"><input class=\"sk-toggleable__control sk-hidden--visually\" id=\"sk-estimator-id-53\" type=\"checkbox\" ><label for=\"sk-estimator-id-53\" class=\"sk-toggleable__label sk-toggleable__label-arrow\">enc_cat</label><div class=\"sk-toggleable__content\"><pre>[&#x27;ip&#x27;, &#x27;app&#x27;, &#x27;device&#x27;, &#x27;os&#x27;, &#x27;channel&#x27;, &#x27;day_of_week&#x27;, &#x27;day&#x27;, &#x27;hour&#x27;, &#x27;minute&#x27;, &#x27;second&#x27;]</pre></div></div></div><div class=\"sk-serial\"><div class=\"sk-item\"><div class=\"sk-estimator sk-toggleable\"><input class=\"sk-toggleable__control sk-hidden--visually\" id=\"sk-estimator-id-54\" type=\"checkbox\" ><label for=\"sk-estimator-id-54\" class=\"sk-toggleable__label sk-toggleable__label-arrow\">TargetEncoder</label><div class=\"sk-toggleable__content\"><pre>TargetEncoder()</pre></div></div></div></div></div></div><div class=\"sk-parallel-item\"><div class=\"sk-item\"><div class=\"sk-label-container\"><div class=\"sk-label sk-toggleable\"><input class=\"sk-toggleable__control sk-hidden--visually\" id=\"sk-estimator-id-55\" type=\"checkbox\" ><label for=\"sk-estimator-id-55\" class=\"sk-toggleable__label sk-toggleable__label-arrow\">remainder</label><div class=\"sk-toggleable__content\"><pre>[]</pre></div></div></div><div class=\"sk-serial\"><div class=\"sk-item\"><div class=\"sk-estimator sk-toggleable\"><input class=\"sk-toggleable__control sk-hidden--visually\" id=\"sk-estimator-id-56\" type=\"checkbox\" ><label for=\"sk-estimator-id-56\" class=\"sk-toggleable__label sk-toggleable__label-arrow\">passthrough</label><div class=\"sk-toggleable__content\"><pre>passthrough</pre></div></div></div></div></div></div></div></div><div class=\"sk-item\"><div class=\"sk-estimator sk-toggleable\"><input class=\"sk-toggleable__control sk-hidden--visually\" id=\"sk-estimator-id-57\" type=\"checkbox\" ><label for=\"sk-estimator-id-57\" class=\"sk-toggleable__label sk-toggleable__label-arrow\">RandomOverSampler</label><div class=\"sk-toggleable__content\"><pre>RandomOverSampler()</pre></div></div></div><div class=\"sk-item\"><div class=\"sk-estimator sk-toggleable\"><input class=\"sk-toggleable__control sk-hidden--visually\" id=\"sk-estimator-id-58\" type=\"checkbox\" ><label for=\"sk-estimator-id-58\" class=\"sk-toggleable__label sk-toggleable__label-arrow\">RandomForestClassifier</label><div class=\"sk-toggleable__content\"><pre>RandomForestClassifier()</pre></div></div></div></div></div></div></div>"
            ],
            "text/plain": [
              "Pipeline(steps=[('prc',\n",
              "                 ColumnTransformer(remainder='passthrough',\n",
              "                                   transformers=[('enc_cat', TargetEncoder(),\n",
              "                                                  ['ip', 'app', 'device', 'os',\n",
              "                                                   'channel', 'day_of_week',\n",
              "                                                   'day', 'hour', 'minute',\n",
              "                                                   'second'])])),\n",
              "                ('ros', RandomOverSampler()),\n",
              "                ('dt', RandomForestClassifier())])"
            ]
          },
          "execution_count": 173,
          "metadata": {},
          "output_type": "execute_result"
        }
      ],
      "source": [
        "rf.fit(X_train,y_train)"
      ]
    },
    {
      "cell_type": "code",
      "execution_count": 174,
      "metadata": {
        "colab": {
          "base_uri": "https://localhost:8080/"
        },
        "id": "W4I0fFo8MsH2",
        "outputId": "81052cdd-8d2f-43ff-e94a-e099d75ffcc1"
      },
      "outputs": [
        {
          "name": "stdout",
          "output_type": "stream",
          "text": [
            "              precision    recall  f1-score   support\n",
            "\n",
            "           0       1.00      1.00      1.00     24943\n",
            "           1       0.00      0.00      0.00        57\n",
            "\n",
            "    accuracy                           1.00     25000\n",
            "   macro avg       0.50      0.50      0.50     25000\n",
            "weighted avg       1.00      1.00      1.00     25000\n",
            "\n"
          ]
        }
      ],
      "source": [
        "y_pred = rf.predict(X_test)\n",
        "print(classification_report(y_test, y_pred))"
      ]
    },
    {
      "attachments": {},
      "cell_type": "markdown",
      "metadata": {},
      "source": [
        "### XGBoost Classifier"
      ]
    },
    {
      "cell_type": "code",
      "execution_count": 175,
      "metadata": {},
      "outputs": [],
      "source": [
        "import xgboost as xgb"
      ]
    },
    {
      "cell_type": "code",
      "execution_count": 202,
      "metadata": {},
      "outputs": [],
      "source": [
        "params = {'eta': 0.3,\n",
        "          'tree_method': \"hist\",\n",
        "          'grow_policy': \"lossguide\",\n",
        "          'max_leaves': 1400,  \n",
        "          'max_depth': 0, \n",
        "          'subsample': 0.9, \n",
        "          'colsample_bytree': 0.7, \n",
        "          'colsample_bylevel':0.7,\n",
        "          'min_child_weight':0,\n",
        "          'alpha':4,\n",
        "          'objective': 'binary:logistic', \n",
        "          'scale_pos_weight':9,\n",
        "          'eval_metric': 'auc', \n",
        "          'nthread':8,\n",
        "          'random_state': 99}"
      ]
    },
    {
      "cell_type": "code",
      "execution_count": 203,
      "metadata": {},
      "outputs": [],
      "source": [
        "class XGBTransformer:\n",
        "    def __init__(self, params):\n",
        "        self.params = params\n",
        "        self.clf = None\n",
        "        \n",
        "    def fit(self, X, y):\n",
        "        self.clf = xgb.XGBClassifier(**self.params)\n",
        "        self.clf.fit(X, y)\n",
        "        return self\n",
        "    \n",
        "    def transform(self, X):\n",
        "        return self.clf.predict(X)\n",
        "\n",
        "    def predict(self, X):\n",
        "        return self.clf.predict(X)"
      ]
    },
    {
      "cell_type": "code",
      "execution_count": 204,
      "metadata": {},
      "outputs": [],
      "source": [
        "xg = Pipeline(steps=[\n",
        "    ('prc',preprocessor),\n",
        "    ('ros',RandomOverSampler()),\n",
        "    ('xgb_transformer', XGBTransformer(params))\n",
        "])"
      ]
    },
    {
      "cell_type": "code",
      "execution_count": 205,
      "metadata": {},
      "outputs": [
        {
          "data": {
            "text/html": [
              "<style>#sk-container-id-13 {color: black;background-color: white;}#sk-container-id-13 pre{padding: 0;}#sk-container-id-13 div.sk-toggleable {background-color: white;}#sk-container-id-13 label.sk-toggleable__label {cursor: pointer;display: block;width: 100%;margin-bottom: 0;padding: 0.3em;box-sizing: border-box;text-align: center;}#sk-container-id-13 label.sk-toggleable__label-arrow:before {content: \"▸\";float: left;margin-right: 0.25em;color: #696969;}#sk-container-id-13 label.sk-toggleable__label-arrow:hover:before {color: black;}#sk-container-id-13 div.sk-estimator:hover label.sk-toggleable__label-arrow:before {color: black;}#sk-container-id-13 div.sk-toggleable__content {max-height: 0;max-width: 0;overflow: hidden;text-align: left;background-color: #f0f8ff;}#sk-container-id-13 div.sk-toggleable__content pre {margin: 0.2em;color: black;border-radius: 0.25em;background-color: #f0f8ff;}#sk-container-id-13 input.sk-toggleable__control:checked~div.sk-toggleable__content {max-height: 200px;max-width: 100%;overflow: auto;}#sk-container-id-13 input.sk-toggleable__control:checked~label.sk-toggleable__label-arrow:before {content: \"▾\";}#sk-container-id-13 div.sk-estimator input.sk-toggleable__control:checked~label.sk-toggleable__label {background-color: #d4ebff;}#sk-container-id-13 div.sk-label input.sk-toggleable__control:checked~label.sk-toggleable__label {background-color: #d4ebff;}#sk-container-id-13 input.sk-hidden--visually {border: 0;clip: rect(1px 1px 1px 1px);clip: rect(1px, 1px, 1px, 1px);height: 1px;margin: -1px;overflow: hidden;padding: 0;position: absolute;width: 1px;}#sk-container-id-13 div.sk-estimator {font-family: monospace;background-color: #f0f8ff;border: 1px dotted black;border-radius: 0.25em;box-sizing: border-box;margin-bottom: 0.5em;}#sk-container-id-13 div.sk-estimator:hover {background-color: #d4ebff;}#sk-container-id-13 div.sk-parallel-item::after {content: \"\";width: 100%;border-bottom: 1px solid gray;flex-grow: 1;}#sk-container-id-13 div.sk-label:hover label.sk-toggleable__label {background-color: #d4ebff;}#sk-container-id-13 div.sk-serial::before {content: \"\";position: absolute;border-left: 1px solid gray;box-sizing: border-box;top: 0;bottom: 0;left: 50%;z-index: 0;}#sk-container-id-13 div.sk-serial {display: flex;flex-direction: column;align-items: center;background-color: white;padding-right: 0.2em;padding-left: 0.2em;position: relative;}#sk-container-id-13 div.sk-item {position: relative;z-index: 1;}#sk-container-id-13 div.sk-parallel {display: flex;align-items: stretch;justify-content: center;background-color: white;position: relative;}#sk-container-id-13 div.sk-item::before, #sk-container-id-13 div.sk-parallel-item::before {content: \"\";position: absolute;border-left: 1px solid gray;box-sizing: border-box;top: 0;bottom: 0;left: 50%;z-index: -1;}#sk-container-id-13 div.sk-parallel-item {display: flex;flex-direction: column;z-index: 1;position: relative;background-color: white;}#sk-container-id-13 div.sk-parallel-item:first-child::after {align-self: flex-end;width: 50%;}#sk-container-id-13 div.sk-parallel-item:last-child::after {align-self: flex-start;width: 50%;}#sk-container-id-13 div.sk-parallel-item:only-child::after {width: 0;}#sk-container-id-13 div.sk-dashed-wrapped {border: 1px dashed gray;margin: 0 0.4em 0.5em 0.4em;box-sizing: border-box;padding-bottom: 0.4em;background-color: white;}#sk-container-id-13 div.sk-label label {font-family: monospace;font-weight: bold;display: inline-block;line-height: 1.2em;}#sk-container-id-13 div.sk-label-container {text-align: center;}#sk-container-id-13 div.sk-container {/* jupyter's `normalize.less` sets `[hidden] { display: none; }` but bootstrap.min.css set `[hidden] { display: none !important; }` so we also need the `!important` here to be able to override the default hidden behavior on the sphinx rendered scikit-learn.org. See: https://github.com/scikit-learn/scikit-learn/issues/21755 */display: inline-block !important;position: relative;}#sk-container-id-13 div.sk-text-repr-fallback {display: none;}</style><div id=\"sk-container-id-13\" class=\"sk-top-container\"><div class=\"sk-text-repr-fallback\"><pre>Pipeline(steps=[(&#x27;prc&#x27;,\n",
              "                 ColumnTransformer(remainder=&#x27;passthrough&#x27;,\n",
              "                                   transformers=[(&#x27;enc_cat&#x27;, TargetEncoder(),\n",
              "                                                  [&#x27;ip&#x27;, &#x27;app&#x27;, &#x27;device&#x27;, &#x27;os&#x27;,\n",
              "                                                   &#x27;channel&#x27;, &#x27;day_of_week&#x27;,\n",
              "                                                   &#x27;day&#x27;, &#x27;hour&#x27;, &#x27;minute&#x27;,\n",
              "                                                   &#x27;second&#x27;])])),\n",
              "                (&#x27;ros&#x27;, RandomOverSampler()),\n",
              "                (&#x27;xgb_transformer&#x27;,\n",
              "                 &lt;__main__.XGBTransformer object at 0x000002579FF9E850&gt;)])</pre><b>In a Jupyter environment, please rerun this cell to show the HTML representation or trust the notebook. <br />On GitHub, the HTML representation is unable to render, please try loading this page with nbviewer.org.</b></div><div class=\"sk-container\" hidden><div class=\"sk-item sk-dashed-wrapped\"><div class=\"sk-label-container\"><div class=\"sk-label sk-toggleable\"><input class=\"sk-toggleable__control sk-hidden--visually\" id=\"sk-estimator-id-91\" type=\"checkbox\" ><label for=\"sk-estimator-id-91\" class=\"sk-toggleable__label sk-toggleable__label-arrow\">Pipeline</label><div class=\"sk-toggleable__content\"><pre>Pipeline(steps=[(&#x27;prc&#x27;,\n",
              "                 ColumnTransformer(remainder=&#x27;passthrough&#x27;,\n",
              "                                   transformers=[(&#x27;enc_cat&#x27;, TargetEncoder(),\n",
              "                                                  [&#x27;ip&#x27;, &#x27;app&#x27;, &#x27;device&#x27;, &#x27;os&#x27;,\n",
              "                                                   &#x27;channel&#x27;, &#x27;day_of_week&#x27;,\n",
              "                                                   &#x27;day&#x27;, &#x27;hour&#x27;, &#x27;minute&#x27;,\n",
              "                                                   &#x27;second&#x27;])])),\n",
              "                (&#x27;ros&#x27;, RandomOverSampler()),\n",
              "                (&#x27;xgb_transformer&#x27;,\n",
              "                 &lt;__main__.XGBTransformer object at 0x000002579FF9E850&gt;)])</pre></div></div></div><div class=\"sk-serial\"><div class=\"sk-item sk-dashed-wrapped\"><div class=\"sk-label-container\"><div class=\"sk-label sk-toggleable\"><input class=\"sk-toggleable__control sk-hidden--visually\" id=\"sk-estimator-id-92\" type=\"checkbox\" ><label for=\"sk-estimator-id-92\" class=\"sk-toggleable__label sk-toggleable__label-arrow\">prc: ColumnTransformer</label><div class=\"sk-toggleable__content\"><pre>ColumnTransformer(remainder=&#x27;passthrough&#x27;,\n",
              "                  transformers=[(&#x27;enc_cat&#x27;, TargetEncoder(),\n",
              "                                 [&#x27;ip&#x27;, &#x27;app&#x27;, &#x27;device&#x27;, &#x27;os&#x27;, &#x27;channel&#x27;,\n",
              "                                  &#x27;day_of_week&#x27;, &#x27;day&#x27;, &#x27;hour&#x27;, &#x27;minute&#x27;,\n",
              "                                  &#x27;second&#x27;])])</pre></div></div></div><div class=\"sk-parallel\"><div class=\"sk-parallel-item\"><div class=\"sk-item\"><div class=\"sk-label-container\"><div class=\"sk-label sk-toggleable\"><input class=\"sk-toggleable__control sk-hidden--visually\" id=\"sk-estimator-id-93\" type=\"checkbox\" ><label for=\"sk-estimator-id-93\" class=\"sk-toggleable__label sk-toggleable__label-arrow\">enc_cat</label><div class=\"sk-toggleable__content\"><pre>[&#x27;ip&#x27;, &#x27;app&#x27;, &#x27;device&#x27;, &#x27;os&#x27;, &#x27;channel&#x27;, &#x27;day_of_week&#x27;, &#x27;day&#x27;, &#x27;hour&#x27;, &#x27;minute&#x27;, &#x27;second&#x27;]</pre></div></div></div><div class=\"sk-serial\"><div class=\"sk-item\"><div class=\"sk-estimator sk-toggleable\"><input class=\"sk-toggleable__control sk-hidden--visually\" id=\"sk-estimator-id-94\" type=\"checkbox\" ><label for=\"sk-estimator-id-94\" class=\"sk-toggleable__label sk-toggleable__label-arrow\">TargetEncoder</label><div class=\"sk-toggleable__content\"><pre>TargetEncoder()</pre></div></div></div></div></div></div><div class=\"sk-parallel-item\"><div class=\"sk-item\"><div class=\"sk-label-container\"><div class=\"sk-label sk-toggleable\"><input class=\"sk-toggleable__control sk-hidden--visually\" id=\"sk-estimator-id-95\" type=\"checkbox\" ><label for=\"sk-estimator-id-95\" class=\"sk-toggleable__label sk-toggleable__label-arrow\">remainder</label><div class=\"sk-toggleable__content\"><pre>[]</pre></div></div></div><div class=\"sk-serial\"><div class=\"sk-item\"><div class=\"sk-estimator sk-toggleable\"><input class=\"sk-toggleable__control sk-hidden--visually\" id=\"sk-estimator-id-96\" type=\"checkbox\" ><label for=\"sk-estimator-id-96\" class=\"sk-toggleable__label sk-toggleable__label-arrow\">passthrough</label><div class=\"sk-toggleable__content\"><pre>passthrough</pre></div></div></div></div></div></div></div></div><div class=\"sk-item\"><div class=\"sk-estimator sk-toggleable\"><input class=\"sk-toggleable__control sk-hidden--visually\" id=\"sk-estimator-id-97\" type=\"checkbox\" ><label for=\"sk-estimator-id-97\" class=\"sk-toggleable__label sk-toggleable__label-arrow\">RandomOverSampler</label><div class=\"sk-toggleable__content\"><pre>RandomOverSampler()</pre></div></div></div><div class=\"sk-item\"><div class=\"sk-estimator sk-toggleable\"><input class=\"sk-toggleable__control sk-hidden--visually\" id=\"sk-estimator-id-98\" type=\"checkbox\" ><label for=\"sk-estimator-id-98\" class=\"sk-toggleable__label sk-toggleable__label-arrow\">XGBTransformer</label><div class=\"sk-toggleable__content\"><pre>&lt;__main__.XGBTransformer object at 0x000002579FF9E850&gt;</pre></div></div></div></div></div></div></div>"
            ],
            "text/plain": [
              "Pipeline(steps=[('prc',\n",
              "                 ColumnTransformer(remainder='passthrough',\n",
              "                                   transformers=[('enc_cat', TargetEncoder(),\n",
              "                                                  ['ip', 'app', 'device', 'os',\n",
              "                                                   'channel', 'day_of_week',\n",
              "                                                   'day', 'hour', 'minute',\n",
              "                                                   'second'])])),\n",
              "                ('ros', RandomOverSampler()),\n",
              "                ('xgb_transformer',\n",
              "                 <__main__.XGBTransformer object at 0x000002579FF9E850>)])"
            ]
          },
          "execution_count": 205,
          "metadata": {},
          "output_type": "execute_result"
        }
      ],
      "source": [
        "xg.fit(X_train,y_train)"
      ]
    },
    {
      "cell_type": "code",
      "execution_count": 206,
      "metadata": {},
      "outputs": [
        {
          "name": "stdout",
          "output_type": "stream",
          "text": [
            "              precision    recall  f1-score   support\n",
            "\n",
            "           0       1.00      1.00      1.00     24943\n",
            "           1       0.00      0.00      0.00        57\n",
            "\n",
            "    accuracy                           1.00     25000\n",
            "   macro avg       0.50      0.50      0.50     25000\n",
            "weighted avg       1.00      1.00      1.00     25000\n",
            "\n"
          ]
        }
      ],
      "source": [
        "y_pred = xg.predict(X_test)\n",
        "print(classification_report(y_test, y_pred))"
      ]
    },
    {
      "attachments": {},
      "cell_type": "markdown",
      "metadata": {},
      "source": [
        "### Cross Validation"
      ]
    },
    {
      "cell_type": "code",
      "execution_count": 107,
      "metadata": {
        "id": "y6fSLQEpXQNG"
      },
      "outputs": [],
      "source": [
        "#cross validation \n",
        "from sklearn.model_selection import cross_val_score\n",
        "score= cross_val_score(rf,X,y,cv=5)"
      ]
    },
    {
      "cell_type": "code",
      "execution_count": 109,
      "metadata": {
        "colab": {
          "base_uri": "https://localhost:8080/"
        },
        "id": "nGVbnwGsXy8Y",
        "outputId": "98f1d34c-be61-44f1-9f79-b388c1f49383"
      },
      "outputs": [
        {
          "data": {
            "text/plain": [
              "0.9976200000000001"
            ]
          },
          "execution_count": 109,
          "metadata": {},
          "output_type": "execute_result"
        }
      ],
      "source": [
        "score.mean()"
      ]
    },
    {
      "attachments": {},
      "cell_type": "markdown",
      "metadata": {
        "id": "KKVEDo1VZOXz"
      },
      "source": [
        "### Hyperparameter Tuning for my model"
      ]
    },
    {
      "cell_type": "code",
      "execution_count": 115,
      "metadata": {
        "id": "pQbJ8-MScBNk"
      },
      "outputs": [],
      "source": [
        "param_grids = {\n",
        "    \"dt__n_estimators\":[50,100,150],\n",
        "    \"dt__max_depth\":[10,20,30],\n",
        "    \"dt__criterion\":['gini','entropy']\n",
        "}\n",
        "\n",
        "gs=GridSearchCV(rf, param_grid=param_grids,cv=5,scoring = 'accuracy')"
      ]
    },
    {
      "cell_type": "code",
      "execution_count": 116,
      "metadata": {
        "colab": {
          "base_uri": "https://localhost:8080/",
          "height": 253
        },
        "id": "end-lKPfdwYo",
        "outputId": "fe298c95-a679-438f-c0ad-a14ccd7f0734"
      },
      "outputs": [
        {
          "data": {
            "text/html": [
              "<style>#sk-container-id-4 {color: black;background-color: white;}#sk-container-id-4 pre{padding: 0;}#sk-container-id-4 div.sk-toggleable {background-color: white;}#sk-container-id-4 label.sk-toggleable__label {cursor: pointer;display: block;width: 100%;margin-bottom: 0;padding: 0.3em;box-sizing: border-box;text-align: center;}#sk-container-id-4 label.sk-toggleable__label-arrow:before {content: \"▸\";float: left;margin-right: 0.25em;color: #696969;}#sk-container-id-4 label.sk-toggleable__label-arrow:hover:before {color: black;}#sk-container-id-4 div.sk-estimator:hover label.sk-toggleable__label-arrow:before {color: black;}#sk-container-id-4 div.sk-toggleable__content {max-height: 0;max-width: 0;overflow: hidden;text-align: left;background-color: #f0f8ff;}#sk-container-id-4 div.sk-toggleable__content pre {margin: 0.2em;color: black;border-radius: 0.25em;background-color: #f0f8ff;}#sk-container-id-4 input.sk-toggleable__control:checked~div.sk-toggleable__content {max-height: 200px;max-width: 100%;overflow: auto;}#sk-container-id-4 input.sk-toggleable__control:checked~label.sk-toggleable__label-arrow:before {content: \"▾\";}#sk-container-id-4 div.sk-estimator input.sk-toggleable__control:checked~label.sk-toggleable__label {background-color: #d4ebff;}#sk-container-id-4 div.sk-label input.sk-toggleable__control:checked~label.sk-toggleable__label {background-color: #d4ebff;}#sk-container-id-4 input.sk-hidden--visually {border: 0;clip: rect(1px 1px 1px 1px);clip: rect(1px, 1px, 1px, 1px);height: 1px;margin: -1px;overflow: hidden;padding: 0;position: absolute;width: 1px;}#sk-container-id-4 div.sk-estimator {font-family: monospace;background-color: #f0f8ff;border: 1px dotted black;border-radius: 0.25em;box-sizing: border-box;margin-bottom: 0.5em;}#sk-container-id-4 div.sk-estimator:hover {background-color: #d4ebff;}#sk-container-id-4 div.sk-parallel-item::after {content: \"\";width: 100%;border-bottom: 1px solid gray;flex-grow: 1;}#sk-container-id-4 div.sk-label:hover label.sk-toggleable__label {background-color: #d4ebff;}#sk-container-id-4 div.sk-serial::before {content: \"\";position: absolute;border-left: 1px solid gray;box-sizing: border-box;top: 0;bottom: 0;left: 50%;z-index: 0;}#sk-container-id-4 div.sk-serial {display: flex;flex-direction: column;align-items: center;background-color: white;padding-right: 0.2em;padding-left: 0.2em;position: relative;}#sk-container-id-4 div.sk-item {position: relative;z-index: 1;}#sk-container-id-4 div.sk-parallel {display: flex;align-items: stretch;justify-content: center;background-color: white;position: relative;}#sk-container-id-4 div.sk-item::before, #sk-container-id-4 div.sk-parallel-item::before {content: \"\";position: absolute;border-left: 1px solid gray;box-sizing: border-box;top: 0;bottom: 0;left: 50%;z-index: -1;}#sk-container-id-4 div.sk-parallel-item {display: flex;flex-direction: column;z-index: 1;position: relative;background-color: white;}#sk-container-id-4 div.sk-parallel-item:first-child::after {align-self: flex-end;width: 50%;}#sk-container-id-4 div.sk-parallel-item:last-child::after {align-self: flex-start;width: 50%;}#sk-container-id-4 div.sk-parallel-item:only-child::after {width: 0;}#sk-container-id-4 div.sk-dashed-wrapped {border: 1px dashed gray;margin: 0 0.4em 0.5em 0.4em;box-sizing: border-box;padding-bottom: 0.4em;background-color: white;}#sk-container-id-4 div.sk-label label {font-family: monospace;font-weight: bold;display: inline-block;line-height: 1.2em;}#sk-container-id-4 div.sk-label-container {text-align: center;}#sk-container-id-4 div.sk-container {/* jupyter's `normalize.less` sets `[hidden] { display: none; }` but bootstrap.min.css set `[hidden] { display: none !important; }` so we also need the `!important` here to be able to override the default hidden behavior on the sphinx rendered scikit-learn.org. See: https://github.com/scikit-learn/scikit-learn/issues/21755 */display: inline-block !important;position: relative;}#sk-container-id-4 div.sk-text-repr-fallback {display: none;}</style><div id=\"sk-container-id-4\" class=\"sk-top-container\"><div class=\"sk-text-repr-fallback\"><pre>GridSearchCV(cv=5,\n",
              "             estimator=Pipeline(steps=[(&#x27;prc&#x27;,\n",
              "                                        ColumnTransformer(remainder=&#x27;passthrough&#x27;,\n",
              "                                                          transformers=[(&#x27;enc_cat&#x27;,\n",
              "                                                                         TargetEncoder(),\n",
              "                                                                         [&#x27;ip&#x27;,\n",
              "                                                                          &#x27;app&#x27;,\n",
              "                                                                          &#x27;device&#x27;,\n",
              "                                                                          &#x27;os&#x27;,\n",
              "                                                                          &#x27;channel&#x27;,\n",
              "                                                                          &#x27;day_of_week&#x27;,\n",
              "                                                                          &#x27;day&#x27;,\n",
              "                                                                          &#x27;hour&#x27;,\n",
              "                                                                          &#x27;minute&#x27;,\n",
              "                                                                          &#x27;second&#x27;])])),\n",
              "                                       (&#x27;ros&#x27;, RandomOverSampler()),\n",
              "                                       (&#x27;dt&#x27;, RandomForestClassifier())]),\n",
              "             param_grid={&#x27;dt__criterion&#x27;: [&#x27;gini&#x27;, &#x27;entropy&#x27;],\n",
              "                         &#x27;dt__max_depth&#x27;: [10, 20, 30],\n",
              "                         &#x27;dt__n_estimators&#x27;: [50, 100, 150]},\n",
              "             scoring=&#x27;accuracy&#x27;)</pre><b>In a Jupyter environment, please rerun this cell to show the HTML representation or trust the notebook. <br />On GitHub, the HTML representation is unable to render, please try loading this page with nbviewer.org.</b></div><div class=\"sk-container\" hidden><div class=\"sk-item sk-dashed-wrapped\"><div class=\"sk-label-container\"><div class=\"sk-label sk-toggleable\"><input class=\"sk-toggleable__control sk-hidden--visually\" id=\"sk-estimator-id-18\" type=\"checkbox\" ><label for=\"sk-estimator-id-18\" class=\"sk-toggleable__label sk-toggleable__label-arrow\">GridSearchCV</label><div class=\"sk-toggleable__content\"><pre>GridSearchCV(cv=5,\n",
              "             estimator=Pipeline(steps=[(&#x27;prc&#x27;,\n",
              "                                        ColumnTransformer(remainder=&#x27;passthrough&#x27;,\n",
              "                                                          transformers=[(&#x27;enc_cat&#x27;,\n",
              "                                                                         TargetEncoder(),\n",
              "                                                                         [&#x27;ip&#x27;,\n",
              "                                                                          &#x27;app&#x27;,\n",
              "                                                                          &#x27;device&#x27;,\n",
              "                                                                          &#x27;os&#x27;,\n",
              "                                                                          &#x27;channel&#x27;,\n",
              "                                                                          &#x27;day_of_week&#x27;,\n",
              "                                                                          &#x27;day&#x27;,\n",
              "                                                                          &#x27;hour&#x27;,\n",
              "                                                                          &#x27;minute&#x27;,\n",
              "                                                                          &#x27;second&#x27;])])),\n",
              "                                       (&#x27;ros&#x27;, RandomOverSampler()),\n",
              "                                       (&#x27;dt&#x27;, RandomForestClassifier())]),\n",
              "             param_grid={&#x27;dt__criterion&#x27;: [&#x27;gini&#x27;, &#x27;entropy&#x27;],\n",
              "                         &#x27;dt__max_depth&#x27;: [10, 20, 30],\n",
              "                         &#x27;dt__n_estimators&#x27;: [50, 100, 150]},\n",
              "             scoring=&#x27;accuracy&#x27;)</pre></div></div></div><div class=\"sk-parallel\"><div class=\"sk-parallel-item\"><div class=\"sk-item\"><div class=\"sk-label-container\"><div class=\"sk-label sk-toggleable\"><input class=\"sk-toggleable__control sk-hidden--visually\" id=\"sk-estimator-id-19\" type=\"checkbox\" ><label for=\"sk-estimator-id-19\" class=\"sk-toggleable__label sk-toggleable__label-arrow\">estimator: Pipeline</label><div class=\"sk-toggleable__content\"><pre>Pipeline(steps=[(&#x27;prc&#x27;,\n",
              "                 ColumnTransformer(remainder=&#x27;passthrough&#x27;,\n",
              "                                   transformers=[(&#x27;enc_cat&#x27;, TargetEncoder(),\n",
              "                                                  [&#x27;ip&#x27;, &#x27;app&#x27;, &#x27;device&#x27;, &#x27;os&#x27;,\n",
              "                                                   &#x27;channel&#x27;, &#x27;day_of_week&#x27;,\n",
              "                                                   &#x27;day&#x27;, &#x27;hour&#x27;, &#x27;minute&#x27;,\n",
              "                                                   &#x27;second&#x27;])])),\n",
              "                (&#x27;ros&#x27;, RandomOverSampler()),\n",
              "                (&#x27;dt&#x27;, RandomForestClassifier())])</pre></div></div></div><div class=\"sk-serial\"><div class=\"sk-item\"><div class=\"sk-serial\"><div class=\"sk-item sk-dashed-wrapped\"><div class=\"sk-label-container\"><div class=\"sk-label sk-toggleable\"><input class=\"sk-toggleable__control sk-hidden--visually\" id=\"sk-estimator-id-20\" type=\"checkbox\" ><label for=\"sk-estimator-id-20\" class=\"sk-toggleable__label sk-toggleable__label-arrow\">prc: ColumnTransformer</label><div class=\"sk-toggleable__content\"><pre>ColumnTransformer(remainder=&#x27;passthrough&#x27;,\n",
              "                  transformers=[(&#x27;enc_cat&#x27;, TargetEncoder(),\n",
              "                                 [&#x27;ip&#x27;, &#x27;app&#x27;, &#x27;device&#x27;, &#x27;os&#x27;, &#x27;channel&#x27;,\n",
              "                                  &#x27;day_of_week&#x27;, &#x27;day&#x27;, &#x27;hour&#x27;, &#x27;minute&#x27;,\n",
              "                                  &#x27;second&#x27;])])</pre></div></div></div><div class=\"sk-parallel\"><div class=\"sk-parallel-item\"><div class=\"sk-item\"><div class=\"sk-label-container\"><div class=\"sk-label sk-toggleable\"><input class=\"sk-toggleable__control sk-hidden--visually\" id=\"sk-estimator-id-21\" type=\"checkbox\" ><label for=\"sk-estimator-id-21\" class=\"sk-toggleable__label sk-toggleable__label-arrow\">enc_cat</label><div class=\"sk-toggleable__content\"><pre>[&#x27;ip&#x27;, &#x27;app&#x27;, &#x27;device&#x27;, &#x27;os&#x27;, &#x27;channel&#x27;, &#x27;day_of_week&#x27;, &#x27;day&#x27;, &#x27;hour&#x27;, &#x27;minute&#x27;, &#x27;second&#x27;]</pre></div></div></div><div class=\"sk-serial\"><div class=\"sk-item\"><div class=\"sk-estimator sk-toggleable\"><input class=\"sk-toggleable__control sk-hidden--visually\" id=\"sk-estimator-id-22\" type=\"checkbox\" ><label for=\"sk-estimator-id-22\" class=\"sk-toggleable__label sk-toggleable__label-arrow\">TargetEncoder</label><div class=\"sk-toggleable__content\"><pre>TargetEncoder()</pre></div></div></div></div></div></div><div class=\"sk-parallel-item\"><div class=\"sk-item\"><div class=\"sk-label-container\"><div class=\"sk-label sk-toggleable\"><input class=\"sk-toggleable__control sk-hidden--visually\" id=\"sk-estimator-id-23\" type=\"checkbox\" ><label for=\"sk-estimator-id-23\" class=\"sk-toggleable__label sk-toggleable__label-arrow\">remainder</label><div class=\"sk-toggleable__content\"><pre>[]</pre></div></div></div><div class=\"sk-serial\"><div class=\"sk-item\"><div class=\"sk-estimator sk-toggleable\"><input class=\"sk-toggleable__control sk-hidden--visually\" id=\"sk-estimator-id-24\" type=\"checkbox\" ><label for=\"sk-estimator-id-24\" class=\"sk-toggleable__label sk-toggleable__label-arrow\">passthrough</label><div class=\"sk-toggleable__content\"><pre>passthrough</pre></div></div></div></div></div></div></div></div><div class=\"sk-item\"><div class=\"sk-estimator sk-toggleable\"><input class=\"sk-toggleable__control sk-hidden--visually\" id=\"sk-estimator-id-25\" type=\"checkbox\" ><label for=\"sk-estimator-id-25\" class=\"sk-toggleable__label sk-toggleable__label-arrow\">RandomOverSampler</label><div class=\"sk-toggleable__content\"><pre>RandomOverSampler()</pre></div></div></div><div class=\"sk-item\"><div class=\"sk-estimator sk-toggleable\"><input class=\"sk-toggleable__control sk-hidden--visually\" id=\"sk-estimator-id-26\" type=\"checkbox\" ><label for=\"sk-estimator-id-26\" class=\"sk-toggleable__label sk-toggleable__label-arrow\">RandomForestClassifier</label><div class=\"sk-toggleable__content\"><pre>RandomForestClassifier()</pre></div></div></div></div></div></div></div></div></div></div></div></div>"
            ],
            "text/plain": [
              "GridSearchCV(cv=5,\n",
              "             estimator=Pipeline(steps=[('prc',\n",
              "                                        ColumnTransformer(remainder='passthrough',\n",
              "                                                          transformers=[('enc_cat',\n",
              "                                                                         TargetEncoder(),\n",
              "                                                                         ['ip',\n",
              "                                                                          'app',\n",
              "                                                                          'device',\n",
              "                                                                          'os',\n",
              "                                                                          'channel',\n",
              "                                                                          'day_of_week',\n",
              "                                                                          'day',\n",
              "                                                                          'hour',\n",
              "                                                                          'minute',\n",
              "                                                                          'second'])])),\n",
              "                                       ('ros', RandomOverSampler()),\n",
              "                                       ('dt', RandomForestClassifier())]),\n",
              "             param_grid={'dt__criterion': ['gini', 'entropy'],\n",
              "                         'dt__max_depth': [10, 20, 30],\n",
              "                         'dt__n_estimators': [50, 100, 150]},\n",
              "             scoring='accuracy')"
            ]
          },
          "execution_count": 116,
          "metadata": {},
          "output_type": "execute_result"
        }
      ],
      "source": [
        "gs.fit(X,y)"
      ]
    },
    {
      "cell_type": "code",
      "execution_count": 117,
      "metadata": {
        "colab": {
          "base_uri": "https://localhost:8080/"
        },
        "id": "bvNW4N2Cd4J7",
        "outputId": "9411a472-054e-4f5a-9301-5e529b942c0b"
      },
      "outputs": [
        {
          "name": "stdout",
          "output_type": "stream",
          "text": [
            "Best HyperParameter:  {'dt__criterion': 'gini', 'dt__max_depth': 20, 'dt__n_estimators': 50}\n",
            "Best Score:  0.9976600000000001\n"
          ]
        }
      ],
      "source": [
        "print('Best HyperParameter: ',gs.best_params_)\n",
        "print('Best Score: ',gs.best_score_)"
      ]
    },
    {
      "cell_type": "code",
      "execution_count": 118,
      "metadata": {
        "colab": {
          "base_uri": "https://localhost:8080/"
        },
        "id": "7hNr0qYkegM2",
        "outputId": "b0002e17-f186-4ce0-9153-34602123729e"
      },
      "outputs": [
        {
          "name": "stdout",
          "output_type": "stream",
          "text": [
            "              precision    recall  f1-score   support\n",
            "\n",
            "           0       1.00      1.00      1.00     24943\n",
            "           1       1.00      1.00      1.00        57\n",
            "\n",
            "    accuracy                           1.00     25000\n",
            "   macro avg       1.00      1.00      1.00     25000\n",
            "weighted avg       1.00      1.00      1.00     25000\n",
            "\n"
          ]
        }
      ],
      "source": [
        "best_model = gs.best_estimator_\n",
        "y_pred = best_model.predict(X_test)\n",
        "print(classification_report(y_test,y_pred))"
      ]
    },
    {
      "cell_type": "code",
      "execution_count": null,
      "metadata": {
        "id": "mBlk_NZDe4Pw"
      },
      "outputs": [],
      "source": []
    },
    {
      "attachments": {},
      "cell_type": "markdown",
      "metadata": {},
      "source": [
        "## Performance of Model"
      ]
    },
    {
      "cell_type": "code",
      "execution_count": 119,
      "metadata": {
        "id": "RfKt1SSKMxeU"
      },
      "outputs": [],
      "source": [
        "from sklearn.metrics import roc_curve,auc\n",
        "proba = (lr.predict_proba(X_test)[:,1])\n",
        "fpr,tpr,thresholds = roc_curve(y_test,proba)"
      ]
    },
    {
      "cell_type": "code",
      "execution_count": 209,
      "metadata": {},
      "outputs": [
        {
          "data": {
            "image/png": "[encoded data removed]",
            "text/plain": [
              "<Figure size 640x480 with 1 Axes>"
            ]
          },
          "metadata": {},
          "output_type": "display_data"
        }
      ],
      "source": [
        "from sklearn.metrics import roc_curve, auc\n",
        "# Compute micro-average ROC curve and ROC area\n",
        "fpr, tpr, _ = roc_curve(y_test.values, proba)\n",
        "roc_auc = auc(fpr, tpr)\n",
        "plt.figure()\n",
        "lw = 2\n",
        "plt.plot(fpr, tpr, color='darkorange',\n",
        "         lw=lw, label='ROC curve (area = %0.2f)' % roc_auc)\n",
        "plt.plot([0, 1], [0, 1], color='navy', lw=lw, linestyle='--', label='Random Guessing')\n",
        "plt.xlim([-0.02, 1.0])\n",
        "plt.ylim([0.0, 1.05])\n",
        "plt.xlabel('False Positive Rate')\n",
        "plt.ylabel('True Positive Rate')\n",
        "plt.title('ROC curve')\n",
        "plt.legend(loc=\"lower right\")\n",
        "plt.show()"
      ]
    },
    {
      "cell_type": "code",
      "execution_count": null,
      "metadata": {
        "id": "b0Z4hnaGM05E"
      },
      "outputs": [],
      "source": []
    },
    {
      "cell_type": "code",
      "execution_count": 123,
      "metadata": {
        "colab": {
          "base_uri": "https://localhost:8080/",
          "height": 480
        },
        "id": "9S1dT7aNM1A_",
        "outputId": "df5472aa-3d8f-4902-e477-60c2311ed63d"
      },
      "outputs": [
        {
          "data": {
            "image/png": "[encoded data removed]",
            "text/plain": [
              "<Figure size 640x480 with 1 Axes>"
            ]
          },
          "metadata": {},
          "output_type": "display_data"
        }
      ],
      "source": [
        "proba = lr.predict_proba(X_test)[:,1]\n",
        "lr_precision, lr_recall, _ = precision_recall_curve(y_test, proba)\n",
        "\n",
        "lr_f1 = f1_score(y_test, y_pred)\n",
        "lr_auc = auc(lr_recall, lr_precision)\n",
        "no_skill = len(y_test[y_test==1])/len(y_test)\n",
        "\n",
        "\n",
        "pyplot.plot([0, 1], [no_skill, no_skill], linestyle='--', label='No Skill')\n",
        "pyplot.plot(lr_recall, lr_precision, marker='.', label='Logistic')\n",
        "# axis labels\n",
        "pyplot.xlabel('Recall')\n",
        "pyplot.ylabel('Precision')\n",
        "# show the legend\n",
        "pyplot.legend()\n",
        "# show the plot\n",
        "plt.title(\"Precision Recall Chart\")\n",
        "pyplot.show();\n"
      ]
    },
    {
      "cell_type": "code",
      "execution_count": null,
      "metadata": {
        "id": "wfRzPtZuzl1W"
      },
      "outputs": [],
      "source": []
    }
  ],
  "metadata": {
    "colab": {
      "provenance": [],
      "toc_visible": true
    },
    "kernelspec": {
      "display_name": "Python 3",
      "name": "python3"
    },
    "language_info": {
      "codemirror_mode": {
        "name": "ipython",
        "version": 3
      },
      "file_extension": ".py",
      "mimetype": "text/x-python",
      "name": "python",
      "nbconvert_exporter": "python",
      "pygments_lexer": "ipython3",
      "version": "3.11.3"
    }
  },
  "nbformat": 4,
  "nbformat_minor": 0
}
